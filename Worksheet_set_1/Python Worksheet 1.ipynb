{
 "cells": [
  {
   "cell_type": "markdown",
   "metadata": {},
   "source": [
    "# Q11. Python program to find the factorial of a number."
   ]
  },
  {
   "cell_type": "code",
   "execution_count": 1,
   "metadata": {},
   "outputs": [
    {
     "name": "stdout",
     "output_type": "stream",
     "text": [
      "Enter the number:8\n",
      "The factorial of 7 is 8\n",
      "The factorial of 6 is 56\n",
      "The factorial of 5 is 336\n",
      "The factorial of 4 is 1680\n",
      "The factorial of 3 is 6720\n",
      "The factorial of 2 is 20160\n",
      "The factorial of 1 is 40320\n",
      "The factorial of 0 is 40320\n"
     ]
    }
   ],
   "source": [
    "i=int(input(\"Enter the number:\"))\n",
    "fac=1\n",
    "while(i>0):\n",
    "    fac=fac*i\n",
    "    i=i-1\n",
    "    print(\"The factorial of\",i,\"is\",fac)"
   ]
  },
  {
   "cell_type": "markdown",
   "metadata": {},
   "source": [
    "# Q12. Python program to find whether a number is prime or composite."
   ]
  },
  {
   "cell_type": "code",
   "execution_count": 9,
   "metadata": {},
   "outputs": [
    {
     "name": "stdout",
     "output_type": "stream",
     "text": [
      "Enter any number : 15\n",
      "15 is NOT a prime number\n"
     ]
    }
   ],
   "source": [
    "num = int(input(\"Enter any number : \"))\n",
    "if num > 1:\n",
    "    for i in range(2, num):\n",
    "        if (num % i) == 0:\n",
    "            print(num, \"is NOT a prime number\")\n",
    "            break\n",
    "    else:\n",
    "        print(num, \"is a PRIME number\")\n",
    "elif num == 0 or 1:\n",
    "    print(num, \"is a neither prime NOR composite number\")\n",
    "else:\n",
    "    print(num, \"is NOT a prime number it is a COMPOSITE number\")"
   ]
  },
  {
   "cell_type": "markdown",
   "metadata": {},
   "source": [
    "# Q13. Python program to check whether a given string is palindrome or not."
   ]
  },
  {
   "cell_type": "code",
   "execution_count": 4,
   "metadata": {},
   "outputs": [
    {
     "name": "stdout",
     "output_type": "stream",
     "text": [
      "Yes\n"
     ]
    }
   ],
   "source": [
    "a = \"tenet\"\n",
    " \n",
    "b = \"\"\n",
    "for i in a:\n",
    "    b = i + b\n",
    "    \n",
    "if (a == b):\n",
    "    print(\"Yes\")\n",
    "else:\n",
    "    print(\"No\")"
   ]
  },
  {
   "cell_type": "markdown",
   "metadata": {},
   "source": [
    "# Q14. Python program to get the third side of right-angled triangle from two given sides."
   ]
  },
  {
   "cell_type": "code",
   "execution_count": 5,
   "metadata": {},
   "outputs": [
    {
     "name": "stdout",
     "output_type": "stream",
     "text": [
      "5.0\n"
     ]
    }
   ],
   "source": [
    "def findHypotenuse(side1, side2):\n",
    " \n",
    "    h = (((side1 * side1) + (side2 * side2))**(1/2));\n",
    "    return h;\n",
    " \n",
    "side1 = 3;\n",
    "side2 = 4;\n",
    " \n",
    "print(findHypotenuse(side1, side2));"
   ]
  },
  {
   "cell_type": "markdown",
   "metadata": {},
   "source": [
    "# Q15. Python program to print the frequency of each of the characters present in a given string."
   ]
  },
  {
   "cell_type": "code",
   "execution_count": 11,
   "metadata": {},
   "outputs": [
    {
     "name": "stdout",
     "output_type": "stream",
     "text": [
      "Given String:  learn\n",
      "Frequency of each character :\n",
      "  {'l': 1}\n",
      "Frequency of each character :\n",
      "  {'l': 1, 'e': 1}\n",
      "Frequency of each character :\n",
      "  {'l': 1, 'e': 1, 'a': 1}\n",
      "Frequency of each character :\n",
      "  {'l': 1, 'e': 1, 'a': 1, 'r': 1}\n",
      "Frequency of each character :\n",
      "  {'l': 1, 'e': 1, 'a': 1, 'r': 1, 'n': 1}\n"
     ]
    }
   ],
   "source": [
    "strZ = \"learn\"\n",
    "print(\"Given String: \",strZ)\n",
    "res = {}\n",
    "\n",
    "for keys in strZ:\n",
    "    res[keys] = res.get(keys, 0) + 1\n",
    "    print(\"Frequency of each character :\\n \",res)"
   ]
  },
  {
   "cell_type": "code",
   "execution_count": null,
   "metadata": {},
   "outputs": [],
   "source": []
  }
 ],
 "metadata": {
  "kernelspec": {
   "display_name": "Python 3",
   "language": "python",
   "name": "python3"
  },
  "language_info": {
   "codemirror_mode": {
    "name": "ipython",
    "version": 3
   },
   "file_extension": ".py",
   "mimetype": "text/x-python",
   "name": "python",
   "nbconvert_exporter": "python",
   "pygments_lexer": "ipython3",
   "version": "3.8.5"
  }
 },
 "nbformat": 4,
 "nbformat_minor": 4
}
