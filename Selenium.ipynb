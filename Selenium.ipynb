{
 "cells": [
  {
   "cell_type": "markdown",
   "metadata": {},
   "source": [
    "# WEB SCRAPING ASSIGNMENT-2\n",
    "\n",
    "# Q1"
   ]
  },
  {
   "cell_type": "code",
   "execution_count": 1,
   "metadata": {},
   "outputs": [],
   "source": [
    "import selenium\n",
    "import pandas as pd\n",
    "from selenium import webdriver"
   ]
  },
  {
   "cell_type": "code",
   "execution_count": 2,
   "metadata": {},
   "outputs": [],
   "source": [
    "driver = webdriver.Chrome(r\"C:\\Users\\hp\\Desktop\\Flip Robo\\chromedriver.exe\")"
   ]
  },
  {
   "cell_type": "code",
   "execution_count": 3,
   "metadata": {},
   "outputs": [],
   "source": [
    "url = 'https://www.naukri.com/'\n",
    "driver.get(url)"
   ]
  },
  {
   "cell_type": "code",
   "execution_count": 7,
   "metadata": {},
   "outputs": [],
   "source": [
    "search_job= driver.find_element_by_id(\"qsb-keyword-sugg\")\n",
    "search_job\n",
    "search_job.send_keys(\"Data Analyst\")"
   ]
  },
  {
   "cell_type": "code",
   "execution_count": 8,
   "metadata": {},
   "outputs": [],
   "source": [
    "search_loc=driver.find_element_by_id(\"qsb-location-sugg\")\n",
    "search_loc\n",
    "search_loc.send_keys(\"Banglore\")"
   ]
  },
  {
   "cell_type": "code",
   "execution_count": 9,
   "metadata": {},
   "outputs": [],
   "source": [
    "search_btn=driver.find_element_by_xpath(\"//button[@class='btn']\")\n",
    "search_btn\n",
    "search_btn.click()"
   ]
  },
  {
   "cell_type": "code",
   "execution_count": 10,
   "metadata": {},
   "outputs": [
    {
     "data": {
      "text/plain": [
       "[<selenium.webdriver.remote.webelement.WebElement (session=\"da1415e2c13b59005593d83dbf4c4716\", element=\"7339366f-1007-47d3-a5a2-07fc9b8b3891\")>,\n",
       " <selenium.webdriver.remote.webelement.WebElement (session=\"da1415e2c13b59005593d83dbf4c4716\", element=\"0715d9cf-d866-4aa6-9f48-a9b40cb95642\")>,\n",
       " <selenium.webdriver.remote.webelement.WebElement (session=\"da1415e2c13b59005593d83dbf4c4716\", element=\"d3708f27-1851-4b86-9009-ec8265b745e7\")>,\n",
       " <selenium.webdriver.remote.webelement.WebElement (session=\"da1415e2c13b59005593d83dbf4c4716\", element=\"d222cf40-4386-4fda-ba92-ea2b5ab347bc\")>,\n",
       " <selenium.webdriver.remote.webelement.WebElement (session=\"da1415e2c13b59005593d83dbf4c4716\", element=\"89b51935-9476-401b-b3d5-8d42cc699281\")>,\n",
       " <selenium.webdriver.remote.webelement.WebElement (session=\"da1415e2c13b59005593d83dbf4c4716\", element=\"2a833515-783e-4a4f-bfbb-6eccfed1f98b\")>,\n",
       " <selenium.webdriver.remote.webelement.WebElement (session=\"da1415e2c13b59005593d83dbf4c4716\", element=\"92adbc5a-e835-486c-b786-b1afe5cd7b80\")>,\n",
       " <selenium.webdriver.remote.webelement.WebElement (session=\"da1415e2c13b59005593d83dbf4c4716\", element=\"a75467c3-fdb7-441d-bdb9-22104146c60c\")>,\n",
       " <selenium.webdriver.remote.webelement.WebElement (session=\"da1415e2c13b59005593d83dbf4c4716\", element=\"cc9291b9-fe94-4e44-9b9d-91cf9eef20bf\")>,\n",
       " <selenium.webdriver.remote.webelement.WebElement (session=\"da1415e2c13b59005593d83dbf4c4716\", element=\"55301dff-4800-43a9-9fef-1999ae338dc5\")>,\n",
       " <selenium.webdriver.remote.webelement.WebElement (session=\"da1415e2c13b59005593d83dbf4c4716\", element=\"e3dbdfba-f1e4-4743-bf9b-b9ee5fc2f676\")>,\n",
       " <selenium.webdriver.remote.webelement.WebElement (session=\"da1415e2c13b59005593d83dbf4c4716\", element=\"91677c18-9226-4628-a17f-2764f1ba4c08\")>,\n",
       " <selenium.webdriver.remote.webelement.WebElement (session=\"da1415e2c13b59005593d83dbf4c4716\", element=\"4575ff22-dfaa-4a9f-97ce-4968f66ff6f3\")>,\n",
       " <selenium.webdriver.remote.webelement.WebElement (session=\"da1415e2c13b59005593d83dbf4c4716\", element=\"ccb4732c-947c-455a-8490-c236ecdda38d\")>,\n",
       " <selenium.webdriver.remote.webelement.WebElement (session=\"da1415e2c13b59005593d83dbf4c4716\", element=\"a28db234-d90e-4169-babe-5cd607b3465f\")>,\n",
       " <selenium.webdriver.remote.webelement.WebElement (session=\"da1415e2c13b59005593d83dbf4c4716\", element=\"a52e57a4-45eb-47b3-b747-80f96326e051\")>,\n",
       " <selenium.webdriver.remote.webelement.WebElement (session=\"da1415e2c13b59005593d83dbf4c4716\", element=\"c359df56-a8f0-4b1d-8ccf-1423eb1f89b3\")>,\n",
       " <selenium.webdriver.remote.webelement.WebElement (session=\"da1415e2c13b59005593d83dbf4c4716\", element=\"161d5237-19cd-4261-8a77-275bfc9800e5\")>,\n",
       " <selenium.webdriver.remote.webelement.WebElement (session=\"da1415e2c13b59005593d83dbf4c4716\", element=\"504092d4-de66-48de-8801-1ce569fd8302\")>,\n",
       " <selenium.webdriver.remote.webelement.WebElement (session=\"da1415e2c13b59005593d83dbf4c4716\", element=\"f1b343e4-74c1-4a98-9c8a-861ae7056b54\")>]"
      ]
     },
     "execution_count": 10,
     "metadata": {},
     "output_type": "execute_result"
    }
   ],
   "source": [
    "job_titles=driver.find_elements_by_xpath(\"//a[@class='title fw500 ellipsis']\")\n",
    "job_titles"
   ]
  },
  {
   "cell_type": "code",
   "execution_count": 11,
   "metadata": {},
   "outputs": [
    {
     "data": {
      "text/plain": [
       "['Senior Data Analyst',\n",
       " 'Tcs Hiring For Senior Data Analyst (bfsi domain)',\n",
       " 'Business Data Analyst',\n",
       " 'Business Data Analyst',\n",
       " 'Business Data Analyst - Google Data Studio & SQL',\n",
       " 'Senior Data Analyst',\n",
       " 'Tcs Hiring For MDM (master data management) Data Analyst (bfsi domain)',\n",
       " 'Senior Data Analyst IDAM Services',\n",
       " 'Data Analyst/Sr.Data Engineer',\n",
       " 'SENIOR DATA ANALYST',\n",
       " 'Executive Data Analyst',\n",
       " 'Senior Data Analyst IN4',\n",
       " 'Analyst & Designer - Software - Data Analysis',\n",
       " 'Data Analyst - I/II',\n",
       " 'Systems and Data Analyst, Safety and Provisioning',\n",
       " 'Data Analyst',\n",
       " 'Business Data Analyst - MIS & Reporting',\n",
       " 'Sr Data Analyst',\n",
       " 'Senior Data Analyst',\n",
       " 'Senior Data Analyst']"
      ]
     },
     "execution_count": 11,
     "metadata": {},
     "output_type": "execute_result"
    }
   ],
   "source": [
    "Job_titles=[]\n",
    "for i in job_titles:\n",
    "    Job_titles.append(i.text)\n",
    "Job_titles"
   ]
  },
  {
   "cell_type": "code",
   "execution_count": 12,
   "metadata": {},
   "outputs": [
    {
     "data": {
      "text/plain": [
       "20"
      ]
     },
     "execution_count": 12,
     "metadata": {},
     "output_type": "execute_result"
    }
   ],
   "source": [
    "len(job_titles)"
   ]
  },
  {
   "cell_type": "code",
   "execution_count": 13,
   "metadata": {},
   "outputs": [
    {
     "data": {
      "text/plain": [
       "[<selenium.webdriver.remote.webelement.WebElement (session=\"da1415e2c13b59005593d83dbf4c4716\", element=\"74e4b519-917b-48a4-9112-e32d3e2eead2\")>,\n",
       " <selenium.webdriver.remote.webelement.WebElement (session=\"da1415e2c13b59005593d83dbf4c4716\", element=\"b5b0b662-47d1-4331-8971-0b010acfd540\")>,\n",
       " <selenium.webdriver.remote.webelement.WebElement (session=\"da1415e2c13b59005593d83dbf4c4716\", element=\"c9d7ced7-33b8-4a20-88de-3b7d12f55bcc\")>,\n",
       " <selenium.webdriver.remote.webelement.WebElement (session=\"da1415e2c13b59005593d83dbf4c4716\", element=\"4997528a-f2ed-4892-803e-71ea5d3d6e19\")>,\n",
       " <selenium.webdriver.remote.webelement.WebElement (session=\"da1415e2c13b59005593d83dbf4c4716\", element=\"da31b84a-ceeb-4041-b7bd-98c3d699e633\")>,\n",
       " <selenium.webdriver.remote.webelement.WebElement (session=\"da1415e2c13b59005593d83dbf4c4716\", element=\"800baf12-7fe2-424f-8d23-6cd718ba7a85\")>,\n",
       " <selenium.webdriver.remote.webelement.WebElement (session=\"da1415e2c13b59005593d83dbf4c4716\", element=\"de634f70-e3f8-4201-b46b-daced25320bd\")>,\n",
       " <selenium.webdriver.remote.webelement.WebElement (session=\"da1415e2c13b59005593d83dbf4c4716\", element=\"e5d98423-ddf4-4b2c-ab1e-f76f66851105\")>,\n",
       " <selenium.webdriver.remote.webelement.WebElement (session=\"da1415e2c13b59005593d83dbf4c4716\", element=\"d96622d8-f4f3-4a35-a826-30b96f5a6106\")>,\n",
       " <selenium.webdriver.remote.webelement.WebElement (session=\"da1415e2c13b59005593d83dbf4c4716\", element=\"f59fc060-b918-4a2a-b877-bb9724b6abe8\")>,\n",
       " <selenium.webdriver.remote.webelement.WebElement (session=\"da1415e2c13b59005593d83dbf4c4716\", element=\"b72bc2d0-b7af-4e38-a99b-e769c17df0b6\")>,\n",
       " <selenium.webdriver.remote.webelement.WebElement (session=\"da1415e2c13b59005593d83dbf4c4716\", element=\"c25f66ee-05ec-4217-bb01-4ab3291490cb\")>,\n",
       " <selenium.webdriver.remote.webelement.WebElement (session=\"da1415e2c13b59005593d83dbf4c4716\", element=\"6786d546-a294-406a-a354-af25aa98ac63\")>,\n",
       " <selenium.webdriver.remote.webelement.WebElement (session=\"da1415e2c13b59005593d83dbf4c4716\", element=\"6dd5b6cd-3615-4c52-a814-a1bb262513ee\")>,\n",
       " <selenium.webdriver.remote.webelement.WebElement (session=\"da1415e2c13b59005593d83dbf4c4716\", element=\"83ac48f9-24c1-451d-bf24-92c1112bafd3\")>,\n",
       " <selenium.webdriver.remote.webelement.WebElement (session=\"da1415e2c13b59005593d83dbf4c4716\", element=\"25307321-df60-48e5-adb5-f73c7b7106be\")>,\n",
       " <selenium.webdriver.remote.webelement.WebElement (session=\"da1415e2c13b59005593d83dbf4c4716\", element=\"9dd1f5d3-5d20-4e37-8b8c-f5c4789bcce5\")>,\n",
       " <selenium.webdriver.remote.webelement.WebElement (session=\"da1415e2c13b59005593d83dbf4c4716\", element=\"32beed3e-35ce-4f92-bc4e-5b751834cfeb\")>,\n",
       " <selenium.webdriver.remote.webelement.WebElement (session=\"da1415e2c13b59005593d83dbf4c4716\", element=\"015c60f7-f399-4b57-8039-e0a9562e6cce\")>,\n",
       " <selenium.webdriver.remote.webelement.WebElement (session=\"da1415e2c13b59005593d83dbf4c4716\", element=\"aa31d27f-30a8-4612-ab90-c881df135866\")>]"
      ]
     },
     "execution_count": 13,
     "metadata": {},
     "output_type": "execute_result"
    }
   ],
   "source": [
    "job_location= driver.find_elements_by_xpath(\"//li[@class='fleft grey-text br2 placeHolderLi location']//span[1]\")\n",
    "job_location"
   ]
  },
  {
   "cell_type": "code",
   "execution_count": 14,
   "metadata": {},
   "outputs": [
    {
     "data": {
      "text/plain": [
       "['Gurgaon/Gurugram, Bangalore/Bengaluru',\n",
       " 'Chennai, Bangalore/Bengaluru',\n",
       " 'Bangalore/Bengaluru',\n",
       " 'Bangalore/Bengaluru',\n",
       " 'Bangalore/Bengaluru',\n",
       " 'Hyderabad/Secunderabad, Pune, Gurgaon/Gurugram, Chennai, Bangalore/Bengaluru, Mumbai (All Areas)',\n",
       " 'Chennai, Bangalore/Bengaluru',\n",
       " 'Bangalore/Bengaluru',\n",
       " 'Hyderabad/Secunderabad, Chennai, Bangalore/Bengaluru',\n",
       " 'Bangalore/Bengaluru',\n",
       " 'Bangalore/Bengaluru',\n",
       " 'Bangalore/Bengaluru',\n",
       " 'Bangalore/Bengaluru',\n",
       " 'Bangalore/Bengaluru',\n",
       " 'Bangalore/Bengaluru',\n",
       " 'Bengaluru/Bangalore',\n",
       " 'Mumbai, Bangalore/Bengaluru',\n",
       " 'Bangalore/Bengaluru',\n",
       " 'Bangalore/Bengaluru',\n",
       " 'Bangalore/Bengaluru']"
      ]
     },
     "execution_count": 14,
     "metadata": {},
     "output_type": "execute_result"
    }
   ],
   "source": [
    "Job_location= []\n",
    "for i in job_location:\n",
    "    Job_location.append(i.text)\n",
    "Job_location"
   ]
  },
  {
   "cell_type": "code",
   "execution_count": 15,
   "metadata": {},
   "outputs": [
    {
     "data": {
      "text/plain": [
       "20"
      ]
     },
     "execution_count": 15,
     "metadata": {},
     "output_type": "execute_result"
    }
   ],
   "source": [
    "len(Job_location)"
   ]
  },
  {
   "cell_type": "code",
   "execution_count": 16,
   "metadata": {},
   "outputs": [
    {
     "data": {
      "text/plain": [
       "[<selenium.webdriver.remote.webelement.WebElement (session=\"da1415e2c13b59005593d83dbf4c4716\", element=\"5d7c672a-5ece-4fe1-acfb-85a7e95400e3\")>,\n",
       " <selenium.webdriver.remote.webelement.WebElement (session=\"da1415e2c13b59005593d83dbf4c4716\", element=\"44385d40-82e7-4db4-9d4e-b5b0d4ef8a3d\")>,\n",
       " <selenium.webdriver.remote.webelement.WebElement (session=\"da1415e2c13b59005593d83dbf4c4716\", element=\"3062804d-b927-40fb-9382-f8a51350765e\")>,\n",
       " <selenium.webdriver.remote.webelement.WebElement (session=\"da1415e2c13b59005593d83dbf4c4716\", element=\"022bda7a-e54f-46da-a831-6f5c926e811e\")>,\n",
       " <selenium.webdriver.remote.webelement.WebElement (session=\"da1415e2c13b59005593d83dbf4c4716\", element=\"86db151f-3812-4d03-a416-556efc038ad9\")>,\n",
       " <selenium.webdriver.remote.webelement.WebElement (session=\"da1415e2c13b59005593d83dbf4c4716\", element=\"f2003824-1cd0-456a-90ae-148a8908ac9f\")>,\n",
       " <selenium.webdriver.remote.webelement.WebElement (session=\"da1415e2c13b59005593d83dbf4c4716\", element=\"d86d23c4-68a7-4a1f-ac5b-391dc16a292d\")>,\n",
       " <selenium.webdriver.remote.webelement.WebElement (session=\"da1415e2c13b59005593d83dbf4c4716\", element=\"4cbd8d59-fc8e-463e-853b-c8503727907b\")>,\n",
       " <selenium.webdriver.remote.webelement.WebElement (session=\"da1415e2c13b59005593d83dbf4c4716\", element=\"60486945-ffc9-4a2d-976b-8e58f54077a4\")>,\n",
       " <selenium.webdriver.remote.webelement.WebElement (session=\"da1415e2c13b59005593d83dbf4c4716\", element=\"7c4c2eef-306c-46a0-8a0b-ad98026017b1\")>,\n",
       " <selenium.webdriver.remote.webelement.WebElement (session=\"da1415e2c13b59005593d83dbf4c4716\", element=\"ec443ac1-3a15-40ab-aa21-632a00918199\")>,\n",
       " <selenium.webdriver.remote.webelement.WebElement (session=\"da1415e2c13b59005593d83dbf4c4716\", element=\"efd7a750-9afe-430a-84ac-2ec4ef50b323\")>,\n",
       " <selenium.webdriver.remote.webelement.WebElement (session=\"da1415e2c13b59005593d83dbf4c4716\", element=\"da7adcef-ad21-4973-94d1-e1e021b52a6e\")>,\n",
       " <selenium.webdriver.remote.webelement.WebElement (session=\"da1415e2c13b59005593d83dbf4c4716\", element=\"1007f310-fd00-498a-9a3c-c89235f0634b\")>,\n",
       " <selenium.webdriver.remote.webelement.WebElement (session=\"da1415e2c13b59005593d83dbf4c4716\", element=\"d041cdce-8b87-462a-8d55-317be1437482\")>,\n",
       " <selenium.webdriver.remote.webelement.WebElement (session=\"da1415e2c13b59005593d83dbf4c4716\", element=\"1edb3765-942d-4eb7-a33a-f0a96a784421\")>,\n",
       " <selenium.webdriver.remote.webelement.WebElement (session=\"da1415e2c13b59005593d83dbf4c4716\", element=\"46c9eda6-1510-4963-81e1-3295e7db5ebe\")>,\n",
       " <selenium.webdriver.remote.webelement.WebElement (session=\"da1415e2c13b59005593d83dbf4c4716\", element=\"02892e2b-e438-49f2-8eb2-60afcfc83b94\")>,\n",
       " <selenium.webdriver.remote.webelement.WebElement (session=\"da1415e2c13b59005593d83dbf4c4716\", element=\"d591a64e-9020-4e2b-ac82-c2e4dbc557b5\")>,\n",
       " <selenium.webdriver.remote.webelement.WebElement (session=\"da1415e2c13b59005593d83dbf4c4716\", element=\"b8267a59-5cc2-46f4-bfdc-a68ed90c29f9\")>]"
      ]
     },
     "execution_count": 16,
     "metadata": {},
     "output_type": "execute_result"
    }
   ],
   "source": [
    "company_name=driver.find_elements_by_xpath(\"//a[@class='subTitle ellipsis fleft']\")\n",
    "company_name"
   ]
  },
  {
   "cell_type": "code",
   "execution_count": 17,
   "metadata": {},
   "outputs": [
    {
     "data": {
      "text/plain": [
       "['Gaussian Networks Private Limited',\n",
       " 'Tata Consultancy Services Ltd.',\n",
       " 'Trigent Software',\n",
       " 'Trigent Software',\n",
       " 'AVE-Promagne',\n",
       " 'Virtusa Consulting Services Pvt Ltd',\n",
       " 'Tata Consultancy Services Ltd.',\n",
       " 'GlaxoSmithKline Pharmaceuticals Limited',\n",
       " 'SYREN TECHNOLOGIES PRIVATE LIMITED',\n",
       " 'McAfee Software (India) Pvt. Ltd',\n",
       " 'Gokaldas Exports Ltd',\n",
       " 'Walmart Labs',\n",
       " 'HyreFox Consultants Pvt Ltd',\n",
       " 'Philips India Limited',\n",
       " 'AECOM India Private Limited',\n",
       " 'IBM India Pvt. Limited',\n",
       " 'INTERTRUST GROUP',\n",
       " 'Empower Retirement',\n",
       " 'Flipkart',\n",
       " 'Flipkart']"
      ]
     },
     "execution_count": 17,
     "metadata": {},
     "output_type": "execute_result"
    }
   ],
   "source": [
    "Company_name=[]\n",
    "for i in company_name:\n",
    "    Company_name.append(i.text)\n",
    "Company_name"
   ]
  },
  {
   "cell_type": "code",
   "execution_count": 18,
   "metadata": {},
   "outputs": [
    {
     "data": {
      "text/plain": [
       "20"
      ]
     },
     "execution_count": 18,
     "metadata": {},
     "output_type": "execute_result"
    }
   ],
   "source": [
    "len(Company_name)"
   ]
  },
  {
   "cell_type": "code",
   "execution_count": 19,
   "metadata": {},
   "outputs": [
    {
     "data": {
      "text/plain": [
       "[<selenium.webdriver.remote.webelement.WebElement (session=\"da1415e2c13b59005593d83dbf4c4716\", element=\"8472ed96-0a38-49fd-a18a-b2067fa63793\")>,\n",
       " <selenium.webdriver.remote.webelement.WebElement (session=\"da1415e2c13b59005593d83dbf4c4716\", element=\"f387ec2d-8b37-4c75-a1c9-f1ecc8923ad3\")>,\n",
       " <selenium.webdriver.remote.webelement.WebElement (session=\"da1415e2c13b59005593d83dbf4c4716\", element=\"ae4a9f4a-29e5-4348-a9cb-4b1c0ef2a847\")>,\n",
       " <selenium.webdriver.remote.webelement.WebElement (session=\"da1415e2c13b59005593d83dbf4c4716\", element=\"339117f6-c3ad-4c37-b3fd-690bffdea977\")>,\n",
       " <selenium.webdriver.remote.webelement.WebElement (session=\"da1415e2c13b59005593d83dbf4c4716\", element=\"7a6baa92-2ce1-4fd3-b908-3d3b23c21c59\")>,\n",
       " <selenium.webdriver.remote.webelement.WebElement (session=\"da1415e2c13b59005593d83dbf4c4716\", element=\"93317e27-83e7-4c8e-92e3-bdfbe749e98a\")>,\n",
       " <selenium.webdriver.remote.webelement.WebElement (session=\"da1415e2c13b59005593d83dbf4c4716\", element=\"2f47dac3-214b-4c84-98c8-af8803221d91\")>,\n",
       " <selenium.webdriver.remote.webelement.WebElement (session=\"da1415e2c13b59005593d83dbf4c4716\", element=\"2041bd2a-05a7-4fe2-9454-fc93081e8156\")>,\n",
       " <selenium.webdriver.remote.webelement.WebElement (session=\"da1415e2c13b59005593d83dbf4c4716\", element=\"981d3503-7681-4653-a7fd-09119aed6ef5\")>,\n",
       " <selenium.webdriver.remote.webelement.WebElement (session=\"da1415e2c13b59005593d83dbf4c4716\", element=\"5e8f5833-38ec-456a-b2f6-3ee4ee501116\")>,\n",
       " <selenium.webdriver.remote.webelement.WebElement (session=\"da1415e2c13b59005593d83dbf4c4716\", element=\"e559c509-aa63-480f-b9c9-a506c7cd3854\")>,\n",
       " <selenium.webdriver.remote.webelement.WebElement (session=\"da1415e2c13b59005593d83dbf4c4716\", element=\"0be7907d-3716-4c15-807b-18b3275774c4\")>,\n",
       " <selenium.webdriver.remote.webelement.WebElement (session=\"da1415e2c13b59005593d83dbf4c4716\", element=\"da4c0620-6fe8-41c6-a461-2eb01bb288d0\")>,\n",
       " <selenium.webdriver.remote.webelement.WebElement (session=\"da1415e2c13b59005593d83dbf4c4716\", element=\"8e4c4afb-ac77-4b22-a02c-f39a1d70e716\")>,\n",
       " <selenium.webdriver.remote.webelement.WebElement (session=\"da1415e2c13b59005593d83dbf4c4716\", element=\"e8fa1b75-7357-45c5-b0f3-6f8b20b67239\")>,\n",
       " <selenium.webdriver.remote.webelement.WebElement (session=\"da1415e2c13b59005593d83dbf4c4716\", element=\"25b85f48-8794-43c8-af1d-b2019c5d3412\")>,\n",
       " <selenium.webdriver.remote.webelement.WebElement (session=\"da1415e2c13b59005593d83dbf4c4716\", element=\"5f964b08-8add-464c-bf02-c1b7d83da0c8\")>,\n",
       " <selenium.webdriver.remote.webelement.WebElement (session=\"da1415e2c13b59005593d83dbf4c4716\", element=\"448aefed-230d-4e03-8738-a3ad76f3d82f\")>,\n",
       " <selenium.webdriver.remote.webelement.WebElement (session=\"da1415e2c13b59005593d83dbf4c4716\", element=\"5b66b0c8-15dd-41ad-a8f9-47efc2fdda28\")>,\n",
       " <selenium.webdriver.remote.webelement.WebElement (session=\"da1415e2c13b59005593d83dbf4c4716\", element=\"7b553450-f779-4f20-89f5-f54f9faf0961\")>]"
      ]
     },
     "execution_count": 19,
     "metadata": {},
     "output_type": "execute_result"
    }
   ],
   "source": [
    "job_experience=driver.find_elements_by_xpath(\"//li[@class='fleft grey-text br2 placeHolderLi experience']//span[1]\")\n",
    "job_experience"
   ]
  },
  {
   "cell_type": "code",
   "execution_count": 20,
   "metadata": {},
   "outputs": [
    {
     "data": {
      "text/plain": [
       "['3-5 Yrs',\n",
       " '6-11 Yrs',\n",
       " '5-10 Yrs',\n",
       " '5-10 Yrs',\n",
       " '3-8 Yrs',\n",
       " '8-12 Yrs',\n",
       " '6-11 Yrs',\n",
       " '4-8 Yrs',\n",
       " '4-9 Yrs',\n",
       " '6-8 Yrs',\n",
       " '0-3 Yrs',\n",
       " '8-10 Yrs',\n",
       " '5-7 Yrs',\n",
       " '3-6 Yrs',\n",
       " '2-7 Yrs',\n",
       " '1-4 Yrs',\n",
       " '3-8 Yrs',\n",
       " '5-8 Yrs',\n",
       " '2-3 Yrs',\n",
       " '3-8 Yrs']"
      ]
     },
     "execution_count": 20,
     "metadata": {},
     "output_type": "execute_result"
    }
   ],
   "source": [
    "Job_experience=[]\n",
    "for i in job_experience:\n",
    "    Job_experience.append(i.text)\n",
    "Job_experience"
   ]
  },
  {
   "cell_type": "code",
   "execution_count": 21,
   "metadata": {},
   "outputs": [
    {
     "data": {
      "text/plain": [
       "20"
      ]
     },
     "execution_count": 21,
     "metadata": {},
     "output_type": "execute_result"
    }
   ],
   "source": [
    "len(Job_experience)"
   ]
  },
  {
   "cell_type": "code",
   "execution_count": 159,
   "metadata": {},
   "outputs": [
    {
     "data": {
      "text/html": [
       "<div>\n",
       "<style scoped>\n",
       "    .dataframe tbody tr th:only-of-type {\n",
       "        vertical-align: middle;\n",
       "    }\n",
       "\n",
       "    .dataframe tbody tr th {\n",
       "        vertical-align: top;\n",
       "    }\n",
       "\n",
       "    .dataframe thead th {\n",
       "        text-align: right;\n",
       "    }\n",
       "</style>\n",
       "<table border=\"1\" class=\"dataframe\">\n",
       "  <thead>\n",
       "    <tr style=\"text-align: right;\">\n",
       "      <th></th>\n",
       "      <th>Job_Title</th>\n",
       "      <th>Company_Name</th>\n",
       "      <th>Job_Location</th>\n",
       "      <th>Experience_Required</th>\n",
       "    </tr>\n",
       "  </thead>\n",
       "  <tbody>\n",
       "    <tr>\n",
       "      <th>0</th>\n",
       "      <td>Senior Data Analyst</td>\n",
       "      <td>Tata Consultancy Services</td>\n",
       "      <td>Hyderabad/Secunderabad, Pune, Ahmedabad, Gurga...</td>\n",
       "      <td>3-5 Yrs</td>\n",
       "    </tr>\n",
       "    <tr>\n",
       "      <th>1</th>\n",
       "      <td>Tcs Hiring For Senior Data Analyst (bfsi domain)</td>\n",
       "      <td>IBM</td>\n",
       "      <td>Gurgaon/Gurugram</td>\n",
       "      <td>6-11 Yrs</td>\n",
       "    </tr>\n",
       "    <tr>\n",
       "      <th>2</th>\n",
       "      <td>Business Data Analyst</td>\n",
       "      <td>Accenture</td>\n",
       "      <td>Ghaziabad, Faridabad, Delhi / NCR</td>\n",
       "      <td>5-10 Yrs</td>\n",
       "    </tr>\n",
       "    <tr>\n",
       "      <th>3</th>\n",
       "      <td>Business Data Analyst</td>\n",
       "      <td>Delhivery</td>\n",
       "      <td>Noida, Gurgaon/Gurugram, Delhi / NCR</td>\n",
       "      <td>5-10 Yrs</td>\n",
       "    </tr>\n",
       "    <tr>\n",
       "      <th>4</th>\n",
       "      <td>Business Data Analyst - Google Data Studio &amp; SQL</td>\n",
       "      <td>Ericsson-Worldwide</td>\n",
       "      <td>Noida, New Delhi, Gurgaon/Gurugram</td>\n",
       "      <td>3-8 Yrs</td>\n",
       "    </tr>\n",
       "    <tr>\n",
       "      <th>5</th>\n",
       "      <td>Senior Data Analyst</td>\n",
       "      <td>UnitedHealth Group</td>\n",
       "      <td>Gurgaon/Gurugram</td>\n",
       "      <td>8-12 Yrs</td>\n",
       "    </tr>\n",
       "    <tr>\n",
       "      <th>6</th>\n",
       "      <td>Tcs Hiring For MDM (master data management) Da...</td>\n",
       "      <td>Optum</td>\n",
       "      <td>Noida, Gurgaon/Gurugram</td>\n",
       "      <td>6-11 Yrs</td>\n",
       "    </tr>\n",
       "    <tr>\n",
       "      <th>7</th>\n",
       "      <td>Senior Data Analyst IDAM Services</td>\n",
       "      <td>Optum Global Solutions</td>\n",
       "      <td>Gurgaon/Gurugram</td>\n",
       "      <td>4-8 Yrs</td>\n",
       "    </tr>\n",
       "    <tr>\n",
       "      <th>8</th>\n",
       "      <td>Data Analyst/Sr.Data Engineer</td>\n",
       "      <td>Valiance Solutions</td>\n",
       "      <td>Gurgaon/Gurugram</td>\n",
       "      <td>4-9 Yrs</td>\n",
       "    </tr>\n",
       "    <tr>\n",
       "      <th>9</th>\n",
       "      <td>SENIOR DATA ANALYST</td>\n",
       "      <td>EXL Service</td>\n",
       "      <td>Noida</td>\n",
       "      <td>6-8 Yrs</td>\n",
       "    </tr>\n",
       "  </tbody>\n",
       "</table>\n",
       "</div>"
      ],
      "text/plain": [
       "                                           Job_Title  \\\n",
       "0                                Senior Data Analyst   \n",
       "1   Tcs Hiring For Senior Data Analyst (bfsi domain)   \n",
       "2                              Business Data Analyst   \n",
       "3                              Business Data Analyst   \n",
       "4   Business Data Analyst - Google Data Studio & SQL   \n",
       "5                                Senior Data Analyst   \n",
       "6  Tcs Hiring For MDM (master data management) Da...   \n",
       "7                  Senior Data Analyst IDAM Services   \n",
       "8                      Data Analyst/Sr.Data Engineer   \n",
       "9                                SENIOR DATA ANALYST   \n",
       "\n",
       "                Company_Name  \\\n",
       "0  Tata Consultancy Services   \n",
       "1                        IBM   \n",
       "2                  Accenture   \n",
       "3                  Delhivery   \n",
       "4         Ericsson-Worldwide   \n",
       "5         UnitedHealth Group   \n",
       "6                      Optum   \n",
       "7     Optum Global Solutions   \n",
       "8         Valiance Solutions   \n",
       "9                EXL Service   \n",
       "\n",
       "                                        Job_Location Experience_Required  \n",
       "0  Hyderabad/Secunderabad, Pune, Ahmedabad, Gurga...             3-5 Yrs  \n",
       "1                                   Gurgaon/Gurugram            6-11 Yrs  \n",
       "2                  Ghaziabad, Faridabad, Delhi / NCR            5-10 Yrs  \n",
       "3               Noida, Gurgaon/Gurugram, Delhi / NCR            5-10 Yrs  \n",
       "4                 Noida, New Delhi, Gurgaon/Gurugram             3-8 Yrs  \n",
       "5                                   Gurgaon/Gurugram            8-12 Yrs  \n",
       "6                            Noida, Gurgaon/Gurugram            6-11 Yrs  \n",
       "7                                   Gurgaon/Gurugram             4-8 Yrs  \n",
       "8                                   Gurgaon/Gurugram             4-9 Yrs  \n",
       "9                                              Noida             6-8 Yrs  "
      ]
     },
     "execution_count": 159,
     "metadata": {},
     "output_type": "execute_result"
    }
   ],
   "source": [
    "jobs=pd.DataFrame({})\n",
    "jobs['Job_Title']=Job_titles[:10]\n",
    "jobs['Company_Name']=Company_name[:10]\n",
    "jobs['Job_Location']=Job_location[:10]\n",
    "jobs['Experience_Required']=Job_experience[:10]\n",
    "jobs"
   ]
  },
  {
   "cell_type": "markdown",
   "metadata": {},
   "source": [
    "# Q2"
   ]
  },
  {
   "cell_type": "code",
   "execution_count": 24,
   "metadata": {},
   "outputs": [],
   "source": [
    "driver = webdriver.Chrome(r\"C:\\Users\\hp\\Desktop\\Flip Robo\\chromedriver.exe\")"
   ]
  },
  {
   "cell_type": "code",
   "execution_count": 25,
   "metadata": {},
   "outputs": [],
   "source": [
    "url= \"https://www.naukri.com/\"\n",
    "driver.get(url)"
   ]
  },
  {
   "cell_type": "code",
   "execution_count": 26,
   "metadata": {},
   "outputs": [],
   "source": [
    "search_job=driver.find_element_by_id('qsb-keyword-sugg')\n",
    "search_job\n",
    "search_job.send_keys('Data Scientist')"
   ]
  },
  {
   "cell_type": "code",
   "execution_count": 27,
   "metadata": {},
   "outputs": [],
   "source": [
    "search_loc=driver.find_element_by_id('qsb-location-sugg')\n",
    "search_loc\n",
    "search_loc.send_keys('Banglore')"
   ]
  },
  {
   "cell_type": "code",
   "execution_count": 28,
   "metadata": {},
   "outputs": [],
   "source": [
    "search_btn=driver.find_element_by_xpath(\"//button[@class='btn']\")\n",
    "search_btn\n",
    "search_btn.click()"
   ]
  },
  {
   "cell_type": "code",
   "execution_count": 29,
   "metadata": {},
   "outputs": [
    {
     "data": {
      "text/plain": [
       "[<selenium.webdriver.remote.webelement.WebElement (session=\"16a1ba1da64130e2d5afd571d2fd9ae4\", element=\"3e9917e6-ff5b-4194-b199-91189fee8620\")>,\n",
       " <selenium.webdriver.remote.webelement.WebElement (session=\"16a1ba1da64130e2d5afd571d2fd9ae4\", element=\"6fd21428-e56d-426a-b2c6-d3d43a9b4a1a\")>,\n",
       " <selenium.webdriver.remote.webelement.WebElement (session=\"16a1ba1da64130e2d5afd571d2fd9ae4\", element=\"f7208c0f-530b-4f99-b9f9-81e360bc2438\")>,\n",
       " <selenium.webdriver.remote.webelement.WebElement (session=\"16a1ba1da64130e2d5afd571d2fd9ae4\", element=\"947dfdaa-3f07-4628-abcb-581cd7a749dc\")>,\n",
       " <selenium.webdriver.remote.webelement.WebElement (session=\"16a1ba1da64130e2d5afd571d2fd9ae4\", element=\"3284bc28-9f39-41f3-b82e-110bbac8ae64\")>,\n",
       " <selenium.webdriver.remote.webelement.WebElement (session=\"16a1ba1da64130e2d5afd571d2fd9ae4\", element=\"a0d1d938-f03a-43be-9084-bcfa292a0aef\")>,\n",
       " <selenium.webdriver.remote.webelement.WebElement (session=\"16a1ba1da64130e2d5afd571d2fd9ae4\", element=\"4ec09b43-4116-4d00-9238-d5a0bef6b884\")>,\n",
       " <selenium.webdriver.remote.webelement.WebElement (session=\"16a1ba1da64130e2d5afd571d2fd9ae4\", element=\"5b8b6495-9088-471a-a666-797a715cf565\")>,\n",
       " <selenium.webdriver.remote.webelement.WebElement (session=\"16a1ba1da64130e2d5afd571d2fd9ae4\", element=\"b73dc276-5d2f-4dd3-9fb1-9164388212ad\")>,\n",
       " <selenium.webdriver.remote.webelement.WebElement (session=\"16a1ba1da64130e2d5afd571d2fd9ae4\", element=\"beaf78af-39a4-4ac6-a50a-922ddd879e91\")>,\n",
       " <selenium.webdriver.remote.webelement.WebElement (session=\"16a1ba1da64130e2d5afd571d2fd9ae4\", element=\"281c4009-414c-4430-9a6d-934d7dd79b41\")>,\n",
       " <selenium.webdriver.remote.webelement.WebElement (session=\"16a1ba1da64130e2d5afd571d2fd9ae4\", element=\"3f2b8413-8fa0-431b-a981-ffa623cb42d3\")>,\n",
       " <selenium.webdriver.remote.webelement.WebElement (session=\"16a1ba1da64130e2d5afd571d2fd9ae4\", element=\"c766f8c7-cac4-4a0e-b2c1-4fcf87b153f1\")>,\n",
       " <selenium.webdriver.remote.webelement.WebElement (session=\"16a1ba1da64130e2d5afd571d2fd9ae4\", element=\"6210997a-b0a2-4a33-b7ad-29d992015dca\")>,\n",
       " <selenium.webdriver.remote.webelement.WebElement (session=\"16a1ba1da64130e2d5afd571d2fd9ae4\", element=\"b7cc2feb-8f6b-4b65-8d51-669888f67416\")>,\n",
       " <selenium.webdriver.remote.webelement.WebElement (session=\"16a1ba1da64130e2d5afd571d2fd9ae4\", element=\"cc37a3a4-c717-42c1-a138-4bf214eb9847\")>,\n",
       " <selenium.webdriver.remote.webelement.WebElement (session=\"16a1ba1da64130e2d5afd571d2fd9ae4\", element=\"b00b9bf8-cab9-41f0-aa7a-b3e60befb753\")>,\n",
       " <selenium.webdriver.remote.webelement.WebElement (session=\"16a1ba1da64130e2d5afd571d2fd9ae4\", element=\"a566d832-6889-4c02-8bd9-c75a683cfa7a\")>,\n",
       " <selenium.webdriver.remote.webelement.WebElement (session=\"16a1ba1da64130e2d5afd571d2fd9ae4\", element=\"8815001f-46a7-46b4-a86f-684db95a95d6\")>,\n",
       " <selenium.webdriver.remote.webelement.WebElement (session=\"16a1ba1da64130e2d5afd571d2fd9ae4\", element=\"b66426b8-8e94-48e4-8898-d69517d07bf6\")>]"
      ]
     },
     "execution_count": 29,
     "metadata": {},
     "output_type": "execute_result"
    }
   ],
   "source": [
    "job_title=driver.find_elements_by_xpath(\"//a[@class='title fw500 ellipsis']\")\n",
    "job_title"
   ]
  },
  {
   "cell_type": "code",
   "execution_count": 30,
   "metadata": {},
   "outputs": [
    {
     "data": {
      "text/plain": [
       "['Hiring For Data Scientist',\n",
       " 'Lead Data Scientist BFSI',\n",
       " 'Associate Data Scientist',\n",
       " 'Data Scientist',\n",
       " 'Data Scientist',\n",
       " 'Data Scientist: Advanced Analytics',\n",
       " 'Senior Data Scientist',\n",
       " 'Senior Data Scientist',\n",
       " 'Sr Data Scientist',\n",
       " 'Sr Data Scientist',\n",
       " 'SENIOR DATA SCIENTIST',\n",
       " 'Senior Data Scientist IN4',\n",
       " 'Senior Data Scientist (Marketplace)',\n",
       " 'Hiring For Manager and Sr. Manager | Data Scientist',\n",
       " 'Requirement For Data Scientist - Mumbai & Bangalore',\n",
       " 'Data Scientist (Python & SQL)',\n",
       " 'Lead Data Scientist - Machine Learning/ Data Mining',\n",
       " 'Data Scientist- Senior Business Analyst/Lead Analyst',\n",
       " 'Data Scientist- Python/R (3+ Years)',\n",
       " 'Data Scientist - Predictive Modelling/ML']"
      ]
     },
     "execution_count": 30,
     "metadata": {},
     "output_type": "execute_result"
    }
   ],
   "source": [
    "Job_title=[]\n",
    "for i in job_title:\n",
    "    Job_title.append(i.text)\n",
    "Job_title"
   ]
  },
  {
   "cell_type": "code",
   "execution_count": 31,
   "metadata": {},
   "outputs": [
    {
     "data": {
      "text/plain": [
       "20"
      ]
     },
     "execution_count": 31,
     "metadata": {},
     "output_type": "execute_result"
    }
   ],
   "source": [
    "len(Job_title)"
   ]
  },
  {
   "cell_type": "code",
   "execution_count": 32,
   "metadata": {},
   "outputs": [
    {
     "data": {
      "text/plain": [
       "[<selenium.webdriver.remote.webelement.WebElement (session=\"16a1ba1da64130e2d5afd571d2fd9ae4\", element=\"010485cc-c269-4978-af7e-487d6e0117a3\")>,\n",
       " <selenium.webdriver.remote.webelement.WebElement (session=\"16a1ba1da64130e2d5afd571d2fd9ae4\", element=\"c526a754-5bae-43d0-bea8-d4d03c532e1a\")>,\n",
       " <selenium.webdriver.remote.webelement.WebElement (session=\"16a1ba1da64130e2d5afd571d2fd9ae4\", element=\"3bb33976-8cff-403f-bcb6-76d40d17abcc\")>,\n",
       " <selenium.webdriver.remote.webelement.WebElement (session=\"16a1ba1da64130e2d5afd571d2fd9ae4\", element=\"96418a09-b87e-48a2-b796-275712267ab1\")>,\n",
       " <selenium.webdriver.remote.webelement.WebElement (session=\"16a1ba1da64130e2d5afd571d2fd9ae4\", element=\"0342f941-9db9-44ec-9222-acf5502891c4\")>,\n",
       " <selenium.webdriver.remote.webelement.WebElement (session=\"16a1ba1da64130e2d5afd571d2fd9ae4\", element=\"ac1201e4-d92d-4657-98b2-343f9e632341\")>,\n",
       " <selenium.webdriver.remote.webelement.WebElement (session=\"16a1ba1da64130e2d5afd571d2fd9ae4\", element=\"ffc5947d-ed58-422b-b32c-c30a439698a3\")>,\n",
       " <selenium.webdriver.remote.webelement.WebElement (session=\"16a1ba1da64130e2d5afd571d2fd9ae4\", element=\"a5e5790e-cea0-41a2-9823-68b80a4dfab0\")>,\n",
       " <selenium.webdriver.remote.webelement.WebElement (session=\"16a1ba1da64130e2d5afd571d2fd9ae4\", element=\"6f50be39-f562-4d7e-a984-bf24d750e558\")>,\n",
       " <selenium.webdriver.remote.webelement.WebElement (session=\"16a1ba1da64130e2d5afd571d2fd9ae4\", element=\"9321898d-4905-489a-884f-fe97d4df21a2\")>,\n",
       " <selenium.webdriver.remote.webelement.WebElement (session=\"16a1ba1da64130e2d5afd571d2fd9ae4\", element=\"2e062543-2048-474d-b213-cad54610c04c\")>,\n",
       " <selenium.webdriver.remote.webelement.WebElement (session=\"16a1ba1da64130e2d5afd571d2fd9ae4\", element=\"afc35220-191a-41bb-bd69-be1804beaf0f\")>,\n",
       " <selenium.webdriver.remote.webelement.WebElement (session=\"16a1ba1da64130e2d5afd571d2fd9ae4\", element=\"802b9783-08f2-4658-979f-b2e6fd163893\")>,\n",
       " <selenium.webdriver.remote.webelement.WebElement (session=\"16a1ba1da64130e2d5afd571d2fd9ae4\", element=\"a4771bcd-4650-45f5-91aa-6da699057d0a\")>,\n",
       " <selenium.webdriver.remote.webelement.WebElement (session=\"16a1ba1da64130e2d5afd571d2fd9ae4\", element=\"c826740b-4006-46df-aa4c-0bc0b9de917e\")>,\n",
       " <selenium.webdriver.remote.webelement.WebElement (session=\"16a1ba1da64130e2d5afd571d2fd9ae4\", element=\"415c2977-d6e8-43b5-ba31-bf364a8445d3\")>,\n",
       " <selenium.webdriver.remote.webelement.WebElement (session=\"16a1ba1da64130e2d5afd571d2fd9ae4\", element=\"53c836d6-d7c6-4caa-94da-9bce03c13d8a\")>,\n",
       " <selenium.webdriver.remote.webelement.WebElement (session=\"16a1ba1da64130e2d5afd571d2fd9ae4\", element=\"fc6ae07a-bad7-4fb2-ad64-72d313c22cb8\")>,\n",
       " <selenium.webdriver.remote.webelement.WebElement (session=\"16a1ba1da64130e2d5afd571d2fd9ae4\", element=\"03a1b89e-2d13-43fc-bcaf-12729e676839\")>,\n",
       " <selenium.webdriver.remote.webelement.WebElement (session=\"16a1ba1da64130e2d5afd571d2fd9ae4\", element=\"a184a1d3-a361-4a20-bedb-860a4c1657a5\")>]"
      ]
     },
     "execution_count": 32,
     "metadata": {},
     "output_type": "execute_result"
    }
   ],
   "source": [
    "company_name=driver.find_elements_by_xpath(\"//a[@class='subTitle ellipsis fleft']\")\n",
    "company_name"
   ]
  },
  {
   "cell_type": "code",
   "execution_count": 33,
   "metadata": {},
   "outputs": [
    {
     "data": {
      "text/plain": [
       "['Tata Consultancy Services Ltd.',\n",
       " 'IBM India Pvt. Limited',\n",
       " 'Philips India Limited',\n",
       " 'Allegis Services India Pvt. Ltd.',\n",
       " 'Allegis Services India Pvt. Ltd.',\n",
       " 'IBM India Pvt. Limited',\n",
       " 'Walmart Labs',\n",
       " 'Airbnb',\n",
       " 'IBM India Pvt. Limited',\n",
       " 'IBM India Pvt. Limited',\n",
       " 'Happiest Minds Technologies Pvt.Ltd',\n",
       " 'Walmart Labs',\n",
       " 'Walmart Labs',\n",
       " 'Vision Beyond Resources India Private Limited',\n",
       " 'CRISIL LIMITED',\n",
       " 'AVE-Promagne',\n",
       " 'Wrackle Technologies Pvt Ltd',\n",
       " 'Evalueserve.com Pvt. Ltd',\n",
       " 'CRESCENDO GLOBAL LEADERSHIP HIRING INDIA PRIVATE L IMITED',\n",
       " 'BRIDGEi2i Analytics Solutions Private Limited']"
      ]
     },
     "execution_count": 33,
     "metadata": {},
     "output_type": "execute_result"
    }
   ],
   "source": [
    "Company_name=[]\n",
    "for i in company_name:\n",
    "    Company_name.append(i.text)\n",
    "Company_name"
   ]
  },
  {
   "cell_type": "code",
   "execution_count": 34,
   "metadata": {},
   "outputs": [
    {
     "data": {
      "text/plain": [
       "20"
      ]
     },
     "execution_count": 34,
     "metadata": {},
     "output_type": "execute_result"
    }
   ],
   "source": [
    "len(Company_name)"
   ]
  },
  {
   "cell_type": "code",
   "execution_count": 35,
   "metadata": {},
   "outputs": [
    {
     "data": {
      "text/plain": [
       "[<selenium.webdriver.remote.webelement.WebElement (session=\"16a1ba1da64130e2d5afd571d2fd9ae4\", element=\"36617130-0ff7-4c1e-aff8-02ba002a7b13\")>,\n",
       " <selenium.webdriver.remote.webelement.WebElement (session=\"16a1ba1da64130e2d5afd571d2fd9ae4\", element=\"a28a9cd3-25de-469f-9197-fca5eb576a0f\")>,\n",
       " <selenium.webdriver.remote.webelement.WebElement (session=\"16a1ba1da64130e2d5afd571d2fd9ae4\", element=\"eb192ec9-beee-40b2-9279-6982453acd8f\")>,\n",
       " <selenium.webdriver.remote.webelement.WebElement (session=\"16a1ba1da64130e2d5afd571d2fd9ae4\", element=\"911aa979-e60b-4dde-9d5f-af5bf740f092\")>,\n",
       " <selenium.webdriver.remote.webelement.WebElement (session=\"16a1ba1da64130e2d5afd571d2fd9ae4\", element=\"39679890-241a-401b-86f0-c55706e144b8\")>,\n",
       " <selenium.webdriver.remote.webelement.WebElement (session=\"16a1ba1da64130e2d5afd571d2fd9ae4\", element=\"a852090b-4241-4080-b726-91598259e841\")>,\n",
       " <selenium.webdriver.remote.webelement.WebElement (session=\"16a1ba1da64130e2d5afd571d2fd9ae4\", element=\"9c98c6eb-3c9f-4c4f-8ad3-387f14384c9a\")>,\n",
       " <selenium.webdriver.remote.webelement.WebElement (session=\"16a1ba1da64130e2d5afd571d2fd9ae4\", element=\"7f8b640e-bec7-4aac-8177-16c29b3bea58\")>,\n",
       " <selenium.webdriver.remote.webelement.WebElement (session=\"16a1ba1da64130e2d5afd571d2fd9ae4\", element=\"2b88d9a4-7e64-441a-ad82-a9d6ed9447d2\")>,\n",
       " <selenium.webdriver.remote.webelement.WebElement (session=\"16a1ba1da64130e2d5afd571d2fd9ae4\", element=\"84b88179-9331-4883-849f-4b6e1c34d972\")>,\n",
       " <selenium.webdriver.remote.webelement.WebElement (session=\"16a1ba1da64130e2d5afd571d2fd9ae4\", element=\"45f16fc5-63cf-4196-904e-3240a2dd05f8\")>,\n",
       " <selenium.webdriver.remote.webelement.WebElement (session=\"16a1ba1da64130e2d5afd571d2fd9ae4\", element=\"12ba93ee-0939-4ae4-8a3f-926f34f9b661\")>,\n",
       " <selenium.webdriver.remote.webelement.WebElement (session=\"16a1ba1da64130e2d5afd571d2fd9ae4\", element=\"e46b9785-eed8-4a59-8b7b-bbb4a073759f\")>,\n",
       " <selenium.webdriver.remote.webelement.WebElement (session=\"16a1ba1da64130e2d5afd571d2fd9ae4\", element=\"720beaff-e211-4b05-890f-de0bb9c34248\")>,\n",
       " <selenium.webdriver.remote.webelement.WebElement (session=\"16a1ba1da64130e2d5afd571d2fd9ae4\", element=\"f1c365c5-2c3e-47cf-823f-8a9c3d2d7637\")>,\n",
       " <selenium.webdriver.remote.webelement.WebElement (session=\"16a1ba1da64130e2d5afd571d2fd9ae4\", element=\"1d3e223f-7514-4720-8fd1-20fd50fafae4\")>,\n",
       " <selenium.webdriver.remote.webelement.WebElement (session=\"16a1ba1da64130e2d5afd571d2fd9ae4\", element=\"755649c5-a37f-4d10-8a78-b628665271c2\")>,\n",
       " <selenium.webdriver.remote.webelement.WebElement (session=\"16a1ba1da64130e2d5afd571d2fd9ae4\", element=\"22dc00c9-61b9-46eb-80d2-236e5510f209\")>,\n",
       " <selenium.webdriver.remote.webelement.WebElement (session=\"16a1ba1da64130e2d5afd571d2fd9ae4\", element=\"c24ee65f-2a88-4a58-858d-7eb454eba635\")>,\n",
       " <selenium.webdriver.remote.webelement.WebElement (session=\"16a1ba1da64130e2d5afd571d2fd9ae4\", element=\"95a2c98a-5dfc-4c1c-8fe7-5db525cfc3da\")>]"
      ]
     },
     "execution_count": 35,
     "metadata": {},
     "output_type": "execute_result"
    }
   ],
   "source": [
    "job_location=driver.find_elements_by_xpath(\"//li[@class='fleft grey-text br2 placeHolderLi location']//span[1]\")\n",
    "job_location"
   ]
  },
  {
   "cell_type": "code",
   "execution_count": 36,
   "metadata": {},
   "outputs": [
    {
     "data": {
      "text/plain": [
       "['Chennai, Bangalore/Bengaluru, Mumbai (All Areas)',\n",
       " 'Bengaluru/Bangalore',\n",
       " 'Bangalore/Bengaluru',\n",
       " 'Bangalore/Bengaluru',\n",
       " 'Bangalore/Bengaluru',\n",
       " 'Bengaluru/Bangalore',\n",
       " 'Bangalore/Bengaluru',\n",
       " 'Bangalore/Bengaluru',\n",
       " 'Bengaluru/Bangalore',\n",
       " 'Bangalore/Bengaluru',\n",
       " 'Bangalore/Bengaluru',\n",
       " 'Bangalore/Bengaluru',\n",
       " 'Bangalore/Bengaluru',\n",
       " 'Noida, Mumbai, New Delhi, Gurgaon/Gurugram, Bangalore/Bengaluru',\n",
       " 'Bangalore/Bengaluru, Mumbai (All Areas)',\n",
       " 'Hyderabad/Secunderabad, Chennai, Bangalore/Bengaluru',\n",
       " 'Bangalore/Bengaluru',\n",
       " 'Gurgaon/Gurugram, Bangalore/Bengaluru',\n",
       " 'Bangalore/Bengaluru, Delhi / NCR, Mumbai (All Areas)',\n",
       " 'Bangalore/Bengaluru']"
      ]
     },
     "execution_count": 36,
     "metadata": {},
     "output_type": "execute_result"
    }
   ],
   "source": [
    "Job_location=[]\n",
    "for i in job_location:\n",
    "    Job_location.append(i.text)\n",
    "Job_location"
   ]
  },
  {
   "cell_type": "code",
   "execution_count": 37,
   "metadata": {},
   "outputs": [
    {
     "data": {
      "text/plain": [
       "20"
      ]
     },
     "execution_count": 37,
     "metadata": {},
     "output_type": "execute_result"
    }
   ],
   "source": [
    "len(Job_location)"
   ]
  },
  {
   "cell_type": "code",
   "execution_count": 38,
   "metadata": {},
   "outputs": [
    {
     "data": {
      "text/plain": [
       "[<selenium.webdriver.remote.webelement.WebElement (session=\"16a1ba1da64130e2d5afd571d2fd9ae4\", element=\"3e9917e6-ff5b-4194-b199-91189fee8620\")>,\n",
       " <selenium.webdriver.remote.webelement.WebElement (session=\"16a1ba1da64130e2d5afd571d2fd9ae4\", element=\"6fd21428-e56d-426a-b2c6-d3d43a9b4a1a\")>,\n",
       " <selenium.webdriver.remote.webelement.WebElement (session=\"16a1ba1da64130e2d5afd571d2fd9ae4\", element=\"f7208c0f-530b-4f99-b9f9-81e360bc2438\")>,\n",
       " <selenium.webdriver.remote.webelement.WebElement (session=\"16a1ba1da64130e2d5afd571d2fd9ae4\", element=\"947dfdaa-3f07-4628-abcb-581cd7a749dc\")>,\n",
       " <selenium.webdriver.remote.webelement.WebElement (session=\"16a1ba1da64130e2d5afd571d2fd9ae4\", element=\"3284bc28-9f39-41f3-b82e-110bbac8ae64\")>,\n",
       " <selenium.webdriver.remote.webelement.WebElement (session=\"16a1ba1da64130e2d5afd571d2fd9ae4\", element=\"a0d1d938-f03a-43be-9084-bcfa292a0aef\")>,\n",
       " <selenium.webdriver.remote.webelement.WebElement (session=\"16a1ba1da64130e2d5afd571d2fd9ae4\", element=\"4ec09b43-4116-4d00-9238-d5a0bef6b884\")>,\n",
       " <selenium.webdriver.remote.webelement.WebElement (session=\"16a1ba1da64130e2d5afd571d2fd9ae4\", element=\"5b8b6495-9088-471a-a666-797a715cf565\")>,\n",
       " <selenium.webdriver.remote.webelement.WebElement (session=\"16a1ba1da64130e2d5afd571d2fd9ae4\", element=\"b73dc276-5d2f-4dd3-9fb1-9164388212ad\")>,\n",
       " <selenium.webdriver.remote.webelement.WebElement (session=\"16a1ba1da64130e2d5afd571d2fd9ae4\", element=\"beaf78af-39a4-4ac6-a50a-922ddd879e91\")>,\n",
       " <selenium.webdriver.remote.webelement.WebElement (session=\"16a1ba1da64130e2d5afd571d2fd9ae4\", element=\"281c4009-414c-4430-9a6d-934d7dd79b41\")>,\n",
       " <selenium.webdriver.remote.webelement.WebElement (session=\"16a1ba1da64130e2d5afd571d2fd9ae4\", element=\"3f2b8413-8fa0-431b-a981-ffa623cb42d3\")>,\n",
       " <selenium.webdriver.remote.webelement.WebElement (session=\"16a1ba1da64130e2d5afd571d2fd9ae4\", element=\"c766f8c7-cac4-4a0e-b2c1-4fcf87b153f1\")>,\n",
       " <selenium.webdriver.remote.webelement.WebElement (session=\"16a1ba1da64130e2d5afd571d2fd9ae4\", element=\"6210997a-b0a2-4a33-b7ad-29d992015dca\")>,\n",
       " <selenium.webdriver.remote.webelement.WebElement (session=\"16a1ba1da64130e2d5afd571d2fd9ae4\", element=\"b7cc2feb-8f6b-4b65-8d51-669888f67416\")>,\n",
       " <selenium.webdriver.remote.webelement.WebElement (session=\"16a1ba1da64130e2d5afd571d2fd9ae4\", element=\"cc37a3a4-c717-42c1-a138-4bf214eb9847\")>,\n",
       " <selenium.webdriver.remote.webelement.WebElement (session=\"16a1ba1da64130e2d5afd571d2fd9ae4\", element=\"b00b9bf8-cab9-41f0-aa7a-b3e60befb753\")>,\n",
       " <selenium.webdriver.remote.webelement.WebElement (session=\"16a1ba1da64130e2d5afd571d2fd9ae4\", element=\"a566d832-6889-4c02-8bd9-c75a683cfa7a\")>,\n",
       " <selenium.webdriver.remote.webelement.WebElement (session=\"16a1ba1da64130e2d5afd571d2fd9ae4\", element=\"8815001f-46a7-46b4-a86f-684db95a95d6\")>,\n",
       " <selenium.webdriver.remote.webelement.WebElement (session=\"16a1ba1da64130e2d5afd571d2fd9ae4\", element=\"b66426b8-8e94-48e4-8898-d69517d07bf6\")>]"
      ]
     },
     "execution_count": 38,
     "metadata": {},
     "output_type": "execute_result"
    }
   ],
   "source": [
    "desc_url=driver.find_elements_by_xpath(\"//a[@class='title fw500 ellipsis']\")\n",
    "desc_url"
   ]
  },
  {
   "cell_type": "code",
   "execution_count": 39,
   "metadata": {},
   "outputs": [
    {
     "data": {
      "text/plain": [
       "['https://www.naukri.com/job-listings-hiring-for-data-scientist-tata-consultancy-services-chennai-bangalore-bengaluru-mumbai-all-areas-3-to-8-years-110921000464?src=jobsearchDesk&sid=16315348205883421&xp=1&px=1',\n",
       " 'https://www.naukri.com/job-listings-lead-data-scientist-bfsi-ibm-india-pvt-limited-bengaluru-bangalore-5-to-9-years-070921901691?src=jobsearchDesk&sid=16315348205883421&xp=2&px=1',\n",
       " 'https://www.naukri.com/job-listings-associate-data-scientist-philips-india-limited-bangalore-bengaluru-3-to-5-years-060921501985?src=jobsearchDesk&sid=16315348205883421&xp=3&px=1',\n",
       " 'https://www.naukri.com/job-listings-data-scientist-allegis-services-india-pvt-ltd-bangalore-bengaluru-4-to-8-years-130921603395?src=jobsearchDesk&sid=16315348205883421&xp=4&px=1',\n",
       " 'https://www.naukri.com/job-listings-data-scientist-allegis-services-india-pvt-ltd-bangalore-bengaluru-4-to-8-years-130921003393?src=jobsearchDesk&sid=16315348205883421&xp=5&px=1',\n",
       " 'https://www.naukri.com/job-listings-data-scientist-advanced-analytics-ibm-india-pvt-limited-bengaluru-bangalore-3-to-7-years-070921901677?src=jobsearchDesk&sid=16315348205883421&xp=6&px=1',\n",
       " 'https://www.naukri.com/job-listings-senior-data-scientist-walmart-labs-bangalore-bengaluru-6-to-10-years-090921501063?src=jobsearchDesk&sid=16315348205883421&xp=7&px=1',\n",
       " 'https://www.naukri.com/job-listings-senior-data-scientist-airbnb-bangalore-bengaluru-7-to-12-years-080921500017?src=jobsearchDesk&sid=16315348205883421&xp=8&px=1',\n",
       " 'https://www.naukri.com/job-listings-sr-data-scientist-ibm-india-pvt-limited-bengaluru-bangalore-6-to-8-years-010921906637?src=jobsearchDesk&sid=16315348205883421&xp=9&px=1',\n",
       " 'https://www.naukri.com/job-listings-sr-data-scientist-ibm-india-pvt-limited-bangalore-bengaluru-6-to-8-years-010921906105?src=jobsearchDesk&sid=16315348205883421&xp=10&px=1',\n",
       " 'https://www.naukri.com/job-listings-senior-data-scientist-happiest-minds-technologies-pvt-ltd-bangalore-bengaluru-5-to-10-years-070921501517?src=jobsearchDesk&sid=16315348205883421&xp=11&px=1',\n",
       " 'https://www.naukri.com/job-listings-senior-data-scientist-in4-walmart-labs-bangalore-bengaluru-7-to-10-years-090921501064?src=jobsearchDesk&sid=16315348205883421&xp=12&px=1',\n",
       " 'https://www.naukri.com/job-listings-senior-data-scientist-marketplace-walmart-labs-bangalore-bengaluru-4-to-8-years-090921500549?src=jobsearchDesk&sid=16315348205883421&xp=13&px=1',\n",
       " 'https://www.naukri.com/job-listings-hiring-for-manager-and-sr-manager-data-scientist-vision-beyond-resources-india-private-limited-noida-mumbai-new-delhi-gurgaon-gurugram-bangalore-bengaluru-8-to-13-years-090921005986?src=jobsearchDesk&sid=16315348205883421&xp=14&px=1',\n",
       " 'https://www.naukri.com/job-listings-requirement-for-data-scientist-mumbai-bangalore-crisil-limited-bangalore-bengaluru-mumbai-all-areas-2-to-6-years-080921005523?src=jobsearchDesk&sid=16315348205883421&xp=15&px=1',\n",
       " 'https://www.naukri.com/job-listings-data-scientist-python-sql-ave-promagne-hyderabad-secunderabad-chennai-bangalore-bengaluru-6-to-8-years-060921904967?src=jobsearchDesk&sid=16315348205883421&xp=16&px=1',\n",
       " 'https://www.naukri.com/job-listings-lead-data-scientist-machine-learning-data-mining-wrackle-technologies-pvt-ltd-bangalore-bengaluru-6-to-11-years-080221900886?src=jobsearchDesk&sid=16315348205883421&xp=17&px=1',\n",
       " 'https://www.naukri.com/job-listings-data-scientist-senior-business-analyst-lead-analyst-evalueserve-com-pvt-ltd-gurgaon-gurugram-bangalore-bengaluru-2-to-7-years-110821005065?src=jobsearchDesk&sid=16315348205883421&xp=18&px=1',\n",
       " 'https://www.naukri.com/job-listings-data-scientist-python-r-3-years-crescendo-global-leadership-hiring-india-private-l-imited-bangalore-bengaluru-delhi-ncr-mumbai-all-areas-3-to-8-years-110921000469?src=jobsearchDesk&sid=16315348205883421&xp=19&px=1',\n",
       " 'https://www.naukri.com/job-listings-data-scientist-predictive-modelling-ml-bridgei2i-analytics-solutions-private-limited-bangalore-bengaluru-3-to-6-years-130921005124?src=jobsearchDesk&sid=16315348205883421&xp=20&px=1']"
      ]
     },
     "execution_count": 39,
     "metadata": {},
     "output_type": "execute_result"
    }
   ],
   "source": [
    "Desc_url=[]\n",
    "for i in desc_url:\n",
    "    Desc_url.append(i.get_attribute('href'))\n",
    "Desc_url"
   ]
  },
  {
   "cell_type": "code",
   "execution_count": 40,
   "metadata": {},
   "outputs": [
    {
     "data": {
      "text/plain": [
       "20"
      ]
     },
     "execution_count": 40,
     "metadata": {},
     "output_type": "execute_result"
    }
   ],
   "source": [
    "len(Desc_url)"
   ]
  },
  {
   "cell_type": "code",
   "execution_count": 41,
   "metadata": {},
   "outputs": [],
   "source": [
    "import time\n",
    "from selenium.common.exceptions import NoSuchElementException"
   ]
  },
  {
   "cell_type": "code",
   "execution_count": 42,
   "metadata": {},
   "outputs": [
    {
     "data": {
      "text/plain": [
       "['Job description\\nMinumum 3 years of experience in Data Science/Machine learning\\n\\nLocation : PAN INDIA\\nExp : 3 - 7 Years\\n\\nMinimum 3 year of experience in being Applied Machine Learning Engineer role\\nResearch, develop, and implement prediction, optimization, and analytics tools.\\nDocument and communicate methodology and results to technical and non-technical audiences\\nGuide and implement best practices of curated data and evaluate ML models on large-scale data\\nLead design and implementation of Machine Learning algorithms, combining with rule-based optimization to deliver significant improvement in\\nproduct metrics\\nWrite production ready high quality, maintainable and scalable code.\\nDesign and analyze metrics to verify model and algorithm effectiveness.\\nExperience with data analysis languages such as Python or Scala\\nExperience with Machine Learning tools (Azure ML, SageMaker, TensorFlow, Kubernetes, etc.)\\nExperience with Machine Learning Languages (R, Python, .Net Core, etc.)\\n\\nRoleProduct Manager\\nIndustry TypeIT Services & Consulting\\nFunctional AreaIT Software - Application Programming, Maintenance\\nEmployment TypeFull Time, Permanent\\nRole CategoryProgramming & Design\\nEducation\\nUG :Any Graduate\\nKey Skills\\nData ScienceMachine LearningPython\\nTensorflowAlgorithmsSCALAData AnalysisAnalyticsKubernetes\\nSkills highlighted with ‘‘ are preferred keyskills',\n",
       " '--',\n",
       " 'Job description\\nUse predictive modeling to increase and optimize customer experiences, revenue generation, campaign optimization and other business outcomes\\nWork with product management to develop data use cases and embed predictive models in workflows on resource constrained platforms and cloud enabled.\\nSelecting features, building and optimizing classifiers using machine learning and deep learning techniques\\nCollaborates with Data Engineers to enhance data collection and ingestion/curation techniques to include information that is relevant for building analytic systems\\nProcessing, cleansing, and verifying the integrity of data used for analysis\\nDevelop processes and tools to monitor and analyze model performance and data accuracy. Life cycle management of predictive models.\\nAdherence to compliance procedures in accordance with regulatory standards, requirements, and policies. Managing and designing the reporting environment, including data sources security, and metadata.\\nJob Qualifications:\\nMaster s degree or PhD in Computer Science, Information management, Statistics or related field, with 3 to 5 years of experience in the Consumer or Healthcare industry manipulating data sets and building predictive models with focus on product development\\nExperience in statistical modelling, machine learning, data mining, unstructured data analytics and natural language processing. Sound understanding of - Bayesian Modelling, Classification Models, Cluster Analysis, Neural Network, Nonparametric Methods, Multivariate Statistics, etc.\\nStrong hands on knowledge of ML techniques like regression algorithms, K-NN, Na ve Bayes, SVM and ensemble techniques like Random forest, AdaBoost etc\\nHaving strong knowledge in unsupervised learning algorithms using Neural networks and Deep-Learning\\nStrong knowledge in Data Wrangling and Exploration techniques to identify the patterns, trends and outliners.\\nDeep knowledge and practical experience with data science toolkits, such as NumPy, Pandas, scikit-learn or equivalent\\nExperience with data visualization tools, such as QlikView, Matplotlib, seaborn or equivalent tools.\\nProficiency in using query languages, such as SQL, PL/SQL\\nHands on experience in the one or more databases like Hadoop, AWS Redshift, Snowflake etc.\\nGood applied statistics skills, such as distributions, statistical testing, regression, etc.\\nGood ETL scripting and programming skills, such as Python, R or Scala to integrate developed solution into the proposition.\\nA team player capable of working and integrating across cross-functional team for implementing project requirements. Experience in technical requirements gathering and documentation.\\nAbility to work effectively and independently in a fast-paced global collaborative agile team environment with tight deadlines\\nA flexible, pragmatic and collaborative team player with innate ability to engage with stakeholders at all levels in the organization.\\nA self-starter with high levels of drive, energy, resilience and a desire for professional excellence with a passion for data and data science\\nRoleClinical Research Associate/Scientist\\nIndustry TypeMedical Services / Hospital\\nFunctional AreaMedical, Healthcare, R&D, Pharmaceuticals, Biotechnology\\nEmployment TypeFull Time, Permanent\\nRole CategoryR&D\\nEducation\\nUG :Any Graduate\\nPG :Post Graduation Not Required\\nKey Skills\\nProduct managementComputer sciencemetadataMachine learningAgilePLSQLHealthcareQlikViewData miningPython',\n",
       " \"Job description\\n\\nMust Have skill sets:\\n\\nExcellent knowledge of various statistical / Machine Learning / Deep Learning algorithms such as Feature Engineering/selection, Time series, Regression, Classification, Clustering, Recommendation Engine, Anomaly Detection, NLP, Reinforcement Learning etc.)\\n4 to 8 years of hands-on expertise in developing data science models by applying above mentioned algorithms on structured / text data, using R / Python\\nProficient in writing optimized query using any one of the DB query language (Hive/Impala/SQL/MongoDB etc.). Knowledge of big data is essential\\n\\nGood to Have skill sets:\\n\\nVisualization using any one of the technologies (Tableau, PowerBI, RShiny, matplotlib, ggplot etc.). In case of lack of skills, eagerness to learn is must\\nInsight Generation and Story telling to end consumers\\nExperience across end to end data science project life cycle (use case framing, data collection, data exploration, design of experiments, model development, selection and deployment, post production support)\\nSelf-motivated to learn different techniques / technologies, as per the project's need and go extra mile to bring customer delight\\n\\nEducational Qualification:\\n\\nAny of the following:\\n• Bachelors in Engineering / MCA\\n• Masters in Data Science/ Computer Applications/ Statistics/ Mathematics/ Economics/ Ops Research/ Other quantitative disciplines\\n• MBA\\n\\nJob Responsibilities:\\nOwn and execute end to end delivery of one or more than one data science model development, as per requirement provided by project/product manager\\nUnderstand business requirements from Product Managers/Business Users\\nExtract data from multiple data sources using Hadoop / SQL\\nDevelop, Validate and Operationalize predictive models using appropriate variables and ML/deep learning techniques\\nPerform ad-hoc deep dive analysis and generate actionable insights\\nCreate technical documentation and provide post-production support for a time-bound period\\nCommunicate the results to technical as well as business stakeholders across different hierarchies\\nRoleData Analyst\\nIndustry TypeRecruitment / Staffing\\nFunctional AreaAnalytics & Business Intelligence\\nEmployment TypeFull Time, Permanent\\nRole CategoryAnalytics & BI\\nEducation\\nUG :B.Tech/B.E. in Any Specialization\\nKey Skills\\nData ScienceMachine LearningPython\\nAnomaly DetectionMatplotlibRNLPReinforcement LearningDeep LearningSQL\\nSkills highlighted with ‘‘ are preferred keyskills\",\n",
       " '--',\n",
       " '--',\n",
       " 'Job description\\nAs a Senior Data Scientist for Walmart, you ll have the opportunity to:\\nDrive data-derived insights across a wide range of divisions by developing advanced statistical models, machine learning algorithms and computational algorithms based on business initiatives\\nDirect the gathering of data, assessing data validity and synthesizing data into large analytics datasets to support project goals\\nUtilize big data analytics and advanced data science techniques to identify trends, patterns, and discrepancies in data. Determine additional data needed to support insights\\nBuild and train statistical models and machine learning algorithms\\nApply your semantic, natural language processing and understanding expertise where required\\nUse deep learning and image recognition project goals\\nComputer Vision will be an important focus area for this role\\nProductionize the models and make those available at scale\\nBuild and maintain end to end Machine Learning pipelines\\nBe comfortable with ambiguity and uncertainty and the eagerness to change the world in a huge way by being a self-motivated learner and builder\\nCommunicate recommendations to business partners and influencing future plans based on insights\\nYour Responsibility\\nPlay a key role to solve complex problems, pivotal to Walmart s business and drive actionable insights from petabytes of data\\nUtilize product mindset to build, scale and deploy holistic data science products after successful prototyping\\nDemonstrate incremental solution approach with agile and flexible ability to overcome practical problems\\nPartner with senior team members to assess customer needs and define business questions\\nClearly articulate and present recommendations to business partners, and influence future plans based on insights\\nWork with customer centric mindset to deliver high quality business driven analytic solution\\nDrive innovation in approach, method, practices, process, outcome, delivery, or any component of end-to-end problem solving\\nDemonstrates up-to-date expertise and applies this to the development, execution, and improvement of action plans\\nPreferred Qualifications\\nBachelors degree in Statistics, Mathematics, Computer Science or a related field and 8 years experience in an analytics/DS related field, or,\\nMasters degree in Statistics, Mathematics, Computer Science or a related field and 6 years experience in an analytics/DS related field.\\nHigh proficiency in data mining, modeling, validation and insight generation.\\nExcellent working knowledge of statistics, mathematics, machine learning, data mining, deep learning\\nHigh proficiency in coding including Python and SQL\\nExperience with databases (for example, DB2, Oracle, SQL Server)\\nExperience with Big Data technologies such as Pig, Hive and/or Spark\\nAbility to work with large data sets. Has sound understanding of big data technology stack\\nUnderstanding of cloud computing platforms and large-scale databases\\nProven ability to collaborate and work in teams\\nExcellent with communications and stakeholder engagement\\nData science publications in recognized platforms/journals\\nProven ability to work in agile mode on data science sprint projects\\nRoleDatabase Architect/Designer\\nIndustry TypeIT Services & Consulting\\nFunctional AreaIT Software - DBA, Datawarehousing\\nEmployment TypeFull Time, Permanent\\nRole CategoryProgramming & Design\\nEducation\\nUG :Any Graduate\\nPG :Any Postgraduate\\nKey Skills\\nProcurementComputer scienceCloud computingData analysisdata scienceDb2CodingAgileData miningPython',\n",
       " 'Job description\\nResponsibilities include:\\nDefining and evaluating key metrics and understanding what moves them and why\\nOwnership of conceptualizing, developing, and maintaining dashboards and visualizations\\nInvestigating evolving fraud trends to extract patterns, identify root causes and propose actionable solutions\\nCommunicating analyses and recommendations to cross functional stakeholders for decision making\\nEmpowering the team to answer data questions quickly and easily by building high-quality ground truth data sets\\nHere are example traits we value:\\nProfessional industry experience in a quantitative analysis role (7+ years preferred)\\nComfortable in SQL and some experience with a programming language (Python or R a plus)\\nAbility to communicate clearly and effectively to cross functional partners of varying technical levels\\nAbility to define relevant metrics that can guide and influence stakeholders to the appropriate and accurate insights\\nExperience or willingness to learn tools to create data pipelines using Airflow\\nBuilding clear and easy to understand dashboards (Tableau) and presentations\\nRoleGraphic/Web Designer\\nIndustry TypeInternet\\nFunctional AreaIT Software - DBA, Datawarehousing\\nEmployment TypeFull Time, Permanent\\nRole CategoryProgramming & Design\\nEducation\\nUG :Any Graduate\\nPG :Any Postgraduate\\nKey Skills\\nData ScienceRData ScientistTableauPythonSql',\n",
       " '--',\n",
       " '--',\n",
       " 'Job description\\n  Skills\\nRequired Skills: Data Science, Machine Learning, Deep Learning, Python, NLP\\nDesired Skills: Computer Vision\\nRoles and responsibilities\\nExperience in Data Modelling, R, Python, SQL, Data Science, Machine Learning, Deep Learning, NLP, Statistics\\nHave ability to solve Business problems using Data\\nShould possess extensive knowledge of and experience in applying data mining and machine learning techniques on large amount of datasets\\nHigh level of proficiency in statistical tools like R, Python\\nCandidate will be expected to communicate analytical results in a way that is meaningful for business stakeholders and provides actionable insights.\\nHave the ability to discover new opportunities where advanced analytical techniques can be leveraged for solving business problems\\nGood to Have\\nExpertise in programming languages like Java/C/C /Python\\nExperience with relational databases and SQL is good to have\\nExperience in audio and video analytics\\nRelevant experience in Big Data platforms like Hadoop eco-system\\nCome up with innovative algorithms and solutions\\nStaffing Type:Permanent\\nRoleClinical Research Associate/Scientist\\nIndustry TypeIT Services & Consulting\\nFunctional AreaMedical, Healthcare, R&D, Pharmaceuticals, Biotechnology\\nEmployment TypeFull Time, Permanent\\nRole CategoryR&D\\nEducation\\nUG :Any Graduate\\nPG :Any Postgraduate\\nKey Skills\\nHospitalityNSEStaffingBfsiAnalyticalAgileData miningAnalyticsAutomotiveSQL',\n",
       " 'Job description\\nDesign, coordinate, and implement data driven business and technology solutions to support innovation initiatives\\nCommunicate complex models, analysis and recommendations in a clear and precise manner\\nProvide thought leadership in statistical modeling and machine learning/ AI. NLP and Deep Learning are the two focus areas\\nDeliver actionable insights to stakeholders through rich visualization and presentation\\nManage priorities between research and deliverables effectively\\nCollaborate actively with topic owners to understand and develop advanced analytics / data science\\nYour Qualifications\\nBachelor s degree in Engineering / Analytics or Master s Degree in Statistics/Computer Applications/ IT/Analytics /any discipline related to Data Science / Analytics.\\n7 years of progressive experience in Machine learning/Deep learning preferably working with packages like NLTK, BERT, ELMo etc\\nFluent in Python and have experience with NLP libraries like , Spacy, Genism, Glove, doc2vec etc.\\nExposure to Microsoft LUIS will be preferred\\nPossess advanced knowledge of the HuggingFace libraries and concepts like tokens, tokenization, stemming, lemmatization, regex.\\nSolid command on statistics and ability to connect theory and practice of data mining, machine learning to solve real-world use case\\nl Strong working knowledge of Python (BERT, GPT, genism, SpaCy, tensorflow, Theano, PyTorch, SciPy, scikit-learn, pandas), SQL, Unix (awk, sed, bash) for data wrangling, data analysis, modeling.\\nKnowledgeable in Natural Language processing (NLP) and quantitative analysis\\nPrevious experience building chatbots for Customer Service / specific business verticals (Bonus)\\nInteresting side projects or Kaggle competition results (Bonus)\\nExcellent critical thinking ability, result orientation and project management skills\\nSound verbal and written communication skills\\nRoleSystem Analyst\\nIndustry TypeIT Services & Consulting\\nFunctional AreaIT Software - DBA, Datawarehousing\\nEmployment TypeFull Time, Permanent\\nRole CategoryProgramming & Design\\nEducation\\nUG :B.Tech/B.E. in Production/Industrial\\nPG :M.Tech in Production/Industrial\\nKey Skills\\nUnixData analysisMachine learningCustomer supportCustomer serviceData miningmicrosoftAnalyticsSQLPython',\n",
       " 'Job description\\nPosition Responsibilities\\no Solve business problems by applying advanced Machine Learning algorithms and complex statistical models on large volumes of data.\\no Build, scale and deploy holistic data science products after successful prototyping.\\no Clearly articulate and present recommendations to business partners, and influence future plans based on insights.\\no Follow industry best practices, stay up to date with the state of the art in machine learning research and practice, drive innovation by contributing to the latest applied research in data science through publications and patents.\\no Promote and support company policies, procedures, mission, values, and standards of ethics and integrity.\\nPosition Requirements\\no Deep knowledge of the foundations of machine learning and statistics - can easily understand and implement a machine learning research paper.\\no Solid experience working with state-of-the-art supervised and unsupervised machine learning algorithms on real-world problems, preferably in ecommerce domain.\\no Strong Python coding skills and able to work with at least one other programming language such as Java/Scala.\\no Ability to work in a big data ecosystem - expert in SQL/Hive and ability to work with Spark.\\no Strong ability to understand the business and good stakeholder management capabilities.\\nQualifications\\no PhD with > 2 years of experience / 4-year bachelor s degree with > 7 years of experience / Master s degree with > 5 years of experience. Educational qualifications should be preferably in Computer Science or a related area. Experience should be relevant to the role.\\nGood to have:\\no Experience in ecommerce domain.\\no Demonstrated success in data science platforms like Kaggle.\\nRoleTeam Lead/Technical Lead\\nIndustry TypeIT Services & Consulting\\nFunctional AreaIT Software - Other\\nEmployment TypeFull Time, Permanent\\nRole CategoryProgramming & Design\\nEducation\\nUG :Any Graduate\\nPG :Any Postgraduate\\nKey Skills\\nComputer sciencedata scienceCodingMachine learningSCALAE-commerceStakeholder managementAnalyticsSQLPython',\n",
       " 'Job description\\nHello,\\nWe are hiring on behalf of one of the largest BPO/ Consulting services.\\nThe skills rquired are Natural Language Processing, Python, Data Science and Machine Learning.\\n\\nTitle: Manager / Sr. Manager\\nLocation:Bangalore , Gurugram, Mumbai\\nDuration : Fulltime\\nMax Notice:1 Month\\nRoleHead/VP/GM - Analytics & BI\\nIndustry TypeRecruitment / Staffing\\nFunctional AreaAnalytics & Business Intelligence\\nEmployment TypeFull Time, Permanent\\nRole CategorySenior Management\\nEducation\\nUG :Any Graduate\\nPG :Any Postgraduate\\nDoctorate :Any Doctorate\\nKey Skills\\nData ScienceNatural Language ProcessingMachine LearningPython',\n",
       " 'Job description\\n\\nCRISIL (formerly Credit Rating Information Services of India Limited) is an Indian analytical company providing ratings, research, and risk and policy advisory services and is a subsidiary of American company S&P Global\\n\\nWe are looking Data Scientist for Mumbai & Bangalore location\\nCandidates who can join immediately or within 30-45 need only apply\\n\\nPlease refer below JD for your reference-\\n\\nJob Description Data scientist:\\nClient oriented approach to problem solving. Individual should be able to have a holistic view of multiple businesses and develop analytic solutions accordingly.\\nOwn and deliver multiple and complex analytic projects. This would require an understanding of business context, conversion of business problems in modeling, and implementing such solutions to create business value.\\nAlways up to date with the latest use cases of modeling community, machine learning and deep learning algorithms and share knowledge within the team.\\nProficiency in basic statistics, hypothesis testing, segmentation and predictive modeling.\\nAbility to translate and articulate technical thoughts and ideas to a larger audience including influencing skills with peers and senior management.\\nStrong project management skills.\\nAbility to coach and mentor juniors.\\nEagerness to work on new and challenging tasks on a regular basis with an ability to research new ways of doing things better/efficiently.\\nContribute to organizational initiatives in wide ranging areas including competency development, training, organizational building activities etc.\\nSkills\\n\\nBasic Qualifications\\n\\nBachelors Degree with 2+ years of experience in data analytics,\\nHands-on experience in Python / SAS or R programing along with strong experience in SQL and Excel Macros.\\nExperienced in working with large and multiple datasets, data warehouses and ability to pull data using relevant programs and coding.\\nWell versed with necessary data preprocessing and feature engineering skills.\\nAt least 2 years of experience implementing Machine learning algorithms such as Random Forest and Gradient Boosting in solving business problems such as Default classification and macroeconomic forecasting.\\nAt least 1 year of experience implementing deep learning techniques like neural networks\\nExposure to deep learning packages like Tensorflow\\nStrong background in Statistical Analysis\\nBackground in BFSI space will be preferred\\n\\nRoleData Analyst\\nIndustry TypeBanking\\nFunctional AreaAnalytics & Business Intelligence\\nEmployment TypeFull Time, Permanent\\nRole CategoryAnalytics & BI\\nEducation\\nUG :Any Graduate\\nPG :Any Postgraduate\\nKey Skills\\nrMachine LearningPython\\nTensorflowPredictive ModelingSegmentationNeural NetworksDeep LearningRandom ForestSQL\\nSkills highlighted with ‘‘ are preferred keyskills',\n",
       " 'Job description\\nRequired Technical and Professional Expertise\\n• 6+ years of industry work experience in data scientist projects\\n• Master’s degree or higher in Statistics/Math/Computer Science or related field\\n• Background in applied statistical modeling on large experimental or observational data sets\\n• Experience extracting data from a variety of sources, and a desire to expand those skills (working knowledge SQL is required, Spark is a plus)\\n• Experience with one or more statistical or machine learning software such as R, Python, etc.\\n• Must showcase past work through published articles/GitHub/social media\\n\\nPreferred Technical and Professional Expertise\\n• Knowledge of distributed computing systems, e.g. Cosmos, Spark, Hadoop, and relational database management system\\n• PhD. in Statistics is preferred\\n• You love collaborative environments that use agile methodologies to encourage creative design thinking and find innovative ways to develop with cutting edge technologies\\n• Ambitious individual who can work under their own direction towards agreed targets/goals and with creative approach to work\\n• Intuitive individual with an ability to manage change and proven time management\\n• Proven interpersonal skills while contributing to team effort by accomplishing related results as needed\\nRoleData Analyst\\nIndustry TypeIT Services & Consulting\\nFunctional AreaAnalytics & Business Intelligence\\nEmployment TypeFull Time, Permanent\\nRole CategoryAnalytics & BI\\nEducation\\nUG :B.Sc in Maths, Statistics\\nPG :MS/M.Sc(Science) in Maths, Statistics\\nDoctorate :Doctorate Not Required\\nKey Skills\\nRData scienceData analyticsSQLPython',\n",
       " 'Job description\\nRoles and Responsibilities\\nRequirements :\\n\\n- 6-9 years of strong experience in data mining, machine learning and statistical analysis.\\n\\n- BS/ MS/ PhD in Computer Science, Statistics, Applied Math, or related areas from Premier institutes ( only IITs / IISc / BITS / Top NITs or top US university should apply)\\n\\n- Ability to lead and deliver in a fast-paced start-up environment.\\n\\n- Fluency in tools such as Python/ R/ Matlab etc.\\n\\n- Strong intuition for data and Keen aptitude on large scale data analysis\\n\\n- Excellent written and verbal communication skills.\\n\\n- Ability to collaborate across teams and strong interpersonal skills.\\nRoleData Analyst\\nIndustry TypeIT Services & Consulting\\nFunctional AreaAnalytics & Business Intelligence\\nEmployment TypeFull Time, Permanent\\nRole CategoryAnalytics & BI\\nEducation\\nUG :B.Sc in Computers, Statistics\\nPG :MS/M.Sc(Science) in Computers, Statistics\\nDoctorate :Ph.D/Doctorate in Statistics, Computers\\nKey Skills\\nData ScienceRData ScientistData MiningStatistical AnalystMachine LearningMATLABPython',\n",
       " 'Job description\\nJob Description\\nUnderstand and design analytical solutions to business problems leveraging data science\\nUnderstand and get requirements from Stakeholders\\nPropose and execute solutions and present deliverables to stakeholders\\nManage and optimize deliverables\\nMentor and train new team members\\nDevelop POCs to enhance the teams capability\\n\\nRequirements\\nUnderstanding of mathematical, statistical, and theoretical foundations of statistics and machine learning (ML) and parametric and non-parametric models\\nKnowledge of advanced data mining techniques, curating, processing, and transforming data to produce datasets\\nUse statistical techniques and ML methods for predictive modeling / classification of problems around clients, distribution, sales, marketing, client profiles, and segmentation\\nProvide relevant and actionable recommendations / insights for businesses\\nUnderstanding of ML lifecycle that includes feature engineering, training, validation, scaling, deployment, scoring, monitoring, and feedback loop\\nExpertise in SAS Visual Analytics, Tableau, and Python\\nExpert in Python / R / SAS\\nExperience with cloud computing infrastructure, such as AWS / Azure / GCP\\nAble to develop, test, and deploy models on cloud / web\\n\\nEducation and Experience\\nBE / B.Tech. / MBA / M.Stat. / M.SC. or equivalent degree in Quant. from a reputed institute\\n2-8 years of relevant experience\\n\\nRoleBusiness Analyst\\nIndustry TypeAnalytics / KPO / Research\\nFunctional AreaAnalytics & Business Intelligence\\nEmployment TypeFull Time, Permanent\\nRole CategoryAnalytics & BI\\nEducation\\nUG :B.Tech/B.E. in Any Specialization\\nKey Skills\\nPredictive ModelingData ScienceRMarketing Mix ModelingData MiningMarketing AnalyticsMachine LearningPythonSales Analytics',\n",
       " '--',\n",
       " \"Job description\\n\\nRole Overview: \\n- The person will be part of the analytics team for a major real estate and investment client. He/ She will work with different stakeholders across data science/data engineering/IT for model development and deployment.\\n- The person will also be required to participate actively in brainstorming sessions for improvement opportunities and take it to completion\\n- A suitable candidate should have 2 to 4 years of experience in a similar role and should possess a go -getter attitude. He / She should be able to deal with an aggressively changing environment.\\n\\nKey Responsibilities & Skillsets: \\n- 3 to 5 years of experience in data analysis, building predictive models and knowledge of machine learning algorithms\\n- Superior analytical and problem-solving skills \\n- Should be able to work on a problem independently and prepare client ready deliverable with minimal or no supervision\\n- Should have a strong grasp of advanced SQL functionalities (joins, nested query, and procedures). \\n- Expertise in Python\\n\\n Candidate Profile:\\n- Bachelors/Master's degree in economics, mathematics, actuarial sciences, computer science/engineering, operations research or related analytics areas; candidates with BA/BS degrees in the same fields from the top tier academic institutions are also welcome to apply\\n- Strong and in-depth understanding of statistics\\n- Experience in Data analysis, predictive modelling & machine learning\\n- Superior analytical and problem-solving skills\\n- Able to work in fast pace continuously evolving environment and ready to take up challenges\\n- Good in written and oral communication\\n\\nRoleOther\\nIndustry TypeIT Services & Consulting\\nFunctional AreaOther\\nEmployment TypeFull Time, Permanent\\nRole CategoryOther\\nEducation\\nUG :B.Sc in Any Specialization, B.Tech/B.E. in Any Specialization\\nKey Skills\\nPredictive ModelingMachine LearningPython\"]"
      ]
     },
     "execution_count": 42,
     "metadata": {},
     "output_type": "execute_result"
    }
   ],
   "source": [
    "job_description=[]\n",
    "for i in Desc_url:\n",
    "    driver.get(i)\n",
    "    \n",
    "    try:\n",
    "        job_desc=driver.find_element_by_xpath(\"//section[@class='job-desc']\")\n",
    "        job_description.append(job_desc.text)\n",
    "    except:\n",
    "        job_description.append(\"--\")\n",
    "job_description"
   ]
  },
  {
   "cell_type": "code",
   "execution_count": 43,
   "metadata": {},
   "outputs": [
    {
     "data": {
      "text/plain": [
       "20"
      ]
     },
     "execution_count": 43,
     "metadata": {},
     "output_type": "execute_result"
    }
   ],
   "source": [
    "len(job_description)"
   ]
  },
  {
   "cell_type": "code",
   "execution_count": 160,
   "metadata": {},
   "outputs": [
    {
     "data": {
      "text/html": [
       "<div>\n",
       "<style scoped>\n",
       "    .dataframe tbody tr th:only-of-type {\n",
       "        vertical-align: middle;\n",
       "    }\n",
       "\n",
       "    .dataframe tbody tr th {\n",
       "        vertical-align: top;\n",
       "    }\n",
       "\n",
       "    .dataframe thead th {\n",
       "        text-align: right;\n",
       "    }\n",
       "</style>\n",
       "<table border=\"1\" class=\"dataframe\">\n",
       "  <thead>\n",
       "    <tr style=\"text-align: right;\">\n",
       "      <th></th>\n",
       "      <th>Job_title</th>\n",
       "      <th>Company_name</th>\n",
       "      <th>Job_Location</th>\n",
       "      <th>Job_Desc</th>\n",
       "    </tr>\n",
       "  </thead>\n",
       "  <tbody>\n",
       "    <tr>\n",
       "      <th>0</th>\n",
       "      <td>Data Scientist/ Machine Learning Engineer</td>\n",
       "      <td>Tata Consultancy Services</td>\n",
       "      <td>Hyderabad/Secunderabad, Pune, Ahmedabad, Gurga...</td>\n",
       "      <td>Job description\\nMinumum 3 years of experience...</td>\n",
       "    </tr>\n",
       "    <tr>\n",
       "      <th>1</th>\n",
       "      <td>Data Scientist / Data Analyst</td>\n",
       "      <td>IBM</td>\n",
       "      <td>Gurgaon/Gurugram</td>\n",
       "      <td>--</td>\n",
       "    </tr>\n",
       "    <tr>\n",
       "      <th>2</th>\n",
       "      <td>Data Scientist / Data Analyst / Business Analy...</td>\n",
       "      <td>Accenture</td>\n",
       "      <td>Ghaziabad, Faridabad, Delhi / NCR</td>\n",
       "      <td>Job description\\nUse predictive modeling to in...</td>\n",
       "    </tr>\n",
       "    <tr>\n",
       "      <th>3</th>\n",
       "      <td>Only Fresher / Data Scientist / Data Analyst /...</td>\n",
       "      <td>Delhivery</td>\n",
       "      <td>Noida, Gurgaon/Gurugram, Delhi / NCR</td>\n",
       "      <td>Job description\\n\\nMust Have skill sets:\\n\\nEx...</td>\n",
       "    </tr>\n",
       "    <tr>\n",
       "      <th>4</th>\n",
       "      <td>Data Scientist / Data Analyst / Business Analy...</td>\n",
       "      <td>Ericsson-Worldwide</td>\n",
       "      <td>Noida, New Delhi, Gurgaon/Gurugram</td>\n",
       "      <td>--</td>\n",
       "    </tr>\n",
       "    <tr>\n",
       "      <th>5</th>\n",
       "      <td>Data Scientist</td>\n",
       "      <td>UnitedHealth Group</td>\n",
       "      <td>Gurgaon/Gurugram</td>\n",
       "      <td>--</td>\n",
       "    </tr>\n",
       "    <tr>\n",
       "      <th>6</th>\n",
       "      <td>Data Scientist - Insurance</td>\n",
       "      <td>Optum</td>\n",
       "      <td>Noida, Gurgaon/Gurugram</td>\n",
       "      <td>Job description\\nAs a Senior Data Scientist fo...</td>\n",
       "    </tr>\n",
       "    <tr>\n",
       "      <th>7</th>\n",
       "      <td>Immediate Openings For Data Scientist For Wipr...</td>\n",
       "      <td>Optum Global Solutions</td>\n",
       "      <td>Gurgaon/Gurugram</td>\n",
       "      <td>Job description\\nResponsibilities include:\\nDe...</td>\n",
       "    </tr>\n",
       "    <tr>\n",
       "      <th>8</th>\n",
       "      <td>Data Scientist - Machine Learning/ NLP</td>\n",
       "      <td>Valiance Solutions</td>\n",
       "      <td>Gurgaon/Gurugram</td>\n",
       "      <td>--</td>\n",
       "    </tr>\n",
       "    <tr>\n",
       "      <th>9</th>\n",
       "      <td>Data Scientist</td>\n",
       "      <td>EXL Service</td>\n",
       "      <td>Noida</td>\n",
       "      <td>--</td>\n",
       "    </tr>\n",
       "  </tbody>\n",
       "</table>\n",
       "</div>"
      ],
      "text/plain": [
       "                                           Job_title  \\\n",
       "0          Data Scientist/ Machine Learning Engineer   \n",
       "1                      Data Scientist / Data Analyst   \n",
       "2  Data Scientist / Data Analyst / Business Analy...   \n",
       "3  Only Fresher / Data Scientist / Data Analyst /...   \n",
       "4  Data Scientist / Data Analyst / Business Analy...   \n",
       "5                                     Data Scientist   \n",
       "6                         Data Scientist - Insurance   \n",
       "7  Immediate Openings For Data Scientist For Wipr...   \n",
       "8             Data Scientist - Machine Learning/ NLP   \n",
       "9                                     Data Scientist   \n",
       "\n",
       "                Company_name  \\\n",
       "0  Tata Consultancy Services   \n",
       "1                        IBM   \n",
       "2                  Accenture   \n",
       "3                  Delhivery   \n",
       "4         Ericsson-Worldwide   \n",
       "5         UnitedHealth Group   \n",
       "6                      Optum   \n",
       "7     Optum Global Solutions   \n",
       "8         Valiance Solutions   \n",
       "9                EXL Service   \n",
       "\n",
       "                                        Job_Location  \\\n",
       "0  Hyderabad/Secunderabad, Pune, Ahmedabad, Gurga...   \n",
       "1                                   Gurgaon/Gurugram   \n",
       "2                  Ghaziabad, Faridabad, Delhi / NCR   \n",
       "3               Noida, Gurgaon/Gurugram, Delhi / NCR   \n",
       "4                 Noida, New Delhi, Gurgaon/Gurugram   \n",
       "5                                   Gurgaon/Gurugram   \n",
       "6                            Noida, Gurgaon/Gurugram   \n",
       "7                                   Gurgaon/Gurugram   \n",
       "8                                   Gurgaon/Gurugram   \n",
       "9                                              Noida   \n",
       "\n",
       "                                            Job_Desc  \n",
       "0  Job description\\nMinumum 3 years of experience...  \n",
       "1                                                 --  \n",
       "2  Job description\\nUse predictive modeling to in...  \n",
       "3  Job description\\n\\nMust Have skill sets:\\n\\nEx...  \n",
       "4                                                 --  \n",
       "5                                                 --  \n",
       "6  Job description\\nAs a Senior Data Scientist fo...  \n",
       "7  Job description\\nResponsibilities include:\\nDe...  \n",
       "8                                                 --  \n",
       "9                                                 --  "
      ]
     },
     "execution_count": 160,
     "metadata": {},
     "output_type": "execute_result"
    }
   ],
   "source": [
    "Jobs=pd.DataFrame({})\n",
    "Jobs[\"Job_title\"]= Job_title[:10]\n",
    "Jobs[\"Company_name\"]= Company_name[:10]\n",
    "Jobs[\"Job_Location\"]= Job_location[:10]\n",
    "Jobs[\"Job_Desc\"]= job_description[:10]\n",
    "Jobs"
   ]
  },
  {
   "cell_type": "code",
   "execution_count": null,
   "metadata": {},
   "outputs": [],
   "source": []
  },
  {
   "cell_type": "markdown",
   "metadata": {},
   "source": [
    "# Q3"
   ]
  },
  {
   "cell_type": "code",
   "execution_count": 46,
   "metadata": {},
   "outputs": [],
   "source": [
    "driver = webdriver.Chrome(r\"C:\\Users\\hp\\Desktop\\Flip Robo\\chromedriver.exe\")"
   ]
  },
  {
   "cell_type": "code",
   "execution_count": 47,
   "metadata": {},
   "outputs": [],
   "source": [
    "url= \"https://www.naukri.com/\"\n",
    "driver.get(url)"
   ]
  },
  {
   "cell_type": "code",
   "execution_count": 48,
   "metadata": {},
   "outputs": [],
   "source": [
    "search_job=driver.find_element_by_id(\"qsb-keyword-sugg\")\n",
    "search_job\n",
    "search_job.send_keys(\"Data Scientist\")"
   ]
  },
  {
   "cell_type": "code",
   "execution_count": 49,
   "metadata": {},
   "outputs": [],
   "source": [
    "search_btn=driver.find_element_by_xpath(\"//button[@class='btn']\")\n",
    "search_btn\n",
    "search_btn.click()"
   ]
  },
  {
   "cell_type": "code",
   "execution_count": 50,
   "metadata": {},
   "outputs": [],
   "source": [
    "filter_loc=driver.find_element_by_xpath(\"//span[@title='Delhi / NCR']\")\n",
    "filter_loc\n",
    "filter_loc.click()"
   ]
  },
  {
   "cell_type": "code",
   "execution_count": 51,
   "metadata": {},
   "outputs": [],
   "source": [
    "filter_salary=driver.find_element_by_xpath(\"//span[@title='3-6 Lakhs']\")\n",
    "filter_salary\n",
    "filter_salary.click()"
   ]
  },
  {
   "cell_type": "code",
   "execution_count": 52,
   "metadata": {},
   "outputs": [
    {
     "data": {
      "text/plain": [
       "[<selenium.webdriver.remote.webelement.WebElement (session=\"b25c593521401934fef0a18f3825269d\", element=\"53f1bca8-84b1-4213-8a7e-86a54d62fb61\")>,\n",
       " <selenium.webdriver.remote.webelement.WebElement (session=\"b25c593521401934fef0a18f3825269d\", element=\"20f91eee-1bce-41e1-81c0-c68117933e3e\")>,\n",
       " <selenium.webdriver.remote.webelement.WebElement (session=\"b25c593521401934fef0a18f3825269d\", element=\"d8a1e477-abb4-450e-b5fe-5a281cb572a0\")>,\n",
       " <selenium.webdriver.remote.webelement.WebElement (session=\"b25c593521401934fef0a18f3825269d\", element=\"bd13d6bb-3a4a-4e9b-9bc3-c87c5a0dbc1b\")>,\n",
       " <selenium.webdriver.remote.webelement.WebElement (session=\"b25c593521401934fef0a18f3825269d\", element=\"66398e5e-d94b-4316-a7c6-64a204a20f15\")>,\n",
       " <selenium.webdriver.remote.webelement.WebElement (session=\"b25c593521401934fef0a18f3825269d\", element=\"fb7429fa-ca66-4faa-9779-5c04f8f21875\")>,\n",
       " <selenium.webdriver.remote.webelement.WebElement (session=\"b25c593521401934fef0a18f3825269d\", element=\"299682de-be44-4ea2-851d-06cab1f22bc4\")>,\n",
       " <selenium.webdriver.remote.webelement.WebElement (session=\"b25c593521401934fef0a18f3825269d\", element=\"76ed2dc2-4cea-4b59-b123-22be36087fe7\")>,\n",
       " <selenium.webdriver.remote.webelement.WebElement (session=\"b25c593521401934fef0a18f3825269d\", element=\"1db5d741-2207-45a1-a725-3b0a1543af3f\")>,\n",
       " <selenium.webdriver.remote.webelement.WebElement (session=\"b25c593521401934fef0a18f3825269d\", element=\"f6b72fea-357c-48a6-a2c3-e4ab42317f9e\")>,\n",
       " <selenium.webdriver.remote.webelement.WebElement (session=\"b25c593521401934fef0a18f3825269d\", element=\"371562ff-79a2-4d73-8aa0-7c8e5a5aad7d\")>,\n",
       " <selenium.webdriver.remote.webelement.WebElement (session=\"b25c593521401934fef0a18f3825269d\", element=\"eaa0f4ef-69c2-44eb-9302-f7a3f1554bcc\")>,\n",
       " <selenium.webdriver.remote.webelement.WebElement (session=\"b25c593521401934fef0a18f3825269d\", element=\"52f1bd16-e9d5-4943-9b8c-2903c058c17f\")>,\n",
       " <selenium.webdriver.remote.webelement.WebElement (session=\"b25c593521401934fef0a18f3825269d\", element=\"6de1f31b-55e4-4bc7-a257-099583779a30\")>,\n",
       " <selenium.webdriver.remote.webelement.WebElement (session=\"b25c593521401934fef0a18f3825269d\", element=\"7905b8db-3b3a-4370-bd81-58131406e55c\")>,\n",
       " <selenium.webdriver.remote.webelement.WebElement (session=\"b25c593521401934fef0a18f3825269d\", element=\"e6bf6f4d-cf0b-4d07-89d2-bbd93a8f39d1\")>,\n",
       " <selenium.webdriver.remote.webelement.WebElement (session=\"b25c593521401934fef0a18f3825269d\", element=\"bdb3f5ed-3111-49c0-92af-445151b3892a\")>,\n",
       " <selenium.webdriver.remote.webelement.WebElement (session=\"b25c593521401934fef0a18f3825269d\", element=\"01881c8d-5486-42c0-8d09-7cdde83cef87\")>,\n",
       " <selenium.webdriver.remote.webelement.WebElement (session=\"b25c593521401934fef0a18f3825269d\", element=\"a0bf8282-913e-40fa-8944-a643aac631bb\")>,\n",
       " <selenium.webdriver.remote.webelement.WebElement (session=\"b25c593521401934fef0a18f3825269d\", element=\"d47b8721-73cb-47c3-b820-431cac83b7ce\")>]"
      ]
     },
     "execution_count": 52,
     "metadata": {},
     "output_type": "execute_result"
    }
   ],
   "source": [
    "job_title=driver.find_elements_by_xpath(\"//a[@class='title fw500 ellipsis']\")\n",
    "job_title"
   ]
  },
  {
   "cell_type": "code",
   "execution_count": 53,
   "metadata": {},
   "outputs": [
    {
     "data": {
      "text/plain": [
       "['Data Scientist/ Machine Learning Engineer',\n",
       " 'Data Scientist / Data Analyst',\n",
       " 'Data Scientist / Data Analyst / Business Analytics - MNC Jobs Freshers',\n",
       " 'Only Fresher / Data Scientist / Data Analyst / Analytics - MNC Jobs',\n",
       " 'Data Scientist / Data Analyst / Business Analytics - MNC Jobs Freshers',\n",
       " 'Data Scientist',\n",
       " 'Data Scientist - Insurance',\n",
       " 'Immediate Openings For Data Scientist For Wipro C2H',\n",
       " 'Data Scientist - Machine Learning/ NLP',\n",
       " 'Data Scientist',\n",
       " 'Data Scientist - WFH - MIND Infotech',\n",
       " 'Junior Data Scientists & Engineers',\n",
       " 'Data Scientist',\n",
       " 'Data Scientist',\n",
       " 'Senior Data Scientist',\n",
       " 'Data Scientist-immediate Joiners',\n",
       " 'Data Analyst/Data Scientist',\n",
       " 'Data Scientist',\n",
       " 'Data Scientist',\n",
       " 'Data Scientist Internship']"
      ]
     },
     "execution_count": 53,
     "metadata": {},
     "output_type": "execute_result"
    }
   ],
   "source": [
    "Job_title = []\n",
    "for i in job_title:\n",
    "    Job_title.append(i.text)\n",
    "Job_title"
   ]
  },
  {
   "cell_type": "code",
   "execution_count": 54,
   "metadata": {},
   "outputs": [
    {
     "data": {
      "text/plain": [
       "[<selenium.webdriver.remote.webelement.WebElement (session=\"b25c593521401934fef0a18f3825269d\", element=\"92d357ac-beec-4583-893c-a74484e78c8a\")>,\n",
       " <selenium.webdriver.remote.webelement.WebElement (session=\"b25c593521401934fef0a18f3825269d\", element=\"c689a5d0-8ab1-4498-b16e-16c57cff5ce1\")>,\n",
       " <selenium.webdriver.remote.webelement.WebElement (session=\"b25c593521401934fef0a18f3825269d\", element=\"f1ebdf10-bfff-4508-9633-29d684c04f05\")>,\n",
       " <selenium.webdriver.remote.webelement.WebElement (session=\"b25c593521401934fef0a18f3825269d\", element=\"ed25195b-43f6-455b-bc87-6bb51a790bb0\")>,\n",
       " <selenium.webdriver.remote.webelement.WebElement (session=\"b25c593521401934fef0a18f3825269d\", element=\"cc5fc068-7fe5-41aa-9ec0-64616fb394e0\")>,\n",
       " <selenium.webdriver.remote.webelement.WebElement (session=\"b25c593521401934fef0a18f3825269d\", element=\"492449db-5ccc-4d6b-adf6-0898718dda5d\")>,\n",
       " <selenium.webdriver.remote.webelement.WebElement (session=\"b25c593521401934fef0a18f3825269d\", element=\"4f4e06fd-fa14-43db-886d-18a30ea8b1b6\")>,\n",
       " <selenium.webdriver.remote.webelement.WebElement (session=\"b25c593521401934fef0a18f3825269d\", element=\"da1c6fce-5482-49a1-bb2c-a2ece23eeff6\")>,\n",
       " <selenium.webdriver.remote.webelement.WebElement (session=\"b25c593521401934fef0a18f3825269d\", element=\"4e653a22-af8b-433d-9ed4-c0c4cb54f3ea\")>,\n",
       " <selenium.webdriver.remote.webelement.WebElement (session=\"b25c593521401934fef0a18f3825269d\", element=\"0696965b-a365-4d77-9c19-941feac2e17d\")>,\n",
       " <selenium.webdriver.remote.webelement.WebElement (session=\"b25c593521401934fef0a18f3825269d\", element=\"431e236e-faf8-467a-b367-1fa22461c16c\")>,\n",
       " <selenium.webdriver.remote.webelement.WebElement (session=\"b25c593521401934fef0a18f3825269d\", element=\"e8ee0ad4-7abf-4441-94bb-1f874a8a750a\")>,\n",
       " <selenium.webdriver.remote.webelement.WebElement (session=\"b25c593521401934fef0a18f3825269d\", element=\"93b42e56-b050-4b4b-81e7-99449f3a8643\")>,\n",
       " <selenium.webdriver.remote.webelement.WebElement (session=\"b25c593521401934fef0a18f3825269d\", element=\"377f70f9-636c-4779-8fe9-7ef9d4be8114\")>,\n",
       " <selenium.webdriver.remote.webelement.WebElement (session=\"b25c593521401934fef0a18f3825269d\", element=\"fa0aa5a7-199f-4b50-9d5f-edb45d450621\")>,\n",
       " <selenium.webdriver.remote.webelement.WebElement (session=\"b25c593521401934fef0a18f3825269d\", element=\"2b847f19-27cf-4b2b-97e2-bdbf47f9e332\")>,\n",
       " <selenium.webdriver.remote.webelement.WebElement (session=\"b25c593521401934fef0a18f3825269d\", element=\"f6471992-740c-4606-909d-25a45b2c7b92\")>,\n",
       " <selenium.webdriver.remote.webelement.WebElement (session=\"b25c593521401934fef0a18f3825269d\", element=\"ac5c6055-ef1a-4d65-afb1-28b98b8cc042\")>,\n",
       " <selenium.webdriver.remote.webelement.WebElement (session=\"b25c593521401934fef0a18f3825269d\", element=\"90e6cd4c-1127-4727-9959-dc1155390dfc\")>,\n",
       " <selenium.webdriver.remote.webelement.WebElement (session=\"b25c593521401934fef0a18f3825269d\", element=\"70e1c2f7-7e0b-49dd-9f6c-5555b152e619\")>]"
      ]
     },
     "execution_count": 54,
     "metadata": {},
     "output_type": "execute_result"
    }
   ],
   "source": [
    "company_name=driver.find_elements_by_xpath(\"//a[@class='subTitle ellipsis fleft']\")\n",
    "company_name"
   ]
  },
  {
   "cell_type": "code",
   "execution_count": 55,
   "metadata": {},
   "outputs": [
    {
     "data": {
      "text/plain": [
       "['Creative Hands HR Consultancy',\n",
       " 'CARS24',\n",
       " 'GABA Consultancy services',\n",
       " 'GABA Consultancy services',\n",
       " 'GABA Consultancy services',\n",
       " 'PROCESS NINE TECHNOLOGIES PVT.LTD.',\n",
       " 'Huquo Consulting Pvt. Ltd',\n",
       " 'IDESLABS PRIVATE LIMITED',\n",
       " 'TalPro',\n",
       " 'R Systems International Ltd.',\n",
       " 'MOTHERSONSUMI INFOTECH & DESIGNS LIMITED',\n",
       " 'PY Consultancy',\n",
       " 'Fractal Analytics',\n",
       " 'Kusum Healthcare Pvt. Ltd.',\n",
       " 'inVentiv International Pharma Services Pvt. Ltd.',\n",
       " 'Quikruit Consulting LLP',\n",
       " 'Skillenable Fintech Private Limited',\n",
       " 'BlackBuck',\n",
       " 'Country Veggie',\n",
       " 'iHackers Inc']"
      ]
     },
     "execution_count": 55,
     "metadata": {},
     "output_type": "execute_result"
    }
   ],
   "source": [
    "Company_name = []\n",
    "for i in company_name:\n",
    "    Company_name.append(i.text)\n",
    "Company_name"
   ]
  },
  {
   "cell_type": "code",
   "execution_count": 56,
   "metadata": {},
   "outputs": [
    {
     "data": {
      "text/plain": [
       "20"
      ]
     },
     "execution_count": 56,
     "metadata": {},
     "output_type": "execute_result"
    }
   ],
   "source": [
    "len(Company_name)"
   ]
  },
  {
   "cell_type": "code",
   "execution_count": 57,
   "metadata": {},
   "outputs": [
    {
     "data": {
      "text/plain": [
       "[<selenium.webdriver.remote.webelement.WebElement (session=\"b25c593521401934fef0a18f3825269d\", element=\"02db4575-da0c-4397-8e0a-6fb9cb41fe71\")>,\n",
       " <selenium.webdriver.remote.webelement.WebElement (session=\"b25c593521401934fef0a18f3825269d\", element=\"0a3ec586-4f26-4c8e-82bf-002db652eb0d\")>,\n",
       " <selenium.webdriver.remote.webelement.WebElement (session=\"b25c593521401934fef0a18f3825269d\", element=\"39a402be-789f-4836-90f6-0f0e6fc48f5d\")>,\n",
       " <selenium.webdriver.remote.webelement.WebElement (session=\"b25c593521401934fef0a18f3825269d\", element=\"ec5b9e1e-970a-4260-8bc2-b4d99fb79063\")>,\n",
       " <selenium.webdriver.remote.webelement.WebElement (session=\"b25c593521401934fef0a18f3825269d\", element=\"20870c32-6e0b-4ba9-8e0e-fb658a7e8f5b\")>,\n",
       " <selenium.webdriver.remote.webelement.WebElement (session=\"b25c593521401934fef0a18f3825269d\", element=\"915c1cda-507d-4c55-8469-edc6165e8f0e\")>,\n",
       " <selenium.webdriver.remote.webelement.WebElement (session=\"b25c593521401934fef0a18f3825269d\", element=\"7acf0b56-baa0-418e-a7c3-45ffc38aa8fd\")>,\n",
       " <selenium.webdriver.remote.webelement.WebElement (session=\"b25c593521401934fef0a18f3825269d\", element=\"6ae08577-2121-441f-91a6-c4548ae6e3e2\")>,\n",
       " <selenium.webdriver.remote.webelement.WebElement (session=\"b25c593521401934fef0a18f3825269d\", element=\"0a5b7076-9218-47cf-82bf-b2f2c6b20b53\")>,\n",
       " <selenium.webdriver.remote.webelement.WebElement (session=\"b25c593521401934fef0a18f3825269d\", element=\"c97944e6-b650-45c2-ad3e-d68ed1309c9c\")>,\n",
       " <selenium.webdriver.remote.webelement.WebElement (session=\"b25c593521401934fef0a18f3825269d\", element=\"3b379147-8848-4fc5-be0f-060bf16df923\")>,\n",
       " <selenium.webdriver.remote.webelement.WebElement (session=\"b25c593521401934fef0a18f3825269d\", element=\"a5924b19-c503-4e92-ade5-761481f052c0\")>,\n",
       " <selenium.webdriver.remote.webelement.WebElement (session=\"b25c593521401934fef0a18f3825269d\", element=\"29fe8b77-8ae6-4724-a6e6-b1f40b7a1e96\")>,\n",
       " <selenium.webdriver.remote.webelement.WebElement (session=\"b25c593521401934fef0a18f3825269d\", element=\"53f48911-6088-4a1f-81f6-aff801d779be\")>,\n",
       " <selenium.webdriver.remote.webelement.WebElement (session=\"b25c593521401934fef0a18f3825269d\", element=\"91f1f556-037b-463e-9f3e-2eebac15e288\")>,\n",
       " <selenium.webdriver.remote.webelement.WebElement (session=\"b25c593521401934fef0a18f3825269d\", element=\"5b78a6c2-810e-4929-a1fc-249fda656349\")>,\n",
       " <selenium.webdriver.remote.webelement.WebElement (session=\"b25c593521401934fef0a18f3825269d\", element=\"2415ea32-750e-49dc-9816-3ffc1cb8b29e\")>,\n",
       " <selenium.webdriver.remote.webelement.WebElement (session=\"b25c593521401934fef0a18f3825269d\", element=\"f21674f7-2ff3-4469-90c9-e64c70d777f4\")>,\n",
       " <selenium.webdriver.remote.webelement.WebElement (session=\"b25c593521401934fef0a18f3825269d\", element=\"69353d2c-5fa6-4b6a-8f4d-8ae02327533f\")>,\n",
       " <selenium.webdriver.remote.webelement.WebElement (session=\"b25c593521401934fef0a18f3825269d\", element=\"b28082f0-05bc-4306-a48c-269154d8e93c\")>]"
      ]
     },
     "execution_count": 57,
     "metadata": {},
     "output_type": "execute_result"
    }
   ],
   "source": [
    "job_location=driver.find_elements_by_xpath(\"//li[@class='fleft grey-text br2 placeHolderLi location']//span[1]\")\n",
    "job_location"
   ]
  },
  {
   "cell_type": "code",
   "execution_count": 58,
   "metadata": {},
   "outputs": [
    {
     "data": {
      "text/plain": [
       "['Hyderabad/Secunderabad, Pune, Ahmedabad, Gurgaon/Gurugram, Chennai, Bangalore/Bengaluru',\n",
       " 'Gurgaon/Gurugram',\n",
       " 'Ghaziabad, Faridabad, Delhi / NCR',\n",
       " 'Noida, Gurgaon/Gurugram, Delhi / NCR',\n",
       " 'Noida, New Delhi, Gurgaon/Gurugram',\n",
       " 'Gurgaon/Gurugram',\n",
       " 'Noida, Gurgaon/Gurugram',\n",
       " 'Gurgaon/Gurugram',\n",
       " 'Gurgaon/Gurugram',\n",
       " 'Noida',\n",
       " 'Pune, Chennai, Bangalore/Bengaluru, Delhi / NCR, Mumbai (All Areas)',\n",
       " 'New Delhi, Delhi / NCR',\n",
       " 'Mumbai, Gurgaon/Gurugram, Bangalore/Bengaluru',\n",
       " 'Delhi / NCR(Okhla)',\n",
       " 'Hyderabad/Secunderabad, Gurgaon/Gurugram, Bangalore/Bengaluru',\n",
       " 'Noida',\n",
       " 'Bangalore/Bengaluru, Delhi / NCR, Mumbai (All Areas)',\n",
       " 'Gurgaon, Bengaluru',\n",
       " 'Bharuch, Jaipur, Bhopal, Mumbai, Jhansi, Nagpur, Ghaziabad, Jaunpur, Kanpur, Delhi, Lucknow, Agra, Gurgaon, Rajkot, Bengaluru',\n",
       " 'New Delhi']"
      ]
     },
     "execution_count": 58,
     "metadata": {},
     "output_type": "execute_result"
    }
   ],
   "source": [
    "Job_location = []\n",
    "for i in job_location:\n",
    "    Job_location.append(i.text)\n",
    "Job_location"
   ]
  },
  {
   "cell_type": "code",
   "execution_count": 59,
   "metadata": {},
   "outputs": [
    {
     "data": {
      "text/plain": [
       "[<selenium.webdriver.remote.webelement.WebElement (session=\"b25c593521401934fef0a18f3825269d\", element=\"47b8ee14-ca2f-48b9-9709-f0c3986ee6a4\")>,\n",
       " <selenium.webdriver.remote.webelement.WebElement (session=\"b25c593521401934fef0a18f3825269d\", element=\"e4f27da7-fbd7-4559-a491-ef1757033a02\")>,\n",
       " <selenium.webdriver.remote.webelement.WebElement (session=\"b25c593521401934fef0a18f3825269d\", element=\"dc51319d-9a15-477c-ac34-b47443f22e62\")>,\n",
       " <selenium.webdriver.remote.webelement.WebElement (session=\"b25c593521401934fef0a18f3825269d\", element=\"f8f1ae38-f59e-4519-af62-3896bd2bd7ac\")>,\n",
       " <selenium.webdriver.remote.webelement.WebElement (session=\"b25c593521401934fef0a18f3825269d\", element=\"43008dd6-545e-4d7b-9b19-78d4178409b3\")>,\n",
       " <selenium.webdriver.remote.webelement.WebElement (session=\"b25c593521401934fef0a18f3825269d\", element=\"093bfbf2-3455-4036-b664-134f75e87664\")>,\n",
       " <selenium.webdriver.remote.webelement.WebElement (session=\"b25c593521401934fef0a18f3825269d\", element=\"92b3a6ff-58e7-417d-99a2-7bf5ffce531d\")>,\n",
       " <selenium.webdriver.remote.webelement.WebElement (session=\"b25c593521401934fef0a18f3825269d\", element=\"2fe573d9-9158-4d0e-ad42-12a6ab062930\")>,\n",
       " <selenium.webdriver.remote.webelement.WebElement (session=\"b25c593521401934fef0a18f3825269d\", element=\"ef62d3d7-2a88-4735-9749-be21d8fb5944\")>,\n",
       " <selenium.webdriver.remote.webelement.WebElement (session=\"b25c593521401934fef0a18f3825269d\", element=\"c9d2cfcb-1433-4ef2-bc5c-e77ecc999191\")>,\n",
       " <selenium.webdriver.remote.webelement.WebElement (session=\"b25c593521401934fef0a18f3825269d\", element=\"1c9f6ac7-4ff3-4ee8-91e4-49364e60af02\")>,\n",
       " <selenium.webdriver.remote.webelement.WebElement (session=\"b25c593521401934fef0a18f3825269d\", element=\"44e1c882-3079-438d-9835-0bef89d1c5c4\")>,\n",
       " <selenium.webdriver.remote.webelement.WebElement (session=\"b25c593521401934fef0a18f3825269d\", element=\"6b20abf0-4516-40b6-a47a-8cbe08e8bb7c\")>,\n",
       " <selenium.webdriver.remote.webelement.WebElement (session=\"b25c593521401934fef0a18f3825269d\", element=\"5be68728-b16a-4437-beab-2812689e8090\")>,\n",
       " <selenium.webdriver.remote.webelement.WebElement (session=\"b25c593521401934fef0a18f3825269d\", element=\"4f2231d4-2017-47b3-8d9c-dcc5cc0be4be\")>,\n",
       " <selenium.webdriver.remote.webelement.WebElement (session=\"b25c593521401934fef0a18f3825269d\", element=\"331830b9-a95b-4ae3-b5bb-72b282c883fc\")>,\n",
       " <selenium.webdriver.remote.webelement.WebElement (session=\"b25c593521401934fef0a18f3825269d\", element=\"49e5d3a6-06e7-4470-a129-d3fac288fc99\")>,\n",
       " <selenium.webdriver.remote.webelement.WebElement (session=\"b25c593521401934fef0a18f3825269d\", element=\"6f243249-556e-4fe7-ada1-31b38036b3f1\")>,\n",
       " <selenium.webdriver.remote.webelement.WebElement (session=\"b25c593521401934fef0a18f3825269d\", element=\"3b1d7e25-d21a-401b-b127-756e7505a746\")>,\n",
       " <selenium.webdriver.remote.webelement.WebElement (session=\"b25c593521401934fef0a18f3825269d\", element=\"f9f864f5-423c-43a2-a15d-3a6ccee955a5\")>]"
      ]
     },
     "execution_count": 59,
     "metadata": {},
     "output_type": "execute_result"
    }
   ],
   "source": [
    "exp=driver.find_elements_by_xpath(\"//li[@class='fleft grey-text br2 placeHolderLi experience']//span[1]\")\n",
    "exp"
   ]
  },
  {
   "cell_type": "code",
   "execution_count": 60,
   "metadata": {},
   "outputs": [
    {
     "data": {
      "text/plain": [
       "['0-0 Yrs',\n",
       " '1-5 Yrs',\n",
       " '0-0 Yrs',\n",
       " '0-0 Yrs',\n",
       " '0-0 Yrs',\n",
       " '1-3 Yrs',\n",
       " '2-7 Yrs',\n",
       " '5-10 Yrs',\n",
       " '2-6 Yrs',\n",
       " '3-6 Yrs',\n",
       " '3-7 Yrs',\n",
       " '0-3 Yrs',\n",
       " '3-7 Yrs',\n",
       " '4-6 Yrs',\n",
       " '3-6 Yrs',\n",
       " '2-5 Yrs',\n",
       " '2-5 Yrs',\n",
       " '3-7 Yrs',\n",
       " '1-3 Yrs',\n",
       " '0-1 Yrs']"
      ]
     },
     "execution_count": 60,
     "metadata": {},
     "output_type": "execute_result"
    }
   ],
   "source": [
    "Exp_req = []\n",
    "for i in exp:\n",
    "    Exp_req.append(i.text)\n",
    "Exp_req"
   ]
  },
  {
   "cell_type": "code",
   "execution_count": 161,
   "metadata": {},
   "outputs": [
    {
     "data": {
      "text/html": [
       "<div>\n",
       "<style scoped>\n",
       "    .dataframe tbody tr th:only-of-type {\n",
       "        vertical-align: middle;\n",
       "    }\n",
       "\n",
       "    .dataframe tbody tr th {\n",
       "        vertical-align: top;\n",
       "    }\n",
       "\n",
       "    .dataframe thead th {\n",
       "        text-align: right;\n",
       "    }\n",
       "</style>\n",
       "<table border=\"1\" class=\"dataframe\">\n",
       "  <thead>\n",
       "    <tr style=\"text-align: right;\">\n",
       "      <th></th>\n",
       "      <th>Job_title</th>\n",
       "      <th>Company_name</th>\n",
       "      <th>Job_Location</th>\n",
       "      <th>Experience_Req</th>\n",
       "    </tr>\n",
       "  </thead>\n",
       "  <tbody>\n",
       "    <tr>\n",
       "      <th>0</th>\n",
       "      <td>Data Scientist/ Machine Learning Engineer</td>\n",
       "      <td>Tata Consultancy Services</td>\n",
       "      <td>Hyderabad/Secunderabad, Pune, Ahmedabad, Gurga...</td>\n",
       "      <td>0-0 Yrs</td>\n",
       "    </tr>\n",
       "    <tr>\n",
       "      <th>1</th>\n",
       "      <td>Data Scientist / Data Analyst</td>\n",
       "      <td>IBM</td>\n",
       "      <td>Gurgaon/Gurugram</td>\n",
       "      <td>1-5 Yrs</td>\n",
       "    </tr>\n",
       "    <tr>\n",
       "      <th>2</th>\n",
       "      <td>Data Scientist / Data Analyst / Business Analy...</td>\n",
       "      <td>Accenture</td>\n",
       "      <td>Ghaziabad, Faridabad, Delhi / NCR</td>\n",
       "      <td>0-0 Yrs</td>\n",
       "    </tr>\n",
       "    <tr>\n",
       "      <th>3</th>\n",
       "      <td>Only Fresher / Data Scientist / Data Analyst /...</td>\n",
       "      <td>Delhivery</td>\n",
       "      <td>Noida, Gurgaon/Gurugram, Delhi / NCR</td>\n",
       "      <td>0-0 Yrs</td>\n",
       "    </tr>\n",
       "    <tr>\n",
       "      <th>4</th>\n",
       "      <td>Data Scientist / Data Analyst / Business Analy...</td>\n",
       "      <td>Ericsson-Worldwide</td>\n",
       "      <td>Noida, New Delhi, Gurgaon/Gurugram</td>\n",
       "      <td>0-0 Yrs</td>\n",
       "    </tr>\n",
       "    <tr>\n",
       "      <th>5</th>\n",
       "      <td>Data Scientist</td>\n",
       "      <td>UnitedHealth Group</td>\n",
       "      <td>Gurgaon/Gurugram</td>\n",
       "      <td>1-3 Yrs</td>\n",
       "    </tr>\n",
       "    <tr>\n",
       "      <th>6</th>\n",
       "      <td>Data Scientist - Insurance</td>\n",
       "      <td>Optum</td>\n",
       "      <td>Noida, Gurgaon/Gurugram</td>\n",
       "      <td>2-7 Yrs</td>\n",
       "    </tr>\n",
       "    <tr>\n",
       "      <th>7</th>\n",
       "      <td>Immediate Openings For Data Scientist For Wipr...</td>\n",
       "      <td>Optum Global Solutions</td>\n",
       "      <td>Gurgaon/Gurugram</td>\n",
       "      <td>5-10 Yrs</td>\n",
       "    </tr>\n",
       "    <tr>\n",
       "      <th>8</th>\n",
       "      <td>Data Scientist - Machine Learning/ NLP</td>\n",
       "      <td>Valiance Solutions</td>\n",
       "      <td>Gurgaon/Gurugram</td>\n",
       "      <td>2-6 Yrs</td>\n",
       "    </tr>\n",
       "    <tr>\n",
       "      <th>9</th>\n",
       "      <td>Data Scientist</td>\n",
       "      <td>EXL Service</td>\n",
       "      <td>Noida</td>\n",
       "      <td>3-6 Yrs</td>\n",
       "    </tr>\n",
       "  </tbody>\n",
       "</table>\n",
       "</div>"
      ],
      "text/plain": [
       "                                           Job_title  \\\n",
       "0          Data Scientist/ Machine Learning Engineer   \n",
       "1                      Data Scientist / Data Analyst   \n",
       "2  Data Scientist / Data Analyst / Business Analy...   \n",
       "3  Only Fresher / Data Scientist / Data Analyst /...   \n",
       "4  Data Scientist / Data Analyst / Business Analy...   \n",
       "5                                     Data Scientist   \n",
       "6                         Data Scientist - Insurance   \n",
       "7  Immediate Openings For Data Scientist For Wipr...   \n",
       "8             Data Scientist - Machine Learning/ NLP   \n",
       "9                                     Data Scientist   \n",
       "\n",
       "                Company_name  \\\n",
       "0  Tata Consultancy Services   \n",
       "1                        IBM   \n",
       "2                  Accenture   \n",
       "3                  Delhivery   \n",
       "4         Ericsson-Worldwide   \n",
       "5         UnitedHealth Group   \n",
       "6                      Optum   \n",
       "7     Optum Global Solutions   \n",
       "8         Valiance Solutions   \n",
       "9                EXL Service   \n",
       "\n",
       "                                        Job_Location Experience_Req  \n",
       "0  Hyderabad/Secunderabad, Pune, Ahmedabad, Gurga...        0-0 Yrs  \n",
       "1                                   Gurgaon/Gurugram        1-5 Yrs  \n",
       "2                  Ghaziabad, Faridabad, Delhi / NCR        0-0 Yrs  \n",
       "3               Noida, Gurgaon/Gurugram, Delhi / NCR        0-0 Yrs  \n",
       "4                 Noida, New Delhi, Gurgaon/Gurugram        0-0 Yrs  \n",
       "5                                   Gurgaon/Gurugram        1-3 Yrs  \n",
       "6                            Noida, Gurgaon/Gurugram        2-7 Yrs  \n",
       "7                                   Gurgaon/Gurugram       5-10 Yrs  \n",
       "8                                   Gurgaon/Gurugram        2-6 Yrs  \n",
       "9                                              Noida        3-6 Yrs  "
      ]
     },
     "execution_count": 161,
     "metadata": {},
     "output_type": "execute_result"
    }
   ],
   "source": [
    "Jobs_delhi=pd.DataFrame({})\n",
    "Jobs_delhi[\"Job_title\"]= Job_title[:10]\n",
    "Jobs_delhi[\"Company_name\"]= Company_name[:10]\n",
    "Jobs_delhi[\"Job_Location\"]= Job_location[:10]\n",
    "Jobs_delhi[\"Experience_Req\"]= Exp_req[:10]\n",
    "Jobs_delhi"
   ]
  },
  {
   "cell_type": "code",
   "execution_count": null,
   "metadata": {},
   "outputs": [],
   "source": []
  },
  {
   "cell_type": "markdown",
   "metadata": {},
   "source": [
    "# Q4"
   ]
  },
  {
   "cell_type": "code",
   "execution_count": 116,
   "metadata": {},
   "outputs": [],
   "source": [
    "driver = webdriver.Chrome(r\"C:\\Users\\hp\\Desktop\\Flip Robo\\chromedriver.exe\")"
   ]
  },
  {
   "cell_type": "code",
   "execution_count": 117,
   "metadata": {},
   "outputs": [],
   "source": [
    "url=\" https://www.glassdoor.co.in/index.html\"\n",
    "driver.get(url)"
   ]
  },
  {
   "cell_type": "code",
   "execution_count": 119,
   "metadata": {},
   "outputs": [],
   "source": [
    "search_job=driver.find_element_by_id(\"scKeyword\")\n",
    "search_job\n",
    "search_job.send_keys(\"Data scientist\")\n",
    "search_location=driver.find_element_by_id(\"scLocation\")\n",
    "search_location\n",
    "search_location.send_keys(\"Noida(India)\")"
   ]
  },
  {
   "cell_type": "code",
   "execution_count": 120,
   "metadata": {},
   "outputs": [],
   "source": [
    "Search_btn=driver.find_element_by_xpath(\"//button[@class='pl-0 pr-xsm search__SearchStyles__searchKeywordSubmit']\")\n",
    "Search_btn\n",
    "Search_btn.click()"
   ]
  },
  {
   "cell_type": "code",
   "execution_count": 73,
   "metadata": {},
   "outputs": [
    {
     "data": {
      "text/plain": [
       "[<selenium.webdriver.remote.webelement.WebElement (session=\"415130646b1edba4dc63dd55368a6280\", element=\"785ab1e5-611c-4478-94ca-2b26faa1d342\")>,\n",
       " <selenium.webdriver.remote.webelement.WebElement (session=\"415130646b1edba4dc63dd55368a6280\", element=\"70796caf-c317-45a0-84db-17f12f251d31\")>,\n",
       " <selenium.webdriver.remote.webelement.WebElement (session=\"415130646b1edba4dc63dd55368a6280\", element=\"fcc9d797-3f25-435a-81f7-47d09f2c4981\")>,\n",
       " <selenium.webdriver.remote.webelement.WebElement (session=\"415130646b1edba4dc63dd55368a6280\", element=\"781361c9-0426-4ff8-85d9-d79a514231cf\")>,\n",
       " <selenium.webdriver.remote.webelement.WebElement (session=\"415130646b1edba4dc63dd55368a6280\", element=\"4ddd700c-d464-4d9f-a8e6-ec30ca24192a\")>,\n",
       " <selenium.webdriver.remote.webelement.WebElement (session=\"415130646b1edba4dc63dd55368a6280\", element=\"d9d627ef-2163-48a9-ad99-bc6f0ee2d2ca\")>,\n",
       " <selenium.webdriver.remote.webelement.WebElement (session=\"415130646b1edba4dc63dd55368a6280\", element=\"866de868-3e28-4d86-8538-fce3b6062320\")>,\n",
       " <selenium.webdriver.remote.webelement.WebElement (session=\"415130646b1edba4dc63dd55368a6280\", element=\"0a06dffa-a8af-4469-bc2b-46ca7e427a7f\")>,\n",
       " <selenium.webdriver.remote.webelement.WebElement (session=\"415130646b1edba4dc63dd55368a6280\", element=\"8061c8a4-62fe-42f0-9bff-658cc3d4115a\")>,\n",
       " <selenium.webdriver.remote.webelement.WebElement (session=\"415130646b1edba4dc63dd55368a6280\", element=\"5aaedb7d-7fb3-4d3b-af6a-6e85966d772f\")>,\n",
       " <selenium.webdriver.remote.webelement.WebElement (session=\"415130646b1edba4dc63dd55368a6280\", element=\"7bcf8089-0a3d-4d92-82ef-b842a52a6f16\")>,\n",
       " <selenium.webdriver.remote.webelement.WebElement (session=\"415130646b1edba4dc63dd55368a6280\", element=\"b3fffe15-0ccc-4ec3-be09-e996891675e8\")>,\n",
       " <selenium.webdriver.remote.webelement.WebElement (session=\"415130646b1edba4dc63dd55368a6280\", element=\"0f9bf03d-bae7-4c80-a6e9-9199c214f256\")>,\n",
       " <selenium.webdriver.remote.webelement.WebElement (session=\"415130646b1edba4dc63dd55368a6280\", element=\"dd7d6b1e-6542-45dc-b19f-3a99e01bc948\")>,\n",
       " <selenium.webdriver.remote.webelement.WebElement (session=\"415130646b1edba4dc63dd55368a6280\", element=\"b8b68f6d-e4fc-48b7-a326-1acac49f9608\")>,\n",
       " <selenium.webdriver.remote.webelement.WebElement (session=\"415130646b1edba4dc63dd55368a6280\", element=\"d5c4065b-9b6b-40c5-94d7-284d5e93c261\")>,\n",
       " <selenium.webdriver.remote.webelement.WebElement (session=\"415130646b1edba4dc63dd55368a6280\", element=\"b850ea38-f604-4d46-84f3-8cdba1eff486\")>,\n",
       " <selenium.webdriver.remote.webelement.WebElement (session=\"415130646b1edba4dc63dd55368a6280\", element=\"58c4e422-bc24-40da-837d-2dc1d4eb4882\")>,\n",
       " <selenium.webdriver.remote.webelement.WebElement (session=\"415130646b1edba4dc63dd55368a6280\", element=\"6338cab8-7fca-459a-9971-63f7a501b139\")>,\n",
       " <selenium.webdriver.remote.webelement.WebElement (session=\"415130646b1edba4dc63dd55368a6280\", element=\"d516ea4d-09ce-4519-9739-23d6f18b2b12\")>,\n",
       " <selenium.webdriver.remote.webelement.WebElement (session=\"415130646b1edba4dc63dd55368a6280\", element=\"05dd9bef-13fa-4bf2-afd6-c1ac0adb3419\")>,\n",
       " <selenium.webdriver.remote.webelement.WebElement (session=\"415130646b1edba4dc63dd55368a6280\", element=\"297f05d4-3dc7-498d-99f6-ec53b368b9ad\")>,\n",
       " <selenium.webdriver.remote.webelement.WebElement (session=\"415130646b1edba4dc63dd55368a6280\", element=\"f14dc053-255e-4538-9df2-1257cce11326\")>,\n",
       " <selenium.webdriver.remote.webelement.WebElement (session=\"415130646b1edba4dc63dd55368a6280\", element=\"ffb0bbd4-601b-4831-88ca-2727761e76b3\")>,\n",
       " <selenium.webdriver.remote.webelement.WebElement (session=\"415130646b1edba4dc63dd55368a6280\", element=\"90c09647-b8bf-4a49-951f-32cd178d0a2d\")>,\n",
       " <selenium.webdriver.remote.webelement.WebElement (session=\"415130646b1edba4dc63dd55368a6280\", element=\"08e6ae40-c182-431e-be04-f317bee0bcce\")>,\n",
       " <selenium.webdriver.remote.webelement.WebElement (session=\"415130646b1edba4dc63dd55368a6280\", element=\"1c3dc3e6-eeca-4499-8b27-5dae30190b07\")>,\n",
       " <selenium.webdriver.remote.webelement.WebElement (session=\"415130646b1edba4dc63dd55368a6280\", element=\"84b441fa-a40e-441d-a99a-0c4daab0fdd2\")>,\n",
       " <selenium.webdriver.remote.webelement.WebElement (session=\"415130646b1edba4dc63dd55368a6280\", element=\"d26b46f2-1493-4704-92b6-728d50681c64\")>,\n",
       " <selenium.webdriver.remote.webelement.WebElement (session=\"415130646b1edba4dc63dd55368a6280\", element=\"de47f47a-328c-4d01-8b7b-2e43be2659b5\")>]"
      ]
     },
     "execution_count": 73,
     "metadata": {},
     "output_type": "execute_result"
    }
   ],
   "source": [
    "company_name=driver.find_elements_by_xpath(\"//a[@class=' job-search-key-l2wjgv e1n63ojh0 jobLink']\")\n",
    "company_name"
   ]
  },
  {
   "cell_type": "code",
   "execution_count": 74,
   "metadata": {},
   "outputs": [
    {
     "data": {
      "text/plain": [
       "['Applied Materials Inc.',\n",
       " 'software company',\n",
       " 'Airtel India',\n",
       " 'limeroad.com',\n",
       " 'Argoid',\n",
       " 'Top Mentor',\n",
       " 'Lenskart',\n",
       " 'Patient Bond India Private Limited',\n",
       " 'Elpis IT Solutions',\n",
       " 'Reach52, Inc.',\n",
       " 'IBM',\n",
       " 'NEC Opportunities',\n",
       " 'HP',\n",
       " 'Deciman',\n",
       " 'NielsenIQ',\n",
       " 'OneAssist Consumer Solutions Private Limited',\n",
       " 'HDFC Bank',\n",
       " 'Mercedes-Benz Research and Development India Private Limited',\n",
       " 'Argoid',\n",
       " 'Amantya Technologies',\n",
       " 'Saishaa Services',\n",
       " 'Crypto Mize',\n",
       " 'Maersk',\n",
       " 'ING',\n",
       " 'Ishatva Management Solutions',\n",
       " 'Myian pharma',\n",
       " 'GE Aviation',\n",
       " 'Adidas',\n",
       " 'AlgoScale Technologies Private Limited',\n",
       " 'McKinsey & Company']"
      ]
     },
     "execution_count": 74,
     "metadata": {},
     "output_type": "execute_result"
    }
   ],
   "source": [
    "Company_name = []\n",
    "for i in company_name:\n",
    "    Company_name.append(i.text)\n",
    "Company_name"
   ]
  },
  {
   "cell_type": "code",
   "execution_count": 76,
   "metadata": {},
   "outputs": [
    {
     "data": {
      "text/plain": [
       "30"
      ]
     },
     "execution_count": 76,
     "metadata": {},
     "output_type": "execute_result"
    }
   ],
   "source": [
    "len(Company_name)"
   ]
  },
  {
   "cell_type": "code",
   "execution_count": 77,
   "metadata": {},
   "outputs": [
    {
     "data": {
      "text/plain": [
       "['30d+',\n",
       " '18d',\n",
       " '24d',\n",
       " '19d',\n",
       " '7d',\n",
       " '5d',\n",
       " '6d',\n",
       " '24h',\n",
       " '6d',\n",
       " '10d',\n",
       " '2d',\n",
       " '25d',\n",
       " '12d',\n",
       " '30d+',\n",
       " '2d',\n",
       " '4d',\n",
       " '17d',\n",
       " '20d',\n",
       " '24h',\n",
       " '30d+',\n",
       " '21d',\n",
       " '27d',\n",
       " '23d',\n",
       " '10d',\n",
       " '14d',\n",
       " '21d',\n",
       " '12d',\n",
       " '8d',\n",
       " '19d',\n",
       " '16d']"
      ]
     },
     "execution_count": 77,
     "metadata": {},
     "output_type": "execute_result"
    }
   ],
   "source": [
    "days_ago=driver.find_elements_by_xpath(\"//div[@class='d-flex align-items-end pl-std css-17n8uzw']\")\n",
    "days_ago\n",
    "Days_ago = []\n",
    "for i in days_ago:\n",
    "        Days_ago.append(i.text)\n",
    "Days_ago"
   ]
  },
  {
   "cell_type": "code",
   "execution_count": 78,
   "metadata": {},
   "outputs": [
    {
     "data": {
      "text/plain": [
       "['3.9',\n",
       " '5.0',\n",
       " '3.8',\n",
       " '',\n",
       " '',\n",
       " '',\n",
       " '3.6',\n",
       " '4.0',\n",
       " '3.4',\n",
       " '4.8',\n",
       " '3.9',\n",
       " '',\n",
       " '4.2',\n",
       " '3.7',\n",
       " '3.9',\n",
       " '3.6',\n",
       " '3.6',\n",
       " '3.9',\n",
       " '',\n",
       " '4.6',\n",
       " '',\n",
       " '5.0',\n",
       " '4.1',\n",
       " '4.0',\n",
       " '',\n",
       " '',\n",
       " '3.6',\n",
       " '4.0',\n",
       " '3.9',\n",
       " '4.4']"
      ]
     },
     "execution_count": 78,
     "metadata": {},
     "output_type": "execute_result"
    }
   ],
   "source": [
    "rating=driver.find_elements_by_xpath(\"//div[@class='d-flex flex-column job-search-key-1pzmdmc e1rrn5ka1']\")\n",
    "rating\n",
    "Rating = []    \n",
    "for i in rating:\n",
    "    try:\n",
    "        Rating.append(i.text)\n",
    "    except:\n",
    "        Rating.append('-')\n",
    "Rating"
   ]
  },
  {
   "cell_type": "code",
   "execution_count": 79,
   "metadata": {},
   "outputs": [
    {
     "name": "stdout",
     "output_type": "stream",
     "text": [
      "['3.9', '5.0', '3.8', '-', '-', '-', '3.6', '4.0', '3.4', '4.8', '3.9', '-', '4.2', '3.7', '3.9', '3.6', '3.6', '3.9', '-', '4.6', '-', '5.0', '4.1', '4.0', '-', '-', '3.6', '4.0', '3.9', '4.4']\n"
     ]
    }
   ],
   "source": [
    "for index, x in enumerate(Rating):\n",
    "    if x==\"\":\n",
    "        Rating[index]=\"-\"\n",
    "print(Rating)"
   ]
  },
  {
   "cell_type": "code",
   "execution_count": 162,
   "metadata": {},
   "outputs": [
    {
     "data": {
      "text/html": [
       "<div>\n",
       "<style scoped>\n",
       "    .dataframe tbody tr th:only-of-type {\n",
       "        vertical-align: middle;\n",
       "    }\n",
       "\n",
       "    .dataframe tbody tr th {\n",
       "        vertical-align: top;\n",
       "    }\n",
       "\n",
       "    .dataframe thead th {\n",
       "        text-align: right;\n",
       "    }\n",
       "</style>\n",
       "<table border=\"1\" class=\"dataframe\">\n",
       "  <thead>\n",
       "    <tr style=\"text-align: right;\">\n",
       "      <th></th>\n",
       "      <th>Company_Name</th>\n",
       "      <th>No. of days ago</th>\n",
       "      <th>Rating</th>\n",
       "    </tr>\n",
       "  </thead>\n",
       "  <tbody>\n",
       "    <tr>\n",
       "      <th>0</th>\n",
       "      <td>Tata Consultancy Services</td>\n",
       "      <td>30d+</td>\n",
       "      <td>5</td>\n",
       "    </tr>\n",
       "    <tr>\n",
       "      <th>1</th>\n",
       "      <td>IBM</td>\n",
       "      <td>18d</td>\n",
       "      <td>5</td>\n",
       "    </tr>\n",
       "    <tr>\n",
       "      <th>2</th>\n",
       "      <td>Accenture</td>\n",
       "      <td>24d</td>\n",
       "      <td>5</td>\n",
       "    </tr>\n",
       "    <tr>\n",
       "      <th>3</th>\n",
       "      <td>Delhivery</td>\n",
       "      <td>19d</td>\n",
       "      <td></td>\n",
       "    </tr>\n",
       "    <tr>\n",
       "      <th>4</th>\n",
       "      <td>Ericsson-Worldwide</td>\n",
       "      <td>7d</td>\n",
       "      <td></td>\n",
       "    </tr>\n",
       "    <tr>\n",
       "      <th>5</th>\n",
       "      <td>UnitedHealth Group</td>\n",
       "      <td>5d</td>\n",
       "      <td></td>\n",
       "    </tr>\n",
       "    <tr>\n",
       "      <th>6</th>\n",
       "      <td>Optum</td>\n",
       "      <td>6d</td>\n",
       "      <td></td>\n",
       "    </tr>\n",
       "    <tr>\n",
       "      <th>7</th>\n",
       "      <td>Optum Global Solutions</td>\n",
       "      <td>24h</td>\n",
       "      <td></td>\n",
       "    </tr>\n",
       "    <tr>\n",
       "      <th>8</th>\n",
       "      <td>Valiance Solutions</td>\n",
       "      <td>6d</td>\n",
       "      <td></td>\n",
       "    </tr>\n",
       "    <tr>\n",
       "      <th>9</th>\n",
       "      <td>EXL Service</td>\n",
       "      <td>10d</td>\n",
       "      <td></td>\n",
       "    </tr>\n",
       "  </tbody>\n",
       "</table>\n",
       "</div>"
      ],
      "text/plain": [
       "                Company_Name No. of days ago Rating\n",
       "0  Tata Consultancy Services            30d+      5\n",
       "1                        IBM             18d      5\n",
       "2                  Accenture             24d      5\n",
       "3                  Delhivery             19d       \n",
       "4         Ericsson-Worldwide              7d       \n",
       "5         UnitedHealth Group              5d       \n",
       "6                      Optum              6d       \n",
       "7     Optum Global Solutions             24h       \n",
       "8         Valiance Solutions              6d       \n",
       "9                EXL Service             10d       "
      ]
     },
     "execution_count": 162,
     "metadata": {},
     "output_type": "execute_result"
    }
   ],
   "source": [
    "glassdoor=pd.DataFrame({})\n",
    "glassdoor[\"Company_Name\"]= Company_name[0:10]\n",
    "glassdoor[\"No. of days ago\"]= Days_ago[0:10]\n",
    "glassdoor[\"Rating\"]=Rating[0:10]\n",
    "glassdoor"
   ]
  },
  {
   "cell_type": "code",
   "execution_count": null,
   "metadata": {},
   "outputs": [],
   "source": []
  },
  {
   "cell_type": "markdown",
   "metadata": {},
   "source": [
    "# Q5"
   ]
  },
  {
   "cell_type": "code",
   "execution_count": 121,
   "metadata": {},
   "outputs": [],
   "source": [
    "driver = webdriver.Chrome(r\"C:\\Users\\hp\\Desktop\\Flip Robo\\chromedriver.exe\")"
   ]
  },
  {
   "cell_type": "code",
   "execution_count": 122,
   "metadata": {},
   "outputs": [],
   "source": [
    "url= \"https://www.glassdoor.co.in/Salaries/index.html\"\n",
    "driver.get(url)"
   ]
  },
  {
   "cell_type": "code",
   "execution_count": 123,
   "metadata": {},
   "outputs": [],
   "source": [
    "search_job=driver.find_element_by_id(\"KeywordSearch\")\n",
    "search_job\n",
    "search_job.send_keys(\"Data scientist\")\n",
    "search_location=driver.find_element_by_id(\"LocationSearch\")\n",
    "search_location\n",
    "search_location.send_keys(\"Noida(India)\")"
   ]
  },
  {
   "cell_type": "code",
   "execution_count": 101,
   "metadata": {},
   "outputs": [],
   "source": [
    "Search_btn=driver.find_element_by_xpath(\"//button[@class='gd-btn-mkt']\")\n",
    "Search_btn\n",
    "Search_btn.click()"
   ]
  },
  {
   "cell_type": "code",
   "execution_count": 102,
   "metadata": {},
   "outputs": [
    {
     "data": {
      "text/plain": [
       "['Tata Consultancy Services',\n",
       " 'IBM',\n",
       " 'Accenture',\n",
       " 'Delhivery',\n",
       " 'Ericsson-Worldwide',\n",
       " 'UnitedHealth Group',\n",
       " 'Optum',\n",
       " 'Optum Global Solutions',\n",
       " 'Valiance Solutions',\n",
       " 'EXL Service',\n",
       " 'Cognizant Technology Solutions',\n",
       " 'ZS Associates',\n",
       " 'Nagarro',\n",
       " 'Innovaccer',\n",
       " 'OYO',\n",
       " 'dunnhumby',\n",
       " 'Amazon',\n",
       " 'Fresher',\n",
       " 'CARS24.com',\n",
       " 'Vidooly Media Tech']"
      ]
     },
     "execution_count": 102,
     "metadata": {},
     "output_type": "execute_result"
    }
   ],
   "source": [
    "company_name=driver.find_elements_by_xpath(\"//a[@class='css-f3vw95 e1aj7ssy3']\")\n",
    "company_name\n",
    "\n",
    "Company_name=[]\n",
    "for i in company_name:\n",
    "    Company_name.append(i.text)\n",
    "Company_name"
   ]
  },
  {
   "cell_type": "code",
   "execution_count": 103,
   "metadata": {},
   "outputs": [
    {
     "data": {
      "text/plain": [
       "20"
      ]
     },
     "execution_count": 103,
     "metadata": {},
     "output_type": "execute_result"
    }
   ],
   "source": [
    "len(Company_name)"
   ]
  },
  {
   "cell_type": "code",
   "execution_count": 104,
   "metadata": {},
   "outputs": [
    {
     "data": {
      "text/plain": [
       "['22 salaries',\n",
       " '20 salaries',\n",
       " '15 salaries',\n",
       " '15 salaries',\n",
       " '14 salaries',\n",
       " '14 salaries',\n",
       " '11 salaries',\n",
       " '10 salaries',\n",
       " '10 salaries',\n",
       " '9 salaries',\n",
       " '8 salaries',\n",
       " '8 salaries',\n",
       " '8 salaries',\n",
       " '8 salaries',\n",
       " '7 salaries',\n",
       " '7 salaries',\n",
       " '6 salaries',\n",
       " '6 salaries',\n",
       " '6 salaries',\n",
       " '6 salaries']"
      ]
     },
     "execution_count": 104,
     "metadata": {},
     "output_type": "execute_result"
    }
   ],
   "source": [
    "no_of_salaries=driver.find_elements_by_xpath(\"//div[@class='col-12 col-lg-auto']//span[1]\")\n",
    "no_of_salaries\n",
    "\n",
    "No_of_salaries=[]\n",
    "for i in no_of_salaries:\n",
    "    No_of_salaries.append(i.text)\n",
    "No_of_salaries"
   ]
  },
  {
   "cell_type": "code",
   "execution_count": 124,
   "metadata": {},
   "outputs": [
    {
     "data": {
      "text/plain": [
       "['₹6,28,021',\n",
       " '₹9,08,246',\n",
       " '₹11,93,390',\n",
       " '₹12,49,716',\n",
       " '₹7,58,335',\n",
       " '₹12,80,000',\n",
       " '₹12,70,000',\n",
       " '₹14,55,430',\n",
       " '₹8,86,064',\n",
       " '₹11,10,000',\n",
       " '₹9,62,227',\n",
       " '₹11,71,868',\n",
       " '₹11,01,815',\n",
       " '₹12,40,275',\n",
       " '₹14,51,902',\n",
       " '₹11,30,374',\n",
       " '₹20,63,782',\n",
       " '₹61,566',\n",
       " '₹10,80,727',\n",
       " '₹35,040']"
      ]
     },
     "execution_count": 124,
     "metadata": {},
     "output_type": "execute_result"
    }
   ],
   "source": [
    "avg_salaries=driver.find_elements_by_xpath(\"//div[@class='col-12 col-lg-4 px-lg-0 d-flex align-items-baseline']//h3\")\n",
    "avg_salaries\n",
    "\n",
    "Avg_salaries=[]\n",
    "for i in avg_salaries:\n",
    "    Avg_salaries.append(i.text)\n",
    "Avg_salaries"
   ]
  },
  {
   "cell_type": "code",
   "execution_count": 128,
   "metadata": {},
   "outputs": [
    {
     "data": {
      "text/plain": [
       "[<selenium.webdriver.remote.webelement.WebElement (session=\"053184e2dbe3cc947ccd0dfef2721b12\", element=\"93d9e777-04b7-4735-a2ad-e461ac2ea0b5\")>,\n",
       " <selenium.webdriver.remote.webelement.WebElement (session=\"053184e2dbe3cc947ccd0dfef2721b12\", element=\"2bdf62dc-a885-45da-989d-968fd678a84b\")>,\n",
       " <selenium.webdriver.remote.webelement.WebElement (session=\"053184e2dbe3cc947ccd0dfef2721b12\", element=\"ac9a99e6-ec3d-4b1d-a7ff-587a5a59c49a\")>,\n",
       " <selenium.webdriver.remote.webelement.WebElement (session=\"053184e2dbe3cc947ccd0dfef2721b12\", element=\"0710516d-ad06-4be7-bb4e-e32137dd76cb\")>,\n",
       " <selenium.webdriver.remote.webelement.WebElement (session=\"053184e2dbe3cc947ccd0dfef2721b12\", element=\"4c50da60-0ece-4455-b634-0f6474f3d844\")>,\n",
       " <selenium.webdriver.remote.webelement.WebElement (session=\"053184e2dbe3cc947ccd0dfef2721b12\", element=\"506c408a-f51c-475a-9cd9-7c13b11415aa\")>,\n",
       " <selenium.webdriver.remote.webelement.WebElement (session=\"053184e2dbe3cc947ccd0dfef2721b12\", element=\"c1eb6f68-3461-45ec-a12f-893e21caf1d2\")>,\n",
       " <selenium.webdriver.remote.webelement.WebElement (session=\"053184e2dbe3cc947ccd0dfef2721b12\", element=\"d6e8e511-5899-4fe7-bb69-e02a5f272dc0\")>,\n",
       " <selenium.webdriver.remote.webelement.WebElement (session=\"053184e2dbe3cc947ccd0dfef2721b12\", element=\"2d09e82d-4ac9-4ce2-aafa-e50c52c33fe3\")>,\n",
       " <selenium.webdriver.remote.webelement.WebElement (session=\"053184e2dbe3cc947ccd0dfef2721b12\", element=\"90276dbf-bd18-4f9f-80d4-5241de73cdcb\")>,\n",
       " <selenium.webdriver.remote.webelement.WebElement (session=\"053184e2dbe3cc947ccd0dfef2721b12\", element=\"20b602e6-76af-4ea8-aef5-1085fa0f4d9a\")>,\n",
       " <selenium.webdriver.remote.webelement.WebElement (session=\"053184e2dbe3cc947ccd0dfef2721b12\", element=\"dbcf4aea-1d7e-415d-8714-10c233d8ad40\")>,\n",
       " <selenium.webdriver.remote.webelement.WebElement (session=\"053184e2dbe3cc947ccd0dfef2721b12\", element=\"35064472-2aac-4432-8bb1-314b08b051c2\")>,\n",
       " <selenium.webdriver.remote.webelement.WebElement (session=\"053184e2dbe3cc947ccd0dfef2721b12\", element=\"f57a2477-08c6-4a0a-9f88-b7c57fec7412\")>,\n",
       " <selenium.webdriver.remote.webelement.WebElement (session=\"053184e2dbe3cc947ccd0dfef2721b12\", element=\"30615c1d-60aa-4061-820b-cb3f5577f7a3\")>,\n",
       " <selenium.webdriver.remote.webelement.WebElement (session=\"053184e2dbe3cc947ccd0dfef2721b12\", element=\"37439702-f517-4c3f-891b-59ea626f0a59\")>,\n",
       " <selenium.webdriver.remote.webelement.WebElement (session=\"053184e2dbe3cc947ccd0dfef2721b12\", element=\"6f212f7c-4050-495c-b4fb-7d28a5a55e73\")>,\n",
       " <selenium.webdriver.remote.webelement.WebElement (session=\"053184e2dbe3cc947ccd0dfef2721b12\", element=\"43345ed4-7c14-49db-9e1b-0b5070b7e9ef\")>,\n",
       " <selenium.webdriver.remote.webelement.WebElement (session=\"053184e2dbe3cc947ccd0dfef2721b12\", element=\"b65c4c94-5a9d-40f7-8fcd-199d88e41ade\")>,\n",
       " <selenium.webdriver.remote.webelement.WebElement (session=\"053184e2dbe3cc947ccd0dfef2721b12\", element=\"25758baa-017f-4883-ad6d-dd55d5c17a56\")>]"
      ]
     },
     "execution_count": 128,
     "metadata": {},
     "output_type": "execute_result"
    }
   ],
   "source": [
    "range_salaries=driver.find_elements_by_xpath(\"//span[@class='d-block d-lg-none m-0 css-1b6bxoo']\")\n",
    "range_salaries"
   ]
  },
  {
   "cell_type": "code",
   "execution_count": 129,
   "metadata": {},
   "outputs": [
    {
     "data": {
      "text/plain": [
       "['Range: ₹4L - ₹13L',\n",
       " 'Range: ₹1L - ₹28L',\n",
       " 'Range: ₹6L - ₹23L',\n",
       " 'Range: ₹5L - ₹1Cr',\n",
       " 'Range: ₹4L - ₹17L',\n",
       " 'Range: ₹8L - ₹16L',\n",
       " 'Range: ₹8L - ₹20L',\n",
       " 'Range: ₹10L - ₹18L',\n",
       " 'Range: ₹5L - ₹15L',\n",
       " 'Range: ₹6L - ₹16L',\n",
       " 'Range: ₹4L - ₹13L',\n",
       " 'Range: ₹2L - ₹19L',\n",
       " 'Range: ₹4L - ₹21L',\n",
       " 'Range: ₹6L - ₹17L',\n",
       " 'Range: ₹10L - ₹21L',\n",
       " 'Range: ₹8L - ₹21L',\n",
       " 'Range: ₹10L - ₹30L',\n",
       " 'Range: ₹25T - ₹1L',\n",
       " 'Range: ₹9L - ₹15L',\n",
       " 'Range: ₹12T - ₹64T']"
      ]
     },
     "execution_count": 129,
     "metadata": {},
     "output_type": "execute_result"
    }
   ],
   "source": [
    "Range_salaries=[]\n",
    "for i in range_salaries:\n",
    "    Range_salaries.append(i.text)\n",
    "Range_salaries"
   ]
  },
  {
   "cell_type": "code",
   "execution_count": 130,
   "metadata": {},
   "outputs": [
    {
     "name": "stdout",
     "output_type": "stream",
     "text": [
      "['₹4L', '₹1L', '₹6L', '₹5L', '₹4L', '₹8L', '₹8L', '₹10L', '₹5L', '₹6L', '₹4L', '₹2L', '₹4L', '₹6L', '₹10L', '₹8L', '₹10L', '₹25T', '₹9L', '₹12T']\n",
      "['₹13L', '₹28L', '₹23L', '₹1Cr', '₹17L', '₹16L', '₹20L', '₹18L', '₹15L', '₹16L', '₹13L', '₹19L', '₹21L', '₹17L', '₹21L', '₹21L', '₹30L', '₹1L', '₹15L', '₹64T']\n"
     ]
    }
   ],
   "source": [
    "min_salaries=[]\n",
    "max_salaries=[]\n",
    "for x in Range_salaries:\n",
    "    temp=x.replace('Range: ','').strip()\n",
    "    salaries=[]\n",
    "    salaries=temp.split('-')\n",
    "    min_salaries.append(salaries[0].strip())\n",
    "    max_salaries.append(salaries[1].strip())\n",
    "print(min_salaries)\n",
    "print(max_salaries)"
   ]
  },
  {
   "cell_type": "code",
   "execution_count": 131,
   "metadata": {},
   "outputs": [
    {
     "data": {
      "text/plain": [
       "20"
      ]
     },
     "execution_count": 131,
     "metadata": {},
     "output_type": "execute_result"
    }
   ],
   "source": [
    "len(min_salaries)"
   ]
  },
  {
   "cell_type": "code",
   "execution_count": 132,
   "metadata": {},
   "outputs": [
    {
     "data": {
      "text/plain": [
       "20"
      ]
     },
     "execution_count": 132,
     "metadata": {},
     "output_type": "execute_result"
    }
   ],
   "source": [
    "len(max_salaries)"
   ]
  },
  {
   "cell_type": "code",
   "execution_count": 163,
   "metadata": {},
   "outputs": [
    {
     "data": {
      "text/html": [
       "<div>\n",
       "<style scoped>\n",
       "    .dataframe tbody tr th:only-of-type {\n",
       "        vertical-align: middle;\n",
       "    }\n",
       "\n",
       "    .dataframe tbody tr th {\n",
       "        vertical-align: top;\n",
       "    }\n",
       "\n",
       "    .dataframe thead th {\n",
       "        text-align: right;\n",
       "    }\n",
       "</style>\n",
       "<table border=\"1\" class=\"dataframe\">\n",
       "  <thead>\n",
       "    <tr style=\"text-align: right;\">\n",
       "      <th></th>\n",
       "      <th>Company_Name</th>\n",
       "      <th>No. of_Salaries</th>\n",
       "      <th>Avg Salary</th>\n",
       "      <th>Min Salary</th>\n",
       "      <th>Max Salary</th>\n",
       "    </tr>\n",
       "  </thead>\n",
       "  <tbody>\n",
       "    <tr>\n",
       "      <th>0</th>\n",
       "      <td>Tata Consultancy Services</td>\n",
       "      <td>22 salaries</td>\n",
       "      <td>₹6,28,021</td>\n",
       "      <td>₹4L</td>\n",
       "      <td>₹13L</td>\n",
       "    </tr>\n",
       "    <tr>\n",
       "      <th>1</th>\n",
       "      <td>IBM</td>\n",
       "      <td>20 salaries</td>\n",
       "      <td>₹9,08,246</td>\n",
       "      <td>₹1L</td>\n",
       "      <td>₹28L</td>\n",
       "    </tr>\n",
       "    <tr>\n",
       "      <th>2</th>\n",
       "      <td>Accenture</td>\n",
       "      <td>15 salaries</td>\n",
       "      <td>₹11,93,390</td>\n",
       "      <td>₹6L</td>\n",
       "      <td>₹23L</td>\n",
       "    </tr>\n",
       "    <tr>\n",
       "      <th>3</th>\n",
       "      <td>Delhivery</td>\n",
       "      <td>15 salaries</td>\n",
       "      <td>₹12,49,716</td>\n",
       "      <td>₹5L</td>\n",
       "      <td>₹1Cr</td>\n",
       "    </tr>\n",
       "    <tr>\n",
       "      <th>4</th>\n",
       "      <td>Ericsson-Worldwide</td>\n",
       "      <td>14 salaries</td>\n",
       "      <td>₹7,58,335</td>\n",
       "      <td>₹4L</td>\n",
       "      <td>₹17L</td>\n",
       "    </tr>\n",
       "    <tr>\n",
       "      <th>5</th>\n",
       "      <td>UnitedHealth Group</td>\n",
       "      <td>14 salaries</td>\n",
       "      <td>₹12,80,000</td>\n",
       "      <td>₹8L</td>\n",
       "      <td>₹16L</td>\n",
       "    </tr>\n",
       "    <tr>\n",
       "      <th>6</th>\n",
       "      <td>Optum</td>\n",
       "      <td>11 salaries</td>\n",
       "      <td>₹12,70,000</td>\n",
       "      <td>₹8L</td>\n",
       "      <td>₹20L</td>\n",
       "    </tr>\n",
       "    <tr>\n",
       "      <th>7</th>\n",
       "      <td>Optum Global Solutions</td>\n",
       "      <td>10 salaries</td>\n",
       "      <td>₹14,55,430</td>\n",
       "      <td>₹10L</td>\n",
       "      <td>₹18L</td>\n",
       "    </tr>\n",
       "    <tr>\n",
       "      <th>8</th>\n",
       "      <td>Valiance Solutions</td>\n",
       "      <td>10 salaries</td>\n",
       "      <td>₹8,86,064</td>\n",
       "      <td>₹5L</td>\n",
       "      <td>₹15L</td>\n",
       "    </tr>\n",
       "    <tr>\n",
       "      <th>9</th>\n",
       "      <td>EXL Service</td>\n",
       "      <td>9 salaries</td>\n",
       "      <td>₹11,10,000</td>\n",
       "      <td>₹6L</td>\n",
       "      <td>₹16L</td>\n",
       "    </tr>\n",
       "  </tbody>\n",
       "</table>\n",
       "</div>"
      ],
      "text/plain": [
       "                Company_Name No. of_Salaries  Avg Salary Min Salary Max Salary\n",
       "0  Tata Consultancy Services     22 salaries   ₹6,28,021        ₹4L       ₹13L\n",
       "1                        IBM     20 salaries   ₹9,08,246        ₹1L       ₹28L\n",
       "2                  Accenture     15 salaries  ₹11,93,390        ₹6L       ₹23L\n",
       "3                  Delhivery     15 salaries  ₹12,49,716        ₹5L       ₹1Cr\n",
       "4         Ericsson-Worldwide     14 salaries   ₹7,58,335        ₹4L       ₹17L\n",
       "5         UnitedHealth Group     14 salaries  ₹12,80,000        ₹8L       ₹16L\n",
       "6                      Optum     11 salaries  ₹12,70,000        ₹8L       ₹20L\n",
       "7     Optum Global Solutions     10 salaries  ₹14,55,430       ₹10L       ₹18L\n",
       "8         Valiance Solutions     10 salaries   ₹8,86,064        ₹5L       ₹15L\n",
       "9                EXL Service      9 salaries  ₹11,10,000        ₹6L       ₹16L"
      ]
     },
     "execution_count": 163,
     "metadata": {},
     "output_type": "execute_result"
    }
   ],
   "source": [
    "glassdoor_salaries=pd.DataFrame({})\n",
    "glassdoor_salaries[\"Company_Name\"]=Company_name[0:10]\n",
    "glassdoor_salaries[\"No. of_Salaries\"]=No_of_salaries[0:10]\n",
    "glassdoor_salaries[\"Avg Salary\"]=Avg_salaries[0:10]\n",
    "glassdoor_salaries[\"Min Salary\"]=min_salaries[0:10]\n",
    "glassdoor_salaries[\"Max Salary\"]=max_salaries[0:10]\n",
    "glassdoor_salaries"
   ]
  },
  {
   "cell_type": "code",
   "execution_count": null,
   "metadata": {},
   "outputs": [],
   "source": []
  },
  {
   "cell_type": "markdown",
   "metadata": {},
   "source": [
    "# Q6"
   ]
  },
  {
   "cell_type": "code",
   "execution_count": 136,
   "metadata": {},
   "outputs": [],
   "source": [
    "driver = webdriver.Chrome(r\"C:\\Users\\hp\\Desktop\\Flip Robo\\chromedriver.exe\")"
   ]
  },
  {
   "cell_type": "code",
   "execution_count": 137,
   "metadata": {},
   "outputs": [],
   "source": [
    "url=\" https://www.flipkart.com/\"\n",
    "driver.get(url)"
   ]
  },
  {
   "cell_type": "code",
   "execution_count": 138,
   "metadata": {},
   "outputs": [],
   "source": [
    "search_bar=driver.find_element_by_xpath(\"//input[@class='_3704LK']\")\n",
    "search_bar\n",
    "search_bar.send_keys(\"sunglasses\")"
   ]
  },
  {
   "cell_type": "code",
   "execution_count": 139,
   "metadata": {},
   "outputs": [],
   "source": [
    "search_btn=driver.find_element_by_xpath(\"//button[@class='L0Z3Pu']\")\n",
    "search_btn\n",
    "search_btn.click()"
   ]
  },
  {
   "cell_type": "code",
   "execution_count": 141,
   "metadata": {},
   "outputs": [
    {
     "data": {
      "text/plain": [
       "['GANSTA',\n",
       " 'Singco India',\n",
       " 'SUNBEE',\n",
       " 'DEIXELS',\n",
       " 'hipe',\n",
       " 'Silver Kartz',\n",
       " 'Rich Club',\n",
       " 'NuVew',\n",
       " 'IRUS by IDEE',\n",
       " 'AISLIN',\n",
       " 'PIRASO',\n",
       " 'Fastrack',\n",
       " 'ROZZETTA CRAFT',\n",
       " 'SHAAH COLLECTIONS',\n",
       " 'kingsunglasses',\n",
       " 'ROYAL SON',\n",
       " 'Elligator',\n",
       " 'Singco India',\n",
       " 'GANSTA',\n",
       " 'PHENOMENAL',\n",
       " 'SUNBEE',\n",
       " 'hipe',\n",
       " 'IRUS by IDEE',\n",
       " 'NuVew',\n",
       " 'AISLIN',\n",
       " 'Fastrack',\n",
       " 'ROZZETTA CRAFT',\n",
       " 'PIRASO',\n",
       " 'kingsunglasses',\n",
       " 'ROYAL SON',\n",
       " 'Singco India',\n",
       " 'Elligator',\n",
       " 'PHENOMENAL',\n",
       " 'GANSTA',\n",
       " 'SUNBEE',\n",
       " 'hipe',\n",
       " 'IRUS by IDEE',\n",
       " 'NuVew',\n",
       " 'Fastrack',\n",
       " 'kingsunglasses',\n",
       " 'GANSTA',\n",
       " 'Singco India',\n",
       " 'SUNBEE',\n",
       " 'DEIXELS',\n",
       " 'hipe',\n",
       " 'Silver Kartz',\n",
       " 'Rich Club',\n",
       " 'NuVew',\n",
       " 'IRUS by IDEE',\n",
       " 'AISLIN',\n",
       " 'PIRASO',\n",
       " 'Fastrack',\n",
       " 'ROZZETTA CRAFT',\n",
       " 'SHAAH COLLECTIONS',\n",
       " 'kingsunglasses',\n",
       " 'ROYAL SON',\n",
       " 'Elligator',\n",
       " 'Singco India',\n",
       " 'GANSTA',\n",
       " 'PHENOMENAL',\n",
       " 'SUNBEE',\n",
       " 'hipe',\n",
       " 'IRUS by IDEE',\n",
       " 'NuVew',\n",
       " 'AISLIN',\n",
       " 'Fastrack',\n",
       " 'ROZZETTA CRAFT',\n",
       " 'PIRASO',\n",
       " 'kingsunglasses',\n",
       " 'ROYAL SON',\n",
       " 'Singco India',\n",
       " 'Elligator',\n",
       " 'PHENOMENAL',\n",
       " 'GANSTA',\n",
       " 'SUNBEE',\n",
       " 'hipe',\n",
       " 'IRUS by IDEE',\n",
       " 'NuVew',\n",
       " 'Fastrack',\n",
       " 'kingsunglasses',\n",
       " 'GANSTA',\n",
       " 'Singco India',\n",
       " 'SUNBEE',\n",
       " 'DEIXELS',\n",
       " 'hipe',\n",
       " 'Silver Kartz',\n",
       " 'Rich Club',\n",
       " 'NuVew',\n",
       " 'IRUS by IDEE',\n",
       " 'AISLIN',\n",
       " 'PIRASO',\n",
       " 'Fastrack',\n",
       " 'ROZZETTA CRAFT',\n",
       " 'SHAAH COLLECTIONS',\n",
       " 'kingsunglasses',\n",
       " 'ROYAL SON',\n",
       " 'Elligator',\n",
       " 'Singco India',\n",
       " 'GANSTA',\n",
       " 'PHENOMENAL',\n",
       " 'SUNBEE',\n",
       " 'hipe',\n",
       " 'IRUS by IDEE',\n",
       " 'NuVew',\n",
       " 'AISLIN',\n",
       " 'Fastrack',\n",
       " 'ROZZETTA CRAFT',\n",
       " 'PIRASO',\n",
       " 'kingsunglasses',\n",
       " 'ROYAL SON',\n",
       " 'Singco India',\n",
       " 'Elligator',\n",
       " 'PHENOMENAL',\n",
       " 'GANSTA',\n",
       " 'SUNBEE',\n",
       " 'hipe',\n",
       " 'IRUS by IDEE',\n",
       " 'NuVew',\n",
       " 'Fastrack',\n",
       " 'kingsunglasses']"
      ]
     },
     "execution_count": 141,
     "metadata": {},
     "output_type": "execute_result"
    }
   ],
   "source": [
    "Brand=[]\n",
    "for i in range(0,3):\n",
    "    try:\n",
    "        brand=driver.find_elements_by_xpath(\"//div[@class='_2WkVRV']\")\n",
    "        for i in brand:\n",
    "            Brand.append(i.text)\n",
    "    except:\n",
    "        Brand.append(\"-\")\n",
    "next_button=driver.find_element_by_xpath(\"//a[@class='_1LKTO3']//span\")\n",
    "if next_button.text==\"NEXT\":\n",
    "    next_button.click()\n",
    "    \n",
    "Brand"
   ]
  },
  {
   "cell_type": "code",
   "execution_count": 142,
   "metadata": {},
   "outputs": [
    {
     "data": {
      "text/plain": [
       "120"
      ]
     },
     "execution_count": 142,
     "metadata": {},
     "output_type": "execute_result"
    }
   ],
   "source": [
    "len(Brand)"
   ]
  },
  {
   "cell_type": "code",
   "execution_count": 143,
   "metadata": {},
   "outputs": [
    {
     "data": {
      "text/plain": [
       "['₹284',\n",
       " '₹293',\n",
       " '₹314',\n",
       " '₹236',\n",
       " '₹210',\n",
       " '₹284',\n",
       " '₹299',\n",
       " '₹345',\n",
       " '₹329',\n",
       " '₹498',\n",
       " '₹237',\n",
       " '₹520',\n",
       " '₹449',\n",
       " '₹331',\n",
       " '₹284',\n",
       " '₹664',\n",
       " '₹312',\n",
       " '₹225',\n",
       " '₹289',\n",
       " '₹295',\n",
       " '₹314',\n",
       " '₹210',\n",
       " '₹419',\n",
       " '₹345',\n",
       " '₹516',\n",
       " '₹610',\n",
       " '₹449',\n",
       " '₹399',\n",
       " '₹199',\n",
       " '₹379',\n",
       " '₹331',\n",
       " '₹398',\n",
       " '₹319',\n",
       " '₹221',\n",
       " '₹284',\n",
       " '₹259',\n",
       " '₹399',\n",
       " '₹459',\n",
       " '₹859',\n",
       " '₹331',\n",
       " '₹284',\n",
       " '₹293',\n",
       " '₹314',\n",
       " '₹236',\n",
       " '₹210',\n",
       " '₹284',\n",
       " '₹299',\n",
       " '₹345',\n",
       " '₹329',\n",
       " '₹498',\n",
       " '₹237',\n",
       " '₹520',\n",
       " '₹449',\n",
       " '₹331',\n",
       " '₹284',\n",
       " '₹664',\n",
       " '₹312',\n",
       " '₹225',\n",
       " '₹289',\n",
       " '₹295',\n",
       " '₹314',\n",
       " '₹210',\n",
       " '₹419',\n",
       " '₹345',\n",
       " '₹516',\n",
       " '₹610',\n",
       " '₹449',\n",
       " '₹399',\n",
       " '₹199',\n",
       " '₹379',\n",
       " '₹331',\n",
       " '₹398',\n",
       " '₹319',\n",
       " '₹221',\n",
       " '₹284',\n",
       " '₹259',\n",
       " '₹399',\n",
       " '₹459',\n",
       " '₹859',\n",
       " '₹331',\n",
       " '₹284',\n",
       " '₹293',\n",
       " '₹314',\n",
       " '₹236',\n",
       " '₹210',\n",
       " '₹284',\n",
       " '₹299',\n",
       " '₹345',\n",
       " '₹329',\n",
       " '₹498',\n",
       " '₹237',\n",
       " '₹520',\n",
       " '₹449',\n",
       " '₹331',\n",
       " '₹284',\n",
       " '₹664',\n",
       " '₹312',\n",
       " '₹225',\n",
       " '₹289',\n",
       " '₹295',\n",
       " '₹314',\n",
       " '₹210',\n",
       " '₹419',\n",
       " '₹345',\n",
       " '₹516',\n",
       " '₹610',\n",
       " '₹449',\n",
       " '₹399',\n",
       " '₹199',\n",
       " '₹379',\n",
       " '₹331',\n",
       " '₹398',\n",
       " '₹319',\n",
       " '₹221',\n",
       " '₹284',\n",
       " '₹259',\n",
       " '₹399',\n",
       " '₹459',\n",
       " '₹859',\n",
       " '₹331']"
      ]
     },
     "execution_count": 143,
     "metadata": {},
     "output_type": "execute_result"
    }
   ],
   "source": [
    "Price=[]\n",
    "for i in range(0,3):\n",
    "    try:\n",
    "        price=driver.find_elements_by_xpath(\"//div[@class='_30jeq3']\")\n",
    "        for i in price:\n",
    "            Price.append(i.text)\n",
    "    except:\n",
    "        Price.append(\"-\")\n",
    "next_button=driver.find_element_by_xpath(\"//a[@class='_1LKTO3']//span\")\n",
    "if next_button.text==\"NEXT\":\n",
    "    next_button.click()\n",
    "    \n",
    "Price"
   ]
  },
  {
   "cell_type": "code",
   "execution_count": 144,
   "metadata": {},
   "outputs": [
    {
     "data": {
      "text/plain": [
       "120"
      ]
     },
     "execution_count": 144,
     "metadata": {},
     "output_type": "execute_result"
    }
   ],
   "source": [
    "len(Price)"
   ]
  },
  {
   "cell_type": "code",
   "execution_count": 145,
   "metadata": {},
   "outputs": [
    {
     "data": {
      "text/plain": [
       "['85% off',\n",
       " '82% off',\n",
       " '75% off',\n",
       " '60% off',\n",
       " '78% off',\n",
       " '76% off',\n",
       " '62% off',\n",
       " '72% off',\n",
       " '71% off',\n",
       " '70% off',\n",
       " '85% off',\n",
       " '34% off',\n",
       " '77% off',\n",
       " '80% off',\n",
       " '89% off',\n",
       " '66% off',\n",
       " '87% off',\n",
       " '67% off',\n",
       " '85% off',\n",
       " '87% off',\n",
       " '75% off',\n",
       " '83% off',\n",
       " '70% off',\n",
       " '62% off',\n",
       " '66% off',\n",
       " '23% off',\n",
       " '79% off',\n",
       " '84% off',\n",
       " '84% off',\n",
       " '74% off',\n",
       " '83% off',\n",
       " '73% off',\n",
       " '84% off',\n",
       " '77% off',\n",
       " '71% off',\n",
       " '74% off',\n",
       " '72% off',\n",
       " '72% off',\n",
       " '4% off',\n",
       " '79% off',\n",
       " '85% off',\n",
       " '82% off',\n",
       " '75% off',\n",
       " '60% off',\n",
       " '78% off',\n",
       " '76% off',\n",
       " '62% off',\n",
       " '72% off',\n",
       " '71% off',\n",
       " '70% off',\n",
       " '85% off',\n",
       " '34% off',\n",
       " '77% off',\n",
       " '80% off',\n",
       " '89% off',\n",
       " '66% off',\n",
       " '87% off',\n",
       " '67% off',\n",
       " '85% off',\n",
       " '87% off',\n",
       " '75% off',\n",
       " '83% off',\n",
       " '70% off',\n",
       " '62% off',\n",
       " '66% off',\n",
       " '23% off',\n",
       " '79% off',\n",
       " '84% off',\n",
       " '84% off',\n",
       " '74% off',\n",
       " '83% off',\n",
       " '73% off',\n",
       " '84% off',\n",
       " '77% off',\n",
       " '71% off',\n",
       " '74% off',\n",
       " '72% off',\n",
       " '72% off',\n",
       " '4% off',\n",
       " '79% off',\n",
       " '85% off',\n",
       " '82% off',\n",
       " '75% off',\n",
       " '60% off',\n",
       " '78% off',\n",
       " '76% off',\n",
       " '62% off',\n",
       " '72% off',\n",
       " '71% off',\n",
       " '70% off',\n",
       " '85% off',\n",
       " '34% off',\n",
       " '77% off',\n",
       " '80% off',\n",
       " '89% off',\n",
       " '66% off',\n",
       " '87% off',\n",
       " '67% off',\n",
       " '85% off',\n",
       " '87% off',\n",
       " '75% off',\n",
       " '83% off',\n",
       " '70% off',\n",
       " '62% off',\n",
       " '66% off',\n",
       " '23% off',\n",
       " '79% off',\n",
       " '84% off',\n",
       " '84% off',\n",
       " '74% off',\n",
       " '83% off',\n",
       " '73% off',\n",
       " '84% off',\n",
       " '77% off',\n",
       " '71% off',\n",
       " '74% off',\n",
       " '72% off',\n",
       " '72% off',\n",
       " '4% off',\n",
       " '79% off']"
      ]
     },
     "execution_count": 145,
     "metadata": {},
     "output_type": "execute_result"
    }
   ],
   "source": [
    "Discount=[]\n",
    "for i in range(0,3):\n",
    "    try:\n",
    "        discount=driver.find_elements_by_xpath(\"//div[@class='_3Ay6Sb']\")\n",
    "        for i in discount:\n",
    "            Discount.append(i.text)\n",
    "    except:\n",
    "        Discount.append(\"-\")\n",
    "next_button=driver.find_element_by_xpath(\"//a[@class='_1LKTO3']//span\")\n",
    "if next_button.text==\"NEXT\":\n",
    "    next_button.click()\n",
    "    \n",
    "Discount"
   ]
  },
  {
   "cell_type": "code",
   "execution_count": 146,
   "metadata": {},
   "outputs": [
    {
     "data": {
      "text/plain": [
       "120"
      ]
     },
     "execution_count": 146,
     "metadata": {},
     "output_type": "execute_result"
    }
   ],
   "source": [
    "len(Discount)"
   ]
  },
  {
   "cell_type": "code",
   "execution_count": 147,
   "metadata": {},
   "outputs": [
    {
     "data": {
      "text/plain": [
       "['UV Protection Aviator Sunglasses (57)',\n",
       " 'Riding Glasses, Others, UV Protection Wrap-around Sungl...',\n",
       " 'UV Protection, Polarized, Mirrored Retro Square Sunglas...',\n",
       " 'Polarized, UV Protection, Riding Glasses Wayfarer Sungl...',\n",
       " 'UV Protection, Night Vision, Gradient, Mirrored Round, ...',\n",
       " 'UV Protection Oval Sunglasses (56)',\n",
       " 'UV Protection, Others Round Sunglasses (48)',\n",
       " 'UV Protection Sports Sunglasses (62)',\n",
       " 'Gradient Rectangular Sunglasses (56)',\n",
       " 'UV Protection, Gradient Cat-eye Sunglasses (61)',\n",
       " 'UV Protection Aviator Sunglasses (54)',\n",
       " 'UV Protection Aviator Sunglasses (Free Size)',\n",
       " 'UV Protection, Gradient Round Sunglasses (Free Size)',\n",
       " 'UV Protection Round Sunglasses (Free Size)',\n",
       " 'Mirrored, UV Protection Wayfarer Sunglasses (Free Size)',\n",
       " 'Polarized Rectangular Sunglasses (65)',\n",
       " 'Mirrored Round Sunglasses (53)',\n",
       " 'UV Protection, Riding Glasses, Others Aviator, Wayfarer...',\n",
       " 'UV Protection, Gradient Aviator Sunglasses (55)',\n",
       " 'UV Protection Round Sunglasses (53)',\n",
       " 'UV Protection, Polarized, Mirrored Wayfarer Sunglasses ...',\n",
       " 'UV Protection, Night Vision, Riding Glasses, Gradient, ...',\n",
       " 'Gradient Rectangular Sunglasses (53)',\n",
       " 'UV Protection, Mirrored, Night Vision, Riding Glasses S...',\n",
       " 'UV Protection, Gradient Butterfly, Retro Square Sunglas...',\n",
       " 'UV Protection Wayfarer Sunglasses (55)',\n",
       " 'UV Protection, Riding Glasses Rectangular Sunglasses (F...',\n",
       " 'UV Protection Aviator Sunglasses (58)',\n",
       " 'UV Protection Rectangular Sunglasses (55)',\n",
       " 'Mirrored Aviator Sunglasses (55)',\n",
       " 'Mirrored, UV Protection, Riding Glasses, Others Wrap-ar...',\n",
       " 'UV Protection, Riding Glasses Rectangular, Retro Square...',\n",
       " 'UV Protection Clubmaster Sunglasses (Free Size)',\n",
       " 'UV Protection, Mirrored Wayfarer Sunglasses (53)',\n",
       " 'UV Protection, Polarized, Mirrored Wayfarer Sunglasses ...',\n",
       " 'UV Protection, Gradient, Riding Glasses Wayfarer Sungla...',\n",
       " 'Gradient Rectangular Sunglasses (53)',\n",
       " 'UV Protection, Night Vision, Riding Glasses Retro Squar...',\n",
       " 'UV Protection Wayfarer Sunglasses (Free Size)',\n",
       " 'UV Protection Round Sunglasses (Free Size)',\n",
       " 'UV Protection Aviator Sunglasses (57)',\n",
       " 'Riding Glasses, Others, UV Protection Wrap-around Sungl...',\n",
       " 'UV Protection, Polarized, Mirrored Retro Square Sunglas...',\n",
       " 'Polarized, UV Protection, Riding Glasses Wayfarer Sungl...',\n",
       " 'UV Protection, Night Vision, Gradient, Mirrored Round, ...',\n",
       " 'UV Protection Oval Sunglasses (56)',\n",
       " 'UV Protection, Others Round Sunglasses (48)',\n",
       " 'UV Protection Sports Sunglasses (62)',\n",
       " 'Gradient Rectangular Sunglasses (56)',\n",
       " 'UV Protection, Gradient Cat-eye Sunglasses (61)',\n",
       " 'UV Protection Aviator Sunglasses (54)',\n",
       " 'UV Protection Aviator Sunglasses (Free Size)',\n",
       " 'UV Protection, Gradient Round Sunglasses (Free Size)',\n",
       " 'UV Protection Round Sunglasses (Free Size)',\n",
       " 'Mirrored, UV Protection Wayfarer Sunglasses (Free Size)',\n",
       " 'Polarized Rectangular Sunglasses (65)',\n",
       " 'Mirrored Round Sunglasses (53)',\n",
       " 'UV Protection, Riding Glasses, Others Aviator, Wayfarer...',\n",
       " 'UV Protection, Gradient Aviator Sunglasses (55)',\n",
       " 'UV Protection Round Sunglasses (53)',\n",
       " 'UV Protection, Polarized, Mirrored Wayfarer Sunglasses ...',\n",
       " 'UV Protection, Night Vision, Riding Glasses, Gradient, ...',\n",
       " 'Gradient Rectangular Sunglasses (53)',\n",
       " 'UV Protection, Mirrored, Night Vision, Riding Glasses S...',\n",
       " 'UV Protection, Gradient Butterfly, Retro Square Sunglas...',\n",
       " 'UV Protection Wayfarer Sunglasses (55)',\n",
       " 'UV Protection, Riding Glasses Rectangular Sunglasses (F...',\n",
       " 'UV Protection Aviator Sunglasses (58)',\n",
       " 'UV Protection Rectangular Sunglasses (55)',\n",
       " 'Mirrored Aviator Sunglasses (55)',\n",
       " 'Mirrored, UV Protection, Riding Glasses, Others Wrap-ar...',\n",
       " 'UV Protection, Riding Glasses Rectangular, Retro Square...',\n",
       " 'UV Protection Clubmaster Sunglasses (Free Size)',\n",
       " 'UV Protection, Mirrored Wayfarer Sunglasses (53)',\n",
       " 'UV Protection, Polarized, Mirrored Wayfarer Sunglasses ...',\n",
       " 'UV Protection, Gradient, Riding Glasses Wayfarer Sungla...',\n",
       " 'Gradient Rectangular Sunglasses (53)',\n",
       " 'UV Protection, Night Vision, Riding Glasses Retro Squar...',\n",
       " 'UV Protection Wayfarer Sunglasses (Free Size)',\n",
       " 'UV Protection Round Sunglasses (Free Size)',\n",
       " 'UV Protection Aviator Sunglasses (57)',\n",
       " 'Riding Glasses, Others, UV Protection Wrap-around Sungl...',\n",
       " 'UV Protection, Polarized, Mirrored Retro Square Sunglas...',\n",
       " 'Polarized, UV Protection, Riding Glasses Wayfarer Sungl...',\n",
       " 'UV Protection, Night Vision, Gradient, Mirrored Round, ...',\n",
       " 'UV Protection Oval Sunglasses (56)',\n",
       " 'UV Protection, Others Round Sunglasses (48)',\n",
       " 'UV Protection Sports Sunglasses (62)',\n",
       " 'Gradient Rectangular Sunglasses (56)',\n",
       " 'UV Protection, Gradient Cat-eye Sunglasses (61)',\n",
       " 'UV Protection Aviator Sunglasses (54)',\n",
       " 'UV Protection Aviator Sunglasses (Free Size)',\n",
       " 'UV Protection, Gradient Round Sunglasses (Free Size)',\n",
       " 'UV Protection Round Sunglasses (Free Size)',\n",
       " 'Mirrored, UV Protection Wayfarer Sunglasses (Free Size)',\n",
       " 'Polarized Rectangular Sunglasses (65)',\n",
       " 'Mirrored Round Sunglasses (53)',\n",
       " 'UV Protection, Riding Glasses, Others Aviator, Wayfarer...',\n",
       " 'UV Protection, Gradient Aviator Sunglasses (55)',\n",
       " 'UV Protection Round Sunglasses (53)',\n",
       " 'UV Protection, Polarized, Mirrored Wayfarer Sunglasses ...',\n",
       " 'UV Protection, Night Vision, Riding Glasses, Gradient, ...',\n",
       " 'Gradient Rectangular Sunglasses (53)',\n",
       " 'UV Protection, Mirrored, Night Vision, Riding Glasses S...',\n",
       " 'UV Protection, Gradient Butterfly, Retro Square Sunglas...',\n",
       " 'UV Protection Wayfarer Sunglasses (55)',\n",
       " 'UV Protection, Riding Glasses Rectangular Sunglasses (F...',\n",
       " 'UV Protection Aviator Sunglasses (58)',\n",
       " 'UV Protection Rectangular Sunglasses (55)',\n",
       " 'Mirrored Aviator Sunglasses (55)',\n",
       " 'Mirrored, UV Protection, Riding Glasses, Others Wrap-ar...',\n",
       " 'UV Protection, Riding Glasses Rectangular, Retro Square...',\n",
       " 'UV Protection Clubmaster Sunglasses (Free Size)',\n",
       " 'UV Protection, Mirrored Wayfarer Sunglasses (53)',\n",
       " 'UV Protection, Polarized, Mirrored Wayfarer Sunglasses ...',\n",
       " 'UV Protection, Gradient, Riding Glasses Wayfarer Sungla...',\n",
       " 'Gradient Rectangular Sunglasses (53)',\n",
       " 'UV Protection, Night Vision, Riding Glasses Retro Squar...',\n",
       " 'UV Protection Wayfarer Sunglasses (Free Size)',\n",
       " 'UV Protection Round Sunglasses (Free Size)']"
      ]
     },
     "execution_count": 147,
     "metadata": {},
     "output_type": "execute_result"
    }
   ],
   "source": [
    "Product_des=[]\n",
    "for i in range(0,3):\n",
    "    try:\n",
    "        product_des=driver.find_elements_by_xpath(\"//a[@class='IRpwTa']\")\n",
    "        for i in product_des:\n",
    "            Product_des.append(i.text)\n",
    "    except:\n",
    "        Product_des.append(\"-\")\n",
    "next_button=driver.find_element_by_xpath(\"//a[@class='_1LKTO3']//span\")\n",
    "if next_button.text==\"NEXT\":\n",
    "    next_button.click()\n",
    "    \n",
    "Product_des"
   ]
  },
  {
   "cell_type": "code",
   "execution_count": 148,
   "metadata": {},
   "outputs": [
    {
     "data": {
      "text/plain": [
       "120"
      ]
     },
     "execution_count": 148,
     "metadata": {},
     "output_type": "execute_result"
    }
   ],
   "source": [
    "len(Product_des)"
   ]
  },
  {
   "cell_type": "code",
   "execution_count": 158,
   "metadata": {},
   "outputs": [
    {
     "data": {
      "text/html": [
       "<div>\n",
       "<style scoped>\n",
       "    .dataframe tbody tr th:only-of-type {\n",
       "        vertical-align: middle;\n",
       "    }\n",
       "\n",
       "    .dataframe tbody tr th {\n",
       "        vertical-align: top;\n",
       "    }\n",
       "\n",
       "    .dataframe thead th {\n",
       "        text-align: right;\n",
       "    }\n",
       "</style>\n",
       "<table border=\"1\" class=\"dataframe\">\n",
       "  <thead>\n",
       "    <tr style=\"text-align: right;\">\n",
       "      <th></th>\n",
       "      <th>Brand_Name</th>\n",
       "      <th>Product_Desc</th>\n",
       "      <th>Price</th>\n",
       "      <th>Discount</th>\n",
       "    </tr>\n",
       "  </thead>\n",
       "  <tbody>\n",
       "    <tr>\n",
       "      <th>0</th>\n",
       "      <td>GANSTA</td>\n",
       "      <td>UV Protection Aviator Sunglasses (57)</td>\n",
       "      <td>₹284</td>\n",
       "      <td>85% off</td>\n",
       "    </tr>\n",
       "    <tr>\n",
       "      <th>1</th>\n",
       "      <td>Singco India</td>\n",
       "      <td>Riding Glasses, Others, UV Protection Wrap-aro...</td>\n",
       "      <td>₹293</td>\n",
       "      <td>82% off</td>\n",
       "    </tr>\n",
       "    <tr>\n",
       "      <th>2</th>\n",
       "      <td>SUNBEE</td>\n",
       "      <td>UV Protection, Polarized, Mirrored Retro Squar...</td>\n",
       "      <td>₹314</td>\n",
       "      <td>75% off</td>\n",
       "    </tr>\n",
       "    <tr>\n",
       "      <th>3</th>\n",
       "      <td>DEIXELS</td>\n",
       "      <td>Polarized, UV Protection, Riding Glasses Wayfa...</td>\n",
       "      <td>₹236</td>\n",
       "      <td>60% off</td>\n",
       "    </tr>\n",
       "    <tr>\n",
       "      <th>4</th>\n",
       "      <td>hipe</td>\n",
       "      <td>UV Protection, Night Vision, Gradient, Mirrore...</td>\n",
       "      <td>₹210</td>\n",
       "      <td>78% off</td>\n",
       "    </tr>\n",
       "    <tr>\n",
       "      <th>...</th>\n",
       "      <td>...</td>\n",
       "      <td>...</td>\n",
       "      <td>...</td>\n",
       "      <td>...</td>\n",
       "    </tr>\n",
       "    <tr>\n",
       "      <th>95</th>\n",
       "      <td>ROYAL SON</td>\n",
       "      <td>Polarized Rectangular Sunglasses (65)</td>\n",
       "      <td>₹664</td>\n",
       "      <td>66% off</td>\n",
       "    </tr>\n",
       "    <tr>\n",
       "      <th>96</th>\n",
       "      <td>Elligator</td>\n",
       "      <td>Mirrored Round Sunglasses (53)</td>\n",
       "      <td>₹312</td>\n",
       "      <td>87% off</td>\n",
       "    </tr>\n",
       "    <tr>\n",
       "      <th>97</th>\n",
       "      <td>Singco India</td>\n",
       "      <td>UV Protection, Riding Glasses, Others Aviator,...</td>\n",
       "      <td>₹225</td>\n",
       "      <td>67% off</td>\n",
       "    </tr>\n",
       "    <tr>\n",
       "      <th>98</th>\n",
       "      <td>GANSTA</td>\n",
       "      <td>UV Protection, Gradient Aviator Sunglasses (55)</td>\n",
       "      <td>₹289</td>\n",
       "      <td>85% off</td>\n",
       "    </tr>\n",
       "    <tr>\n",
       "      <th>99</th>\n",
       "      <td>PHENOMENAL</td>\n",
       "      <td>UV Protection Round Sunglasses (53)</td>\n",
       "      <td>₹295</td>\n",
       "      <td>87% off</td>\n",
       "    </tr>\n",
       "  </tbody>\n",
       "</table>\n",
       "<p>100 rows × 4 columns</p>\n",
       "</div>"
      ],
      "text/plain": [
       "      Brand_Name                                       Product_Desc Price  \\\n",
       "0         GANSTA              UV Protection Aviator Sunglasses (57)  ₹284   \n",
       "1   Singco India  Riding Glasses, Others, UV Protection Wrap-aro...  ₹293   \n",
       "2         SUNBEE  UV Protection, Polarized, Mirrored Retro Squar...  ₹314   \n",
       "3        DEIXELS  Polarized, UV Protection, Riding Glasses Wayfa...  ₹236   \n",
       "4           hipe  UV Protection, Night Vision, Gradient, Mirrore...  ₹210   \n",
       "..           ...                                                ...   ...   \n",
       "95     ROYAL SON              Polarized Rectangular Sunglasses (65)  ₹664   \n",
       "96     Elligator                     Mirrored Round Sunglasses (53)  ₹312   \n",
       "97  Singco India  UV Protection, Riding Glasses, Others Aviator,...  ₹225   \n",
       "98        GANSTA    UV Protection, Gradient Aviator Sunglasses (55)  ₹289   \n",
       "99    PHENOMENAL                UV Protection Round Sunglasses (53)  ₹295   \n",
       "\n",
       "   Discount  \n",
       "0   85% off  \n",
       "1   82% off  \n",
       "2   75% off  \n",
       "3   60% off  \n",
       "4   78% off  \n",
       "..      ...  \n",
       "95  66% off  \n",
       "96  87% off  \n",
       "97  67% off  \n",
       "98  85% off  \n",
       "99  87% off  \n",
       "\n",
       "[100 rows x 4 columns]"
      ]
     },
     "execution_count": 158,
     "metadata": {},
     "output_type": "execute_result"
    }
   ],
   "source": [
    "flipkart=pd.DataFrame({})\n",
    "flipkart[\"Brand_Name\"]=Brand[0:100]\n",
    "flipkart[\"Product_Desc\"]=Product_des[0:100]\n",
    "flipkart[\"Price\"]=Price[0:100]\n",
    "flipkart[\"Discount\"]=Discount[0:100]\n",
    "flipkart"
   ]
  },
  {
   "cell_type": "code",
   "execution_count": null,
   "metadata": {},
   "outputs": [],
   "source": []
  },
  {
   "cell_type": "markdown",
   "metadata": {},
   "source": [
    "# Q8"
   ]
  },
  {
   "cell_type": "code",
   "execution_count": 164,
   "metadata": {},
   "outputs": [],
   "source": [
    "driver = webdriver.Chrome(r\"C:\\Users\\hp\\Desktop\\Flip Robo\\chromedriver.exe\")"
   ]
  },
  {
   "cell_type": "code",
   "execution_count": 165,
   "metadata": {},
   "outputs": [],
   "source": [
    "url=\" https://www.flipkart.com/\"\n",
    "driver.get(url)"
   ]
  },
  {
   "cell_type": "code",
   "execution_count": 166,
   "metadata": {},
   "outputs": [],
   "source": [
    "search_bar=driver.find_element_by_xpath(\"//input[@class='_3704LK']\")\n",
    "search_bar\n",
    "search_bar.send_keys(\"sneakers\")"
   ]
  },
  {
   "cell_type": "code",
   "execution_count": 167,
   "metadata": {},
   "outputs": [],
   "source": [
    "search_btn=driver.find_element_by_xpath(\"//button[@class='L0Z3Pu']\")\n",
    "search_btn\n",
    "search_btn.click()"
   ]
  },
  {
   "cell_type": "code",
   "execution_count": 169,
   "metadata": {},
   "outputs": [
    {
     "data": {
      "text/plain": [
       "['SPARX',\n",
       " 'SPARX',\n",
       " 'restinfoot',\n",
       " 'RONSON',\n",
       " 'VIPSJAZZY',\n",
       " 'RODDICK SHOES',\n",
       " 'Kreverse',\n",
       " 'LE GREEM',\n",
       " 'RODDICK SHOES',\n",
       " 'World Wear Footwear',\n",
       " 'BRUTON',\n",
       " 'Baogi',\n",
       " 'BIRDE',\n",
       " 'Chevit',\n",
       " 'PUMA',\n",
       " 'LE GREEM',\n",
       " 'bluemaker',\n",
       " 'India hub',\n",
       " 'SPARX',\n",
       " 'BAUCHHAAR',\n",
       " 'bluemaker',\n",
       " 'Jack Diamond',\n",
       " 'BIRDE',\n",
       " 'SHILISHA',\n",
       " 'SHOEFLY',\n",
       " 'BIRDE',\n",
       " 'Chevit',\n",
       " 'Echor',\n",
       " 'BIRDE',\n",
       " 'SPARX',\n",
       " 'Rising Wolf',\n",
       " 'Woakers',\n",
       " 'Robbie jones',\n",
       " 'D-SNEAKERZ',\n",
       " 'BIRDE',\n",
       " 'luxury fashion',\n",
       " 'BRUTON',\n",
       " 'Zsyto',\n",
       " 'Labbin',\n",
       " 'Echor',\n",
       " 'SPARX',\n",
       " 'SPARX',\n",
       " 'restinfoot',\n",
       " 'RONSON',\n",
       " 'VIPSJAZZY',\n",
       " 'RODDICK SHOES',\n",
       " 'Kreverse',\n",
       " 'LE GREEM',\n",
       " 'RODDICK SHOES',\n",
       " 'World Wear Footwear',\n",
       " 'BRUTON',\n",
       " 'Baogi',\n",
       " 'BIRDE',\n",
       " 'Chevit',\n",
       " 'PUMA',\n",
       " 'LE GREEM',\n",
       " 'bluemaker',\n",
       " 'India hub',\n",
       " 'SPARX',\n",
       " 'BAUCHHAAR',\n",
       " 'bluemaker',\n",
       " 'Jack Diamond',\n",
       " 'BIRDE',\n",
       " 'SHILISHA',\n",
       " 'SHOEFLY',\n",
       " 'BIRDE',\n",
       " 'Chevit',\n",
       " 'Echor',\n",
       " 'BIRDE',\n",
       " 'SPARX',\n",
       " 'Rising Wolf',\n",
       " 'Woakers',\n",
       " 'Robbie jones',\n",
       " 'D-SNEAKERZ',\n",
       " 'BIRDE',\n",
       " 'luxury fashion',\n",
       " 'BRUTON',\n",
       " 'Zsyto',\n",
       " 'Labbin',\n",
       " 'Echor',\n",
       " 'SPARX',\n",
       " 'SPARX',\n",
       " 'restinfoot',\n",
       " 'RONSON',\n",
       " 'VIPSJAZZY',\n",
       " 'RODDICK SHOES',\n",
       " 'Kreverse',\n",
       " 'LE GREEM',\n",
       " 'RODDICK SHOES',\n",
       " 'World Wear Footwear',\n",
       " 'BRUTON',\n",
       " 'Baogi',\n",
       " 'BIRDE',\n",
       " 'Chevit',\n",
       " 'PUMA',\n",
       " 'LE GREEM',\n",
       " 'bluemaker',\n",
       " 'India hub',\n",
       " 'SPARX',\n",
       " 'BAUCHHAAR',\n",
       " 'bluemaker',\n",
       " 'Jack Diamond',\n",
       " 'BIRDE',\n",
       " 'SHILISHA',\n",
       " 'SHOEFLY',\n",
       " 'BIRDE',\n",
       " 'Chevit',\n",
       " 'Echor',\n",
       " 'BIRDE',\n",
       " 'SPARX',\n",
       " 'Rising Wolf',\n",
       " 'Woakers',\n",
       " 'Robbie jones',\n",
       " 'D-SNEAKERZ',\n",
       " 'BIRDE',\n",
       " 'luxury fashion',\n",
       " 'BRUTON',\n",
       " 'Zsyto',\n",
       " 'Labbin',\n",
       " 'Echor']"
      ]
     },
     "execution_count": 169,
     "metadata": {},
     "output_type": "execute_result"
    }
   ],
   "source": [
    "Brand=[]\n",
    "for i in range(0,3):\n",
    "    try:\n",
    "        brand=driver.find_elements_by_xpath(\"//div[starts-with(@class,'_2WkVRV')]\")\n",
    "        for i in brand:\n",
    "            Brand.append(i.text)\n",
    "    except:\n",
    "        Brand.append(\"-\")\n",
    "next_button=driver.find_element_by_xpath(\"//a[@class='_1LKTO3']//span\")\n",
    "if next_button.text==\"NEXT\":\n",
    "    next_button.click()\n",
    "\n",
    "Brand"
   ]
  },
  {
   "cell_type": "code",
   "execution_count": 170,
   "metadata": {},
   "outputs": [
    {
     "data": {
      "text/plain": [
       "120"
      ]
     },
     "execution_count": 170,
     "metadata": {},
     "output_type": "execute_result"
    }
   ],
   "source": [
    "len(Brand)"
   ]
  },
  {
   "cell_type": "code",
   "execution_count": 171,
   "metadata": {},
   "outputs": [
    {
     "data": {
      "text/plain": [
       "['₹649',\n",
       " '₹769',\n",
       " '₹349',\n",
       " '₹499',\n",
       " '₹379',\n",
       " '₹474',\n",
       " '₹266',\n",
       " '₹404',\n",
       " '₹474',\n",
       " '₹240',\n",
       " '₹444',\n",
       " '₹499',\n",
       " '₹283',\n",
       " '₹599',\n",
       " '₹1,400',\n",
       " '₹404',\n",
       " '₹449',\n",
       " '₹379',\n",
       " '₹623',\n",
       " '₹448',\n",
       " '₹449',\n",
       " '₹627',\n",
       " '₹283',\n",
       " '₹399',\n",
       " '₹362',\n",
       " '₹757',\n",
       " '₹399',\n",
       " '₹399',\n",
       " '₹472',\n",
       " '₹745',\n",
       " '₹569',\n",
       " '₹521',\n",
       " '₹399',\n",
       " '₹348',\n",
       " '₹359',\n",
       " '₹399',\n",
       " '₹168',\n",
       " '₹398',\n",
       " '₹399',\n",
       " '₹429',\n",
       " '₹599',\n",
       " '₹236',\n",
       " '₹474',\n",
       " '₹449',\n",
       " '₹474',\n",
       " '₹649',\n",
       " '₹769',\n",
       " '₹349',\n",
       " '₹499',\n",
       " '₹379',\n",
       " '₹474',\n",
       " '₹266',\n",
       " '₹404',\n",
       " '₹474',\n",
       " '₹240',\n",
       " '₹444',\n",
       " '₹499',\n",
       " '₹283',\n",
       " '₹599',\n",
       " '₹1,400',\n",
       " '₹404',\n",
       " '₹449',\n",
       " '₹379',\n",
       " '₹623',\n",
       " '₹448',\n",
       " '₹449',\n",
       " '₹627',\n",
       " '₹283',\n",
       " '₹399',\n",
       " '₹362',\n",
       " '₹757',\n",
       " '₹399',\n",
       " '₹399',\n",
       " '₹472',\n",
       " '₹745',\n",
       " '₹569',\n",
       " '₹521',\n",
       " '₹399',\n",
       " '₹348',\n",
       " '₹359',\n",
       " '₹399',\n",
       " '₹168',\n",
       " '₹398',\n",
       " '₹399',\n",
       " '₹429',\n",
       " '₹599',\n",
       " '₹236',\n",
       " '₹474',\n",
       " '₹449',\n",
       " '₹474',\n",
       " '₹649',\n",
       " '₹769',\n",
       " '₹349',\n",
       " '₹499',\n",
       " '₹379',\n",
       " '₹474',\n",
       " '₹266',\n",
       " '₹404',\n",
       " '₹474',\n",
       " '₹240',\n",
       " '₹444',\n",
       " '₹499',\n",
       " '₹283',\n",
       " '₹599',\n",
       " '₹1,400',\n",
       " '₹404',\n",
       " '₹449',\n",
       " '₹379',\n",
       " '₹623',\n",
       " '₹448',\n",
       " '₹449',\n",
       " '₹627',\n",
       " '₹283',\n",
       " '₹399',\n",
       " '₹362',\n",
       " '₹757',\n",
       " '₹399',\n",
       " '₹399',\n",
       " '₹472',\n",
       " '₹745',\n",
       " '₹569',\n",
       " '₹521',\n",
       " '₹399',\n",
       " '₹348',\n",
       " '₹359',\n",
       " '₹399',\n",
       " '₹168',\n",
       " '₹398',\n",
       " '₹399',\n",
       " '₹429',\n",
       " '₹599',\n",
       " '₹236',\n",
       " '₹474',\n",
       " '₹449',\n",
       " '₹474']"
      ]
     },
     "execution_count": 171,
     "metadata": {},
     "output_type": "execute_result"
    }
   ],
   "source": [
    "Price=[]\n",
    "for i in range(0,3):\n",
    "    try:\n",
    "        price=driver.find_elements_by_xpath(\"//div[starts-with(@class,'_30jeq3')]\")\n",
    "        for i in price:\n",
    "            Price.append(i.text)\n",
    "    except:\n",
    "        Price.append(\"-\")\n",
    "next_button=driver.find_element_by_xpath(\"//a[@class='_1LKTO3']//span\")\n",
    "if next_button.text==\"NEXT\":\n",
    "    next_button.click()\n",
    "    \n",
    "Price"
   ]
  },
  {
   "cell_type": "code",
   "execution_count": 173,
   "metadata": {},
   "outputs": [
    {
     "data": {
      "text/plain": [
       "['7% off',\n",
       " '23% off',\n",
       " '65% off',\n",
       " '75% off',\n",
       " '62% off',\n",
       " '52% off',\n",
       " '73% off',\n",
       " '59% off',\n",
       " '52% off',\n",
       " '51% off',\n",
       " '82% off',\n",
       " '66% off',\n",
       " '43% off',\n",
       " '60% off',\n",
       " '64% off',\n",
       " '59% off',\n",
       " '55% off',\n",
       " '81% off',\n",
       " '16% off',\n",
       " '55% off',\n",
       " '55% off',\n",
       " '37% off',\n",
       " '43% off',\n",
       " '60% off',\n",
       " '72% off',\n",
       " '69% off',\n",
       " '60% off',\n",
       " '60% off',\n",
       " '52% off',\n",
       " '17% off',\n",
       " '64% off',\n",
       " '65% off',\n",
       " '60% off',\n",
       " '47% off',\n",
       " '28% off',\n",
       " '80% off',\n",
       " '71% off',\n",
       " '69% off',\n",
       " '60% off',\n",
       " '57% off',\n",
       " '66% off',\n",
       " '52% off',\n",
       " '86% off',\n",
       " '55% off',\n",
       " '52% off',\n",
       " '7% off',\n",
       " '23% off',\n",
       " '65% off',\n",
       " '75% off',\n",
       " '62% off',\n",
       " '52% off',\n",
       " '73% off',\n",
       " '59% off',\n",
       " '52% off',\n",
       " '51% off',\n",
       " '82% off',\n",
       " '66% off',\n",
       " '43% off',\n",
       " '60% off',\n",
       " '64% off',\n",
       " '59% off',\n",
       " '55% off',\n",
       " '81% off',\n",
       " '16% off',\n",
       " '55% off',\n",
       " '55% off',\n",
       " '37% off',\n",
       " '43% off',\n",
       " '60% off',\n",
       " '72% off',\n",
       " '69% off',\n",
       " '60% off',\n",
       " '60% off',\n",
       " '52% off',\n",
       " '17% off',\n",
       " '64% off',\n",
       " '65% off',\n",
       " '60% off',\n",
       " '47% off',\n",
       " '28% off',\n",
       " '80% off',\n",
       " '71% off',\n",
       " '69% off',\n",
       " '60% off',\n",
       " '57% off',\n",
       " '66% off',\n",
       " '52% off',\n",
       " '86% off',\n",
       " '55% off',\n",
       " '52% off',\n",
       " '7% off',\n",
       " '23% off',\n",
       " '65% off',\n",
       " '75% off',\n",
       " '62% off',\n",
       " '52% off',\n",
       " '73% off',\n",
       " '59% off',\n",
       " '52% off',\n",
       " '51% off',\n",
       " '82% off',\n",
       " '66% off',\n",
       " '43% off',\n",
       " '60% off',\n",
       " '64% off',\n",
       " '59% off',\n",
       " '55% off',\n",
       " '81% off',\n",
       " '16% off',\n",
       " '55% off',\n",
       " '55% off',\n",
       " '37% off',\n",
       " '43% off',\n",
       " '60% off',\n",
       " '72% off',\n",
       " '69% off',\n",
       " '60% off',\n",
       " '60% off',\n",
       " '52% off',\n",
       " '17% off',\n",
       " '64% off',\n",
       " '65% off',\n",
       " '60% off',\n",
       " '47% off',\n",
       " '28% off',\n",
       " '80% off',\n",
       " '71% off',\n",
       " '69% off',\n",
       " '60% off',\n",
       " '57% off',\n",
       " '66% off',\n",
       " '52% off',\n",
       " '86% off',\n",
       " '55% off',\n",
       " '52% off']"
      ]
     },
     "execution_count": 173,
     "metadata": {},
     "output_type": "execute_result"
    }
   ],
   "source": [
    "Discount=[]\n",
    "for i in range(0,3):\n",
    "    try:\n",
    "        discount=driver.find_elements_by_xpath(\"//div[starts-with(@class,'_3Ay6Sb')]\")\n",
    "        for i in discount:\n",
    "            Discount.append(i.text)\n",
    "    except:\n",
    "        Discount.append(\"-\")\n",
    "next_button=driver.find_element_by_xpath(\"//a[@class='_1LKTO3']//span\")\n",
    "if next_button.text==\"NEXT\":\n",
    "    next_button.click()\n",
    "    \n",
    "Discount"
   ]
  },
  {
   "cell_type": "code",
   "execution_count": 174,
   "metadata": {},
   "outputs": [
    {
     "data": {
      "text/plain": [
       "['SM439G Sneakers For Men',\n",
       " 'SM-322 Sneakers For Men',\n",
       " \"Casual shoes,Sneakers for men's,shoes for men's Sneaker...\",\n",
       " 'Extraordinary, Shapeless,High Performance, Sports Shoes...',\n",
       " 'Sneakers For Men',\n",
       " 'Fashion Outdoor Canvas Casual Light Weight Lace-up Even...',\n",
       " 'Sneakers For Men',\n",
       " 'Comfortable & Ultra Light Weight Sneaker Sneakers For M...',\n",
       " 'Fashion Outdoor Canvas Casual Light Weight Lace-up Even...',\n",
       " 'Men 5014 Latest Collection Stylish Casual Sports Loafer...',\n",
       " 'Modern & Trendy Collection Combo Pack of 02 Shoes for M...',\n",
       " 'Sneakers For Men',\n",
       " 'Birde Trendy Casual Shoes Sneakers For Men',\n",
       " 'Unique & Perfect Collection Combo Pack of 02 Shoes for ...',\n",
       " 'Kor Sneakers For Men',\n",
       " 'Comfortable & Smart Sneakers For Men',\n",
       " 'casual for men Sneakers For Men',\n",
       " 'Fashionable sneaker casual shoes Sneakers For Men',\n",
       " 'Men White Sneakers Sneakers For Men',\n",
       " 'Sneakers For Men',\n",
       " 'casual shoe for men Sneakers For Men',\n",
       " 'Sneakers For Men',\n",
       " 'Birde Trendy Casual Shoes Sneakers For Men',\n",
       " 'Casual Sneakers Shoes For Men Sneakers For Men Sneakers...',\n",
       " 'Combo Men Pack of 2 Loafers Shoes Sneakers For Men',\n",
       " 'Combo Pack of 5 Casual Shoes Sneakers For Men',\n",
       " 'Smart Casuals Canvas Shoes Combo pack of 2 Sneakers For...',\n",
       " 'HHM Sneakers For Men',\n",
       " 'Combo Pack of 2 Casual Shoes Sneakers For Men',\n",
       " 'SM-675 Sneakers For Men',\n",
       " 'Sneakers For Men',\n",
       " 'Sneakers For Men',\n",
       " 'Casual Sneakers Shoes For Men Sneakers For Men',\n",
       " \"Casual , Partywear Sneakers Shoes For Men's And Boys Wh...\",\n",
       " \"Men's Stylish Casual Shoes Sneakers For Men\",\n",
       " 'luxury fashionable casual shoes Sneakers For Men',\n",
       " 'Lightweight Pack Of 1 Trendy Sneakers Sneakers Sneakers...',\n",
       " 'Sneakers For Men',\n",
       " 'Casual Sneakers White Shoes For Men And Boys Sneakers F...',\n",
       " 'Raptor Sneakers For Men',\n",
       " 'SM439G Sneakers For Men',\n",
       " 'SM-322 Sneakers For Men',\n",
       " \"Casual shoes,Sneakers for men's,shoes for men's Sneaker...\",\n",
       " 'Extraordinary, Shapeless,High Performance, Sports Shoes...',\n",
       " 'Sneakers For Men',\n",
       " 'Fashion Outdoor Canvas Casual Light Weight Lace-up Even...',\n",
       " 'Sneakers For Men',\n",
       " 'Comfortable & Ultra Light Weight Sneaker Sneakers For M...',\n",
       " 'Fashion Outdoor Canvas Casual Light Weight Lace-up Even...',\n",
       " 'Men 5014 Latest Collection Stylish Casual Sports Loafer...',\n",
       " 'Modern & Trendy Collection Combo Pack of 02 Shoes for M...',\n",
       " 'Sneakers For Men',\n",
       " 'Birde Trendy Casual Shoes Sneakers For Men',\n",
       " 'Unique & Perfect Collection Combo Pack of 02 Shoes for ...',\n",
       " 'Kor Sneakers For Men',\n",
       " 'Comfortable & Smart Sneakers For Men',\n",
       " 'casual for men Sneakers For Men',\n",
       " 'Fashionable sneaker casual shoes Sneakers For Men',\n",
       " 'Men White Sneakers Sneakers For Men',\n",
       " 'Sneakers For Men',\n",
       " 'casual shoe for men Sneakers For Men',\n",
       " 'Sneakers For Men',\n",
       " 'Birde Trendy Casual Shoes Sneakers For Men',\n",
       " 'Casual Sneakers Shoes For Men Sneakers For Men Sneakers...',\n",
       " 'Combo Men Pack of 2 Loafers Shoes Sneakers For Men',\n",
       " 'Combo Pack of 5 Casual Shoes Sneakers For Men',\n",
       " 'Smart Casuals Canvas Shoes Combo pack of 2 Sneakers For...',\n",
       " 'HHM Sneakers For Men',\n",
       " 'Combo Pack of 2 Casual Shoes Sneakers For Men',\n",
       " 'SM-675 Sneakers For Men',\n",
       " 'Sneakers For Men',\n",
       " 'Sneakers For Men',\n",
       " 'Casual Sneakers Shoes For Men Sneakers For Men',\n",
       " \"Casual , Partywear Sneakers Shoes For Men's And Boys Wh...\",\n",
       " \"Men's Stylish Casual Shoes Sneakers For Men\",\n",
       " 'luxury fashionable casual shoes Sneakers For Men',\n",
       " 'Lightweight Pack Of 1 Trendy Sneakers Sneakers Sneakers...',\n",
       " 'Sneakers For Men',\n",
       " 'Casual Sneakers White Shoes For Men And Boys Sneakers F...',\n",
       " 'Raptor Sneakers For Men',\n",
       " 'SM439G Sneakers For Men',\n",
       " 'SM-322 Sneakers For Men',\n",
       " \"Casual shoes,Sneakers for men's,shoes for men's Sneaker...\",\n",
       " 'Extraordinary, Shapeless,High Performance, Sports Shoes...',\n",
       " 'Sneakers For Men',\n",
       " 'Fashion Outdoor Canvas Casual Light Weight Lace-up Even...',\n",
       " 'Sneakers For Men',\n",
       " 'Comfortable & Ultra Light Weight Sneaker Sneakers For M...',\n",
       " 'Fashion Outdoor Canvas Casual Light Weight Lace-up Even...',\n",
       " 'Men 5014 Latest Collection Stylish Casual Sports Loafer...',\n",
       " 'Modern & Trendy Collection Combo Pack of 02 Shoes for M...',\n",
       " 'Sneakers For Men',\n",
       " 'Birde Trendy Casual Shoes Sneakers For Men',\n",
       " 'Unique & Perfect Collection Combo Pack of 02 Shoes for ...',\n",
       " 'Kor Sneakers For Men',\n",
       " 'Comfortable & Smart Sneakers For Men',\n",
       " 'casual for men Sneakers For Men',\n",
       " 'Fashionable sneaker casual shoes Sneakers For Men',\n",
       " 'Men White Sneakers Sneakers For Men',\n",
       " 'Sneakers For Men',\n",
       " 'casual shoe for men Sneakers For Men',\n",
       " 'Sneakers For Men',\n",
       " 'Birde Trendy Casual Shoes Sneakers For Men',\n",
       " 'Casual Sneakers Shoes For Men Sneakers For Men Sneakers...',\n",
       " 'Combo Men Pack of 2 Loafers Shoes Sneakers For Men',\n",
       " 'Combo Pack of 5 Casual Shoes Sneakers For Men',\n",
       " 'Smart Casuals Canvas Shoes Combo pack of 2 Sneakers For...',\n",
       " 'HHM Sneakers For Men',\n",
       " 'Combo Pack of 2 Casual Shoes Sneakers For Men',\n",
       " 'SM-675 Sneakers For Men',\n",
       " 'Sneakers For Men',\n",
       " 'Sneakers For Men',\n",
       " 'Casual Sneakers Shoes For Men Sneakers For Men',\n",
       " \"Casual , Partywear Sneakers Shoes For Men's And Boys Wh...\",\n",
       " \"Men's Stylish Casual Shoes Sneakers For Men\",\n",
       " 'luxury fashionable casual shoes Sneakers For Men',\n",
       " 'Lightweight Pack Of 1 Trendy Sneakers Sneakers Sneakers...',\n",
       " 'Sneakers For Men',\n",
       " 'Casual Sneakers White Shoes For Men And Boys Sneakers F...',\n",
       " 'Raptor Sneakers For Men']"
      ]
     },
     "execution_count": 174,
     "metadata": {},
     "output_type": "execute_result"
    }
   ],
   "source": [
    "Product_des=[]\n",
    "for i in range(0,3):\n",
    "    try:\n",
    "        product_des=driver.find_elements_by_xpath(\"//a[starts-with(@class,'IRpwTa')]\")\n",
    "        for i in product_des:\n",
    "            Product_des.append(i.text)\n",
    "    except:\n",
    "        Product_des.append(\"-\")\n",
    "next_button=driver.find_element_by_xpath(\"//a[@class='_1LKTO3']//span\")\n",
    "if next_button.text==\"NEXT\":\n",
    "    next_button.click()\n",
    "    \n",
    "Product_des"
   ]
  },
  {
   "cell_type": "code",
   "execution_count": 175,
   "metadata": {},
   "outputs": [
    {
     "data": {
      "text/html": [
       "<div>\n",
       "<style scoped>\n",
       "    .dataframe tbody tr th:only-of-type {\n",
       "        vertical-align: middle;\n",
       "    }\n",
       "\n",
       "    .dataframe tbody tr th {\n",
       "        vertical-align: top;\n",
       "    }\n",
       "\n",
       "    .dataframe thead th {\n",
       "        text-align: right;\n",
       "    }\n",
       "</style>\n",
       "<table border=\"1\" class=\"dataframe\">\n",
       "  <thead>\n",
       "    <tr style=\"text-align: right;\">\n",
       "      <th></th>\n",
       "      <th>Brand</th>\n",
       "      <th>Price</th>\n",
       "      <th>Discount</th>\n",
       "      <th>Product_des</th>\n",
       "    </tr>\n",
       "  </thead>\n",
       "  <tbody>\n",
       "    <tr>\n",
       "      <th>0</th>\n",
       "      <td>SPARX</td>\n",
       "      <td>₹649</td>\n",
       "      <td>7% off</td>\n",
       "      <td>SM439G Sneakers For Men</td>\n",
       "    </tr>\n",
       "    <tr>\n",
       "      <th>1</th>\n",
       "      <td>SPARX</td>\n",
       "      <td>₹769</td>\n",
       "      <td>23% off</td>\n",
       "      <td>SM-322 Sneakers For Men</td>\n",
       "    </tr>\n",
       "    <tr>\n",
       "      <th>2</th>\n",
       "      <td>restinfoot</td>\n",
       "      <td>₹349</td>\n",
       "      <td>65% off</td>\n",
       "      <td>Casual shoes,Sneakers for men's,shoes for men'...</td>\n",
       "    </tr>\n",
       "    <tr>\n",
       "      <th>3</th>\n",
       "      <td>RONSON</td>\n",
       "      <td>₹499</td>\n",
       "      <td>75% off</td>\n",
       "      <td>Extraordinary, Shapeless,High Performance, Spo...</td>\n",
       "    </tr>\n",
       "    <tr>\n",
       "      <th>4</th>\n",
       "      <td>VIPSJAZZY</td>\n",
       "      <td>₹379</td>\n",
       "      <td>62% off</td>\n",
       "      <td>Sneakers For Men</td>\n",
       "    </tr>\n",
       "    <tr>\n",
       "      <th>...</th>\n",
       "      <td>...</td>\n",
       "      <td>...</td>\n",
       "      <td>...</td>\n",
       "      <td>...</td>\n",
       "    </tr>\n",
       "    <tr>\n",
       "      <th>95</th>\n",
       "      <td>LE GREEM</td>\n",
       "      <td>₹474</td>\n",
       "      <td>52% off</td>\n",
       "      <td>Comfortable &amp; Smart Sneakers For Men</td>\n",
       "    </tr>\n",
       "    <tr>\n",
       "      <th>96</th>\n",
       "      <td>bluemaker</td>\n",
       "      <td>₹266</td>\n",
       "      <td>73% off</td>\n",
       "      <td>casual for men Sneakers For Men</td>\n",
       "    </tr>\n",
       "    <tr>\n",
       "      <th>97</th>\n",
       "      <td>India hub</td>\n",
       "      <td>₹404</td>\n",
       "      <td>59% off</td>\n",
       "      <td>Fashionable sneaker casual shoes Sneakers For Men</td>\n",
       "    </tr>\n",
       "    <tr>\n",
       "      <th>98</th>\n",
       "      <td>SPARX</td>\n",
       "      <td>₹474</td>\n",
       "      <td>52% off</td>\n",
       "      <td>Men White Sneakers Sneakers For Men</td>\n",
       "    </tr>\n",
       "    <tr>\n",
       "      <th>99</th>\n",
       "      <td>BAUCHHAAR</td>\n",
       "      <td>₹240</td>\n",
       "      <td>51% off</td>\n",
       "      <td>Sneakers For Men</td>\n",
       "    </tr>\n",
       "  </tbody>\n",
       "</table>\n",
       "<p>100 rows × 4 columns</p>\n",
       "</div>"
      ],
      "text/plain": [
       "         Brand Price Discount  \\\n",
       "0        SPARX  ₹649   7% off   \n",
       "1        SPARX  ₹769  23% off   \n",
       "2   restinfoot  ₹349  65% off   \n",
       "3       RONSON  ₹499  75% off   \n",
       "4    VIPSJAZZY  ₹379  62% off   \n",
       "..         ...   ...      ...   \n",
       "95    LE GREEM  ₹474  52% off   \n",
       "96   bluemaker  ₹266  73% off   \n",
       "97   India hub  ₹404  59% off   \n",
       "98       SPARX  ₹474  52% off   \n",
       "99   BAUCHHAAR  ₹240  51% off   \n",
       "\n",
       "                                          Product_des  \n",
       "0                             SM439G Sneakers For Men  \n",
       "1                             SM-322 Sneakers For Men  \n",
       "2   Casual shoes,Sneakers for men's,shoes for men'...  \n",
       "3   Extraordinary, Shapeless,High Performance, Spo...  \n",
       "4                                    Sneakers For Men  \n",
       "..                                                ...  \n",
       "95               Comfortable & Smart Sneakers For Men  \n",
       "96                    casual for men Sneakers For Men  \n",
       "97  Fashionable sneaker casual shoes Sneakers For Men  \n",
       "98                Men White Sneakers Sneakers For Men  \n",
       "99                                   Sneakers For Men  \n",
       "\n",
       "[100 rows x 4 columns]"
      ]
     },
     "execution_count": 175,
     "metadata": {},
     "output_type": "execute_result"
    }
   ],
   "source": [
    "sneakers=pd.DataFrame({})\n",
    "sneakers[\"Brand\"]=Brand[0:100]\n",
    "sneakers[\"Price\"]=Price[0:100]\n",
    "sneakers[\"Discount\"]=Discount[0:100]\n",
    "sneakers[\"Product_des\"]=Product_des[0:100]\n",
    "sneakers"
   ]
  },
  {
   "cell_type": "code",
   "execution_count": null,
   "metadata": {},
   "outputs": [],
   "source": []
  },
  {
   "cell_type": "markdown",
   "metadata": {},
   "source": [
    "# Q9"
   ]
  },
  {
   "cell_type": "code",
   "execution_count": 176,
   "metadata": {},
   "outputs": [],
   "source": [
    "driver = webdriver.Chrome(r\"C:\\Users\\hp\\Desktop\\Flip Robo\\chromedriver.exe\")"
   ]
  },
  {
   "cell_type": "code",
   "execution_count": 177,
   "metadata": {},
   "outputs": [],
   "source": [
    "url= \"https://www.myntra.com/shoes\"\n",
    "driver.get(url)"
   ]
  },
  {
   "cell_type": "code",
   "execution_count": 178,
   "metadata": {},
   "outputs": [],
   "source": [
    "fil_price=driver.find_element_by_xpath(\"//ul[@class='price-list']//li[2]\")\n",
    "fil_price\n",
    "fil_price.click()"
   ]
  },
  {
   "cell_type": "code",
   "execution_count": 179,
   "metadata": {},
   "outputs": [],
   "source": [
    "fil_color=driver.find_element_by_xpath(\"//li[@class='colour-listItem']//label\")\n",
    "fil_color\n",
    "fil_color.click()"
   ]
  },
  {
   "cell_type": "code",
   "execution_count": 180,
   "metadata": {},
   "outputs": [
    {
     "data": {
      "text/plain": [
       "['Puma',\n",
       " 'Puma',\n",
       " 'Hush Puppies',\n",
       " 'Hush Puppies',\n",
       " 'ROSSO BRUNELLO',\n",
       " 'Puma',\n",
       " 'Puma',\n",
       " 'Puma',\n",
       " 'Puma',\n",
       " 'UNDER ARMOUR',\n",
       " 'UNDER ARMOUR',\n",
       " 'Puma',\n",
       " 'Hush Puppies',\n",
       " 'Puma',\n",
       " 'Nike',\n",
       " 'Puma',\n",
       " 'Tommy Hilfiger',\n",
       " 'UNDER ARMOUR',\n",
       " 'UNDER ARMOUR',\n",
       " 'Hush Puppies',\n",
       " 'Tommy Hilfiger',\n",
       " 'Calvin Klein',\n",
       " 'FORCLAZ By Decathlon',\n",
       " 'UNDER ARMOUR',\n",
       " 'PUMA Motorsport',\n",
       " 'J.FONTINI',\n",
       " 'Hush Puppies',\n",
       " 'UNDER ARMOUR',\n",
       " 'ASICS',\n",
       " 'PUMA Motorsport',\n",
       " 'Quechua By Decathlon',\n",
       " 'Puma',\n",
       " 'Bugatti',\n",
       " 'ASICS',\n",
       " 'PUMA Hoops',\n",
       " 'Tommy Hilfiger',\n",
       " 'Puma',\n",
       " 'Puma',\n",
       " 'UNDER ARMOUR',\n",
       " 'Puma',\n",
       " 'PUMA Motorsport',\n",
       " 'Puma',\n",
       " 'PUMA Motorsport',\n",
       " 'J.FONTINI',\n",
       " 'ROSSO BRUNELLO',\n",
       " 'Geox',\n",
       " 'Saint G',\n",
       " 'Geox',\n",
       " 'ROSSO BRUNELLO',\n",
       " 'ASICS',\n",
       " 'Puma',\n",
       " 'Puma',\n",
       " 'Hush Puppies',\n",
       " 'Hush Puppies',\n",
       " 'ROSSO BRUNELLO',\n",
       " 'Puma',\n",
       " 'Puma',\n",
       " 'Puma',\n",
       " 'Puma',\n",
       " 'UNDER ARMOUR',\n",
       " 'UNDER ARMOUR',\n",
       " 'Puma',\n",
       " 'Hush Puppies',\n",
       " 'Puma',\n",
       " 'Nike',\n",
       " 'Puma',\n",
       " 'Tommy Hilfiger',\n",
       " 'UNDER ARMOUR',\n",
       " 'UNDER ARMOUR',\n",
       " 'Hush Puppies',\n",
       " 'Tommy Hilfiger',\n",
       " 'Calvin Klein',\n",
       " 'FORCLAZ By Decathlon',\n",
       " 'UNDER ARMOUR',\n",
       " 'PUMA Motorsport',\n",
       " 'J.FONTINI',\n",
       " 'Hush Puppies',\n",
       " 'UNDER ARMOUR',\n",
       " 'ASICS',\n",
       " 'PUMA Motorsport',\n",
       " 'Quechua By Decathlon',\n",
       " 'Puma',\n",
       " 'Bugatti',\n",
       " 'ASICS',\n",
       " 'PUMA Hoops',\n",
       " 'Tommy Hilfiger',\n",
       " 'Puma',\n",
       " 'Puma',\n",
       " 'UNDER ARMOUR',\n",
       " 'Puma',\n",
       " 'PUMA Motorsport',\n",
       " 'Puma',\n",
       " 'PUMA Motorsport',\n",
       " 'J.FONTINI',\n",
       " 'ROSSO BRUNELLO',\n",
       " 'Geox',\n",
       " 'Saint G',\n",
       " 'Geox',\n",
       " 'ROSSO BRUNELLO',\n",
       " 'ASICS']"
      ]
     },
     "execution_count": 180,
     "metadata": {},
     "output_type": "execute_result"
    }
   ],
   "source": [
    "Brand=[]\n",
    "for i in range(0,2):\n",
    "    try:\n",
    "       \n",
    "        brand=driver.find_elements_by_xpath(\"//h3[starts-with(@class,'product-brand')]\")\n",
    "        for i in brand:\n",
    "            Brand.append(i.text)\n",
    "    except:\n",
    "        Brand.append(\"-\")\n",
    "next_button=driver.find_element_by_xpath(\"//a[@rel='next']\")\n",
    "next_button.click()\n",
    "\n",
    "Brand"
   ]
  },
  {
   "cell_type": "code",
   "execution_count": 181,
   "metadata": {},
   "outputs": [
    {
     "data": {
      "text/plain": [
       "['Rs. 10999',\n",
       " 'Rs. 6990',\n",
       " 'Rs. 11999',\n",
       " 'Rs. 9999',\n",
       " 'Rs. 7600',\n",
       " 'Rs. 6993',\n",
       " 'Rs. 7006',\n",
       " 'Rs. 6999',\n",
       " 'Rs. 6999',\n",
       " 'Rs. 7999',\n",
       " 'Rs. 9999',\n",
       " 'Rs. 7693',\n",
       " 'Rs. 12999',\n",
       " 'Rs. 11999',\n",
       " 'Rs. 10999',\n",
       " 'Rs. 7039',\n",
       " 'Rs. 7990',\n",
       " 'Rs. 7990',\n",
       " 'Rs. 7990',\n",
       " 'Rs. 7773',\n",
       " 'Rs. 10399',\n",
       " 'Rs. 10295',\n",
       " 'Rs. 7499',\n",
       " 'Rs. 8999',\n",
       " 'Rs. 12999',\n",
       " 'Rs. 9093',\n",
       " 'Rs. 7999',\n",
       " 'Rs. 9999',\n",
       " 'Rs. 7199',\n",
       " 'Rs. 8999',\n",
       " 'Rs. 8999',\n",
       " 'Rs. 8900',\n",
       " 'Rs. 6993',\n",
       " 'Rs. 8500',\n",
       " 'Rs. 8000',\n",
       " 'Rs. 10493',\n",
       " 'Rs. 7192',\n",
       " 'Rs. 11242',\n",
       " 'Rs. 6990',\n",
       " 'Rs. 10999',\n",
       " 'Rs. 11999',\n",
       " 'Rs. 11999',\n",
       " 'Rs. 9999',\n",
       " 'Rs. 6995',\n",
       " 'Rs. 7992',\n",
       " 'Rs. 7599',\n",
       " 'Rs. 8990',\n",
       " 'Rs. 7192',\n",
       " 'Rs. 7999',\n",
       " 'Rs. 6999',\n",
       " 'Rs. 10999',\n",
       " 'Rs. 6990',\n",
       " 'Rs. 11999',\n",
       " 'Rs. 9999',\n",
       " 'Rs. 7600',\n",
       " 'Rs. 6993',\n",
       " 'Rs. 7006',\n",
       " 'Rs. 6999',\n",
       " 'Rs. 6999',\n",
       " 'Rs. 7999',\n",
       " 'Rs. 9999',\n",
       " 'Rs. 7693',\n",
       " 'Rs. 12999',\n",
       " 'Rs. 11999',\n",
       " 'Rs. 10999',\n",
       " 'Rs. 7039',\n",
       " 'Rs. 7990',\n",
       " 'Rs. 7990',\n",
       " 'Rs. 7990',\n",
       " 'Rs. 7773',\n",
       " 'Rs. 10399',\n",
       " 'Rs. 10295',\n",
       " 'Rs. 7499',\n",
       " 'Rs. 8999',\n",
       " 'Rs. 12999',\n",
       " 'Rs. 9093',\n",
       " 'Rs. 7999',\n",
       " 'Rs. 9999',\n",
       " 'Rs. 7199',\n",
       " 'Rs. 8999',\n",
       " 'Rs. 8999',\n",
       " 'Rs. 8900',\n",
       " 'Rs. 6993',\n",
       " 'Rs. 8500',\n",
       " 'Rs. 8000',\n",
       " 'Rs. 10493',\n",
       " 'Rs. 7192',\n",
       " 'Rs. 11242',\n",
       " 'Rs. 6990',\n",
       " 'Rs. 10999',\n",
       " 'Rs. 11999',\n",
       " 'Rs. 11999',\n",
       " 'Rs. 9999',\n",
       " 'Rs. 6995',\n",
       " 'Rs. 7992',\n",
       " 'Rs. 7599',\n",
       " 'Rs. 8990',\n",
       " 'Rs. 7192',\n",
       " 'Rs. 7999',\n",
       " 'Rs. 6999']"
      ]
     },
     "execution_count": 181,
     "metadata": {},
     "output_type": "execute_result"
    }
   ],
   "source": [
    "Price=[]\n",
    "for i in range(0,2):\n",
    "    try:\n",
    "        price=driver.find_elements_by_xpath(\"//div[starts-with(@class,'product-price')]\")\n",
    "        for i in price:\n",
    "            value = i.text\n",
    "            if value.count(\"Rs\")==2 :\n",
    "                index = value.rindex(\"Rs\")\n",
    "                temp=value[:index]\n",
    "                Price.append(temp)\n",
    "            else:\n",
    "                Price.append(value)\n",
    "    except:\n",
    "        Price.append(\"-\")\n",
    "next_button=driver.find_element_by_xpath(\"//a[@rel='next']\")\n",
    "next_button.click()\n",
    "\n",
    "Price"
   ]
  },
  {
   "cell_type": "code",
   "execution_count": 183,
   "metadata": {},
   "outputs": [
    {
     "data": {
      "text/plain": [
       "['Men Leather Formal Derbys',\n",
       " 'Unisex Mercedes F1 Roma',\n",
       " 'Women Jammers- Cool Block',\n",
       " '',\n",
       " 'BMW MMS City Rider Sneakers',\n",
       " 'Men Leather Chelsea Boots',\n",
       " 'Men Lightstrike Go Running',\n",
       " 'Unisex BMW M Ridge Sneakers',\n",
       " 'Men Court Jam Bounce Tennis',\n",
       " 'Women Provoke XT FTR Trainers',\n",
       " 'Women Eternity NITRO Shoes',\n",
       " 'Women Magnify Nitro Shoes',\n",
       " 'Women NOVABLAST Shoes',\n",
       " 'Unisex Suede The Cat Trainers',\n",
       " 'Men EvoRide TOKYO Shoes',\n",
       " 'Leather High-Top Platform Peep Toes',\n",
       " 'Unisex Patent Leather Flat Boots',\n",
       " 'Men Solid Leather Formal Brogues',\n",
       " 'Men Solid Leather Formal Brogues',\n",
       " 'Women PRONOUNCE May Sneakers',\n",
       " 'Men Solid Leather Formal Derbys',\n",
       " 'Leather Wedge Heels',\n",
       " 'Men Textured Leather Formal Loafers',\n",
       " 'Women Fuse Training Shoes',\n",
       " 'Women Lola Wedges',\n",
       " 'Women HOVR Infinite Running',\n",
       " 'Women Leather Open Toe Flats',\n",
       " 'Women Marillia Natural Leather Flats',\n",
       " 'Women Arizona Oiled Leather Flats',\n",
       " 'Men Leather Sneakers',\n",
       " 'Men Leather Flat Boots',\n",
       " 'Men Textured Leather Formal Derbys',\n",
       " 'Men Leather Formal Slip-Ons',\n",
       " 'Men HOVR Sonic 4 Running Shoes',\n",
       " 'Men Charged Rogue 2.5 RFLCT',\n",
       " 'Men Charged Commit 3 Training',\n",
       " 'Unisex Project Rock Recruit',\n",
       " 'Men Leather Mules',\n",
       " 'Men Solid Leather Formal Loafers',\n",
       " 'Ustraa black',\n",
       " 'Women HOVR Apex 2 Training',\n",
       " 'Men Solid Leather Formal Monk Shoes',\n",
       " 'Men Leather Formal Brogues',\n",
       " 'Printed Leather Kitten Sandals',\n",
       " 'Men Leather Formal Derbys',\n",
       " 'Solid Leather Formal Shoes',\n",
       " 'Men Leather Formal Loafers',\n",
       " 'Women Perforations Sneakers',\n",
       " 'Women HOVR Sonic 4 Colorshift',\n",
       " 'Men Leather Driving Shoes',\n",
       " 'Men Leather Formal Derbys',\n",
       " 'Unisex Mercedes F1 Roma',\n",
       " 'Women Jammers- Cool Block',\n",
       " '',\n",
       " 'BMW MMS City Rider Sneakers',\n",
       " 'Men Leather Chelsea Boots',\n",
       " 'Men Lightstrike Go Running',\n",
       " 'Unisex BMW M Ridge Sneakers',\n",
       " 'Men Court Jam Bounce Tennis',\n",
       " 'Women Provoke XT FTR Trainers',\n",
       " 'Women Eternity NITRO Shoes',\n",
       " 'Women Magnify Nitro Shoes',\n",
       " 'Women NOVABLAST Shoes',\n",
       " 'Unisex Suede The Cat Trainers',\n",
       " 'Men EvoRide TOKYO Shoes',\n",
       " 'Leather High-Top Platform Peep Toes',\n",
       " 'Unisex Patent Leather Flat Boots',\n",
       " 'Men Solid Leather Formal Brogues',\n",
       " 'Men Solid Leather Formal Brogues',\n",
       " 'Women PRONOUNCE May Sneakers',\n",
       " 'Men Solid Leather Formal Derbys',\n",
       " 'Leather Wedge Heels',\n",
       " 'Men Textured Leather Formal Loafers',\n",
       " 'Women Fuse Training Shoes',\n",
       " 'Women Lola Wedges',\n",
       " 'Women HOVR Infinite Running',\n",
       " 'Women Leather Open Toe Flats',\n",
       " 'Women Marillia Natural Leather Flats',\n",
       " 'Women Arizona Oiled Leather Flats',\n",
       " 'Men Leather Sneakers',\n",
       " 'Men Leather Flat Boots',\n",
       " 'Men Textured Leather Formal Derbys',\n",
       " 'Men Leather Formal Slip-Ons',\n",
       " 'Men HOVR Sonic 4 Running Shoes',\n",
       " 'Men Charged Rogue 2.5 RFLCT',\n",
       " 'Men Charged Commit 3 Training',\n",
       " 'Unisex Project Rock Recruit',\n",
       " 'Men Leather Mules',\n",
       " 'Men Solid Leather Formal Loafers',\n",
       " 'Ustraa black',\n",
       " 'Women HOVR Apex 2 Training',\n",
       " 'Men Solid Leather Formal Monk Shoes',\n",
       " 'Men Leather Formal Brogues',\n",
       " 'Printed Leather Kitten Sandals',\n",
       " 'Men Leather Formal Derbys',\n",
       " 'Solid Leather Formal Shoes',\n",
       " 'Men Leather Formal Loafers',\n",
       " 'Women Perforations Sneakers',\n",
       " 'Women HOVR Sonic 4 Colorshift',\n",
       " 'Men Leather Driving Shoes']"
      ]
     },
     "execution_count": 183,
     "metadata": {},
     "output_type": "execute_result"
    }
   ],
   "source": [
    "Product_des=[]\n",
    "for i in range(0,2):\n",
    "    try:\n",
    "        product_des=driver.find_elements_by_xpath(\"//h4[starts-with(@class,'product-product')]\")\n",
    "        for i in product_des:\n",
    "            Product_des.append(i.text)\n",
    "    except:\n",
    "        Product_des.append(\"-\")\n",
    "next_button=driver.find_element_by_xpath(\"//a[@rel='next']\")\n",
    "next_button.click()\n",
    "\n",
    "Product_des"
   ]
  },
  {
   "cell_type": "code",
   "execution_count": 184,
   "metadata": {},
   "outputs": [
    {
     "data": {
      "text/html": [
       "<div>\n",
       "<style scoped>\n",
       "    .dataframe tbody tr th:only-of-type {\n",
       "        vertical-align: middle;\n",
       "    }\n",
       "\n",
       "    .dataframe tbody tr th {\n",
       "        vertical-align: top;\n",
       "    }\n",
       "\n",
       "    .dataframe thead th {\n",
       "        text-align: right;\n",
       "    }\n",
       "</style>\n",
       "<table border=\"1\" class=\"dataframe\">\n",
       "  <thead>\n",
       "    <tr style=\"text-align: right;\">\n",
       "      <th></th>\n",
       "      <th>Brand</th>\n",
       "      <th>Product_Des</th>\n",
       "      <th>Price</th>\n",
       "    </tr>\n",
       "  </thead>\n",
       "  <tbody>\n",
       "    <tr>\n",
       "      <th>0</th>\n",
       "      <td>Puma</td>\n",
       "      <td>Men Leather Formal Derbys</td>\n",
       "      <td>Rs. 10999</td>\n",
       "    </tr>\n",
       "    <tr>\n",
       "      <th>1</th>\n",
       "      <td>Puma</td>\n",
       "      <td>Unisex Mercedes F1 Roma</td>\n",
       "      <td>Rs. 6990</td>\n",
       "    </tr>\n",
       "    <tr>\n",
       "      <th>2</th>\n",
       "      <td>Hush Puppies</td>\n",
       "      <td>Women Jammers- Cool Block</td>\n",
       "      <td>Rs. 11999</td>\n",
       "    </tr>\n",
       "    <tr>\n",
       "      <th>3</th>\n",
       "      <td>Hush Puppies</td>\n",
       "      <td></td>\n",
       "      <td>Rs. 9999</td>\n",
       "    </tr>\n",
       "    <tr>\n",
       "      <th>4</th>\n",
       "      <td>ROSSO BRUNELLO</td>\n",
       "      <td>BMW MMS City Rider Sneakers</td>\n",
       "      <td>Rs. 7600</td>\n",
       "    </tr>\n",
       "    <tr>\n",
       "      <th>...</th>\n",
       "      <td>...</td>\n",
       "      <td>...</td>\n",
       "      <td>...</td>\n",
       "    </tr>\n",
       "    <tr>\n",
       "      <th>95</th>\n",
       "      <td>Geox</td>\n",
       "      <td>Solid Leather Formal Shoes</td>\n",
       "      <td>Rs. 7599</td>\n",
       "    </tr>\n",
       "    <tr>\n",
       "      <th>96</th>\n",
       "      <td>Saint G</td>\n",
       "      <td>Men Leather Formal Loafers</td>\n",
       "      <td>Rs. 8990</td>\n",
       "    </tr>\n",
       "    <tr>\n",
       "      <th>97</th>\n",
       "      <td>Geox</td>\n",
       "      <td>Women Perforations Sneakers</td>\n",
       "      <td>Rs. 7192</td>\n",
       "    </tr>\n",
       "    <tr>\n",
       "      <th>98</th>\n",
       "      <td>ROSSO BRUNELLO</td>\n",
       "      <td>Women HOVR Sonic 4 Colorshift</td>\n",
       "      <td>Rs. 7999</td>\n",
       "    </tr>\n",
       "    <tr>\n",
       "      <th>99</th>\n",
       "      <td>ASICS</td>\n",
       "      <td>Men Leather Driving Shoes</td>\n",
       "      <td>Rs. 6999</td>\n",
       "    </tr>\n",
       "  </tbody>\n",
       "</table>\n",
       "<p>100 rows × 3 columns</p>\n",
       "</div>"
      ],
      "text/plain": [
       "             Brand                    Product_Des      Price\n",
       "0             Puma      Men Leather Formal Derbys  Rs. 10999\n",
       "1             Puma        Unisex Mercedes F1 Roma   Rs. 6990\n",
       "2     Hush Puppies      Women Jammers- Cool Block  Rs. 11999\n",
       "3     Hush Puppies                                  Rs. 9999\n",
       "4   ROSSO BRUNELLO    BMW MMS City Rider Sneakers   Rs. 7600\n",
       "..             ...                            ...        ...\n",
       "95            Geox     Solid Leather Formal Shoes   Rs. 7599\n",
       "96         Saint G     Men Leather Formal Loafers   Rs. 8990\n",
       "97            Geox    Women Perforations Sneakers   Rs. 7192\n",
       "98  ROSSO BRUNELLO  Women HOVR Sonic 4 Colorshift   Rs. 7999\n",
       "99           ASICS      Men Leather Driving Shoes   Rs. 6999\n",
       "\n",
       "[100 rows x 3 columns]"
      ]
     },
     "execution_count": 184,
     "metadata": {},
     "output_type": "execute_result"
    }
   ],
   "source": [
    "myntra=pd.DataFrame({})\n",
    "myntra[\"Brand\"]=Brand\n",
    "myntra[\"Product_Des\"]=Product_des\n",
    "myntra[\"Price\"]=Price\n",
    "myntra"
   ]
  },
  {
   "cell_type": "code",
   "execution_count": null,
   "metadata": {},
   "outputs": [],
   "source": []
  },
  {
   "cell_type": "markdown",
   "metadata": {},
   "source": [
    "# Q10"
   ]
  },
  {
   "cell_type": "code",
   "execution_count": 185,
   "metadata": {},
   "outputs": [],
   "source": [
    "driver = webdriver.Chrome(r\"C:\\Users\\hp\\Desktop\\Flip Robo\\chromedriver.exe\")"
   ]
  },
  {
   "cell_type": "code",
   "execution_count": 186,
   "metadata": {},
   "outputs": [],
   "source": [
    "url= \"https://www.amazon.in/\"\n",
    "driver.get(url)"
   ]
  },
  {
   "cell_type": "code",
   "execution_count": 187,
   "metadata": {},
   "outputs": [],
   "source": [
    "search_product= driver.find_element_by_id(\"twotabsearchtextbox\")\n",
    "search_product\n",
    "search_product.send_keys(\"Laptop\")"
   ]
  },
  {
   "cell_type": "code",
   "execution_count": 188,
   "metadata": {},
   "outputs": [],
   "source": [
    "search_btn=driver.find_element_by_id(\"nav-search-submit-button\")\n",
    "search_btn\n",
    "search_btn.click()"
   ]
  },
  {
   "cell_type": "code",
   "execution_count": 189,
   "metadata": {},
   "outputs": [],
   "source": [
    "filter_cpu=driver.find_element_by_xpath(\"//li[@id='p_n_feature_thirteen_browse-bin/12598163031']//div\")\n",
    "filter_cpu\n",
    "filter_cpu.click()"
   ]
  },
  {
   "cell_type": "code",
   "execution_count": 190,
   "metadata": {},
   "outputs": [],
   "source": [
    "filter_cpu1=driver.find_element_by_xpath(\"//li[@id='p_n_feature_thirteen_browse-bin/16757432031']//div\")\n",
    "filter_cpu1\n",
    "filter_cpu1.click()"
   ]
  },
  {
   "cell_type": "code",
   "execution_count": 191,
   "metadata": {},
   "outputs": [
    {
     "data": {
      "text/plain": [
       "['HP Envy 11th Gen Core i7 Processor 13.3-inch (33.78 cms) FHD Touchscreen Laptop (16GB/1TB SSD/Win 10/NVIDIA MX450 2GB/Natural Silver/1.3 kg), 13-ba1018TX',\n",
       " 'Mi Notebook Horizon Edition 14 Intel Core i7-10510U 10th Gen Thin and Light Laptop(8GB/512GB SSD/Windows 10/Nvidia MX350 2GB Graphics/Grey/1.35Kg)(Without Webcam) XMA1904-AF',\n",
       " 'Lenovo IdeaPad S540 11th Gen Intel Core i7 13.3\" QHD IPS Thin & Light Laptop (16GB/512GB SSD/Windows 10/MS Office 2019/Intel Iris Xe Graphics/Iron Grey/1.28Kg), 82H1002CIN',\n",
       " 'ASUS ROG G703GI-E5148T 17.3\" (43.94 cms) FHD 144Hz/3ms Gaming Laptop (8th Gen Intel Core i9-8950HK/64GB/2TB SSHD + 1.5TB NVMe SSD/Windows 10/GTX 1080 8GB Graphics/4.70 Kg), Aluminum',\n",
       " 'ASUS TUF Dash F15 (2021), 15.6-inch (39.62 cms) FHD 144Hz, Intel Core i7-11370H 11th Gen, RTX 3050 4GB Graphics Gaming Laptop (16GB RAM/512GB SSD/Windows 10/White/2 kg), FX516PC-HN062T',\n",
       " 'ASUS TUF Dash F15 (2021), 15.6-inch (39.62 cms) FHD 144Hz, Intel Core i7-11370H 11th Gen, RTX 3050 4GB Graphics Gaming Laptop (16GB RAM/512GB SSD/Windows 10/Gray/2 kg), FX516PC-HN063T',\n",
       " 'HP Pavilion 13(2021) 11th Gen Intel Core i7 Laptop, 16GB RAM, 1TB SSD, 13.3-inch(33.8 cm) FHD Screen, Win 10, MS Office, Ceramic White, 1.24 Kg (13-bb0078TU)',\n",
       " 'Fujitsu UH-X 11th Gen Intel Core i7 13.3” (33.78cm) FHD IPS 400Nits 2-in1 Touch Convertible Laptop (16GB/1TB SSD/Win10/Office/Iris Xe Graphics/Backlit Kb/Black/997gms), 4ZR1D71993',\n",
       " 'MSI GF75 Thin, Intel i7-10750H, 17.3\" (43.9 cm) FHD IPS-Level 144Hz Panel Laptop (8GB/512GB NVMe SSD/Windows 10 Home/Nvidia GTX1650 4GB GDDR6/Black/2.2Kg), 10SCXR-654IN',\n",
       " 'Lenovo IdeaPad Flex 5 11th Gen Intel Core i7 14\"(35.56cm) FHD IPS 2-in-1 Touchscreen Laptop(16GB/512GB SSD/Windows 10/MS Office/Lenovo Digital Pen/Fingerprint Reader/Graphite Grey/1.5Kg), 82HS0092IN']"
      ]
     },
     "execution_count": 191,
     "metadata": {},
     "output_type": "execute_result"
    }
   ],
   "source": [
    "product_name=driver.find_elements_by_xpath(\"//div[@class='a-section a-spacing-none']//h2\")\n",
    "product_name\n",
    "Product_name= []\n",
    "for i in product_name[0:10]:\n",
    "    \n",
    "    Product_name.append(i.text)\n",
    "Product_name"
   ]
  },
  {
   "cell_type": "code",
   "execution_count": 192,
   "metadata": {},
   "outputs": [
    {
     "data": {
      "text/plain": [
       "['1,23,350',\n",
       " '57,990',\n",
       " '77,990',\n",
       " '5,56,524',\n",
       " '85,990',\n",
       " '84,990',\n",
       " '92,990',\n",
       " '1,07,990',\n",
       " '74,990',\n",
       " '98,500']"
      ]
     },
     "execution_count": 192,
     "metadata": {},
     "output_type": "execute_result"
    }
   ],
   "source": [
    "price=driver.find_elements_by_xpath(\"//span[@class='a-price-whole']\")\n",
    "price\n",
    "Price= []\n",
    "for i in price[0:10]:\n",
    "    \n",
    "    Price.append(i.text)\n",
    "Price"
   ]
  },
  {
   "cell_type": "code",
   "execution_count": 217,
   "metadata": {},
   "outputs": [
    {
     "data": {
      "text/plain": [
       "['']"
      ]
     },
     "execution_count": 217,
     "metadata": {},
     "output_type": "execute_result"
    }
   ],
   "source": [
    "rating=driver.find_elements_by_xpath(\"//span[@class='a-size-medium a-color-base a-text-beside-button a-text-bold']\")\n",
    "rating\n",
    "Rating= []\n",
    "for i in rating[0:10]:\n",
    "    \n",
    "    Rating.append(i.text)\n",
    "Rating"
   ]
  },
  {
   "cell_type": "code",
   "execution_count": 216,
   "metadata": {},
   "outputs": [
    {
     "data": {
      "text/html": [
       "<div>\n",
       "<style scoped>\n",
       "    .dataframe tbody tr th:only-of-type {\n",
       "        vertical-align: middle;\n",
       "    }\n",
       "\n",
       "    .dataframe tbody tr th {\n",
       "        vertical-align: top;\n",
       "    }\n",
       "\n",
       "    .dataframe thead th {\n",
       "        text-align: right;\n",
       "    }\n",
       "</style>\n",
       "<table border=\"1\" class=\"dataframe\">\n",
       "  <thead>\n",
       "    <tr style=\"text-align: right;\">\n",
       "      <th></th>\n",
       "      <th>Product_name</th>\n",
       "      <th>Price</th>\n",
       "    </tr>\n",
       "  </thead>\n",
       "  <tbody>\n",
       "    <tr>\n",
       "      <th>0</th>\n",
       "      <td>HP Envy 11th Gen Core i7 Processor 13.3-inch (...</td>\n",
       "      <td>1,23,350</td>\n",
       "    </tr>\n",
       "    <tr>\n",
       "      <th>1</th>\n",
       "      <td>Mi Notebook Horizon Edition 14 Intel Core i7-1...</td>\n",
       "      <td>57,990</td>\n",
       "    </tr>\n",
       "    <tr>\n",
       "      <th>2</th>\n",
       "      <td>Lenovo IdeaPad S540 11th Gen Intel Core i7 13....</td>\n",
       "      <td>77,990</td>\n",
       "    </tr>\n",
       "    <tr>\n",
       "      <th>3</th>\n",
       "      <td>ASUS ROG G703GI-E5148T 17.3\" (43.94 cms) FHD 1...</td>\n",
       "      <td>5,56,524</td>\n",
       "    </tr>\n",
       "    <tr>\n",
       "      <th>4</th>\n",
       "      <td>ASUS TUF Dash F15 (2021), 15.6-inch (39.62 cms...</td>\n",
       "      <td>85,990</td>\n",
       "    </tr>\n",
       "    <tr>\n",
       "      <th>5</th>\n",
       "      <td>ASUS TUF Dash F15 (2021), 15.6-inch (39.62 cms...</td>\n",
       "      <td>84,990</td>\n",
       "    </tr>\n",
       "    <tr>\n",
       "      <th>6</th>\n",
       "      <td>HP Pavilion 13(2021) 11th Gen Intel Core i7 La...</td>\n",
       "      <td>92,990</td>\n",
       "    </tr>\n",
       "    <tr>\n",
       "      <th>7</th>\n",
       "      <td>Fujitsu UH-X 11th Gen Intel Core i7 13.3” (33....</td>\n",
       "      <td>1,07,990</td>\n",
       "    </tr>\n",
       "    <tr>\n",
       "      <th>8</th>\n",
       "      <td>MSI GF75 Thin, Intel i7-10750H, 17.3\" (43.9 cm...</td>\n",
       "      <td>74,990</td>\n",
       "    </tr>\n",
       "    <tr>\n",
       "      <th>9</th>\n",
       "      <td>Lenovo IdeaPad Flex 5 11th Gen Intel Core i7 1...</td>\n",
       "      <td>98,500</td>\n",
       "    </tr>\n",
       "  </tbody>\n",
       "</table>\n",
       "</div>"
      ],
      "text/plain": [
       "                                        Product_name     Price\n",
       "0  HP Envy 11th Gen Core i7 Processor 13.3-inch (...  1,23,350\n",
       "1  Mi Notebook Horizon Edition 14 Intel Core i7-1...    57,990\n",
       "2  Lenovo IdeaPad S540 11th Gen Intel Core i7 13....    77,990\n",
       "3  ASUS ROG G703GI-E5148T 17.3\" (43.94 cms) FHD 1...  5,56,524\n",
       "4  ASUS TUF Dash F15 (2021), 15.6-inch (39.62 cms...    85,990\n",
       "5  ASUS TUF Dash F15 (2021), 15.6-inch (39.62 cms...    84,990\n",
       "6  HP Pavilion 13(2021) 11th Gen Intel Core i7 La...    92,990\n",
       "7  Fujitsu UH-X 11th Gen Intel Core i7 13.3” (33....  1,07,990\n",
       "8  MSI GF75 Thin, Intel i7-10750H, 17.3\" (43.9 cm...    74,990\n",
       "9  Lenovo IdeaPad Flex 5 11th Gen Intel Core i7 1...    98,500"
      ]
     },
     "execution_count": 216,
     "metadata": {},
     "output_type": "execute_result"
    }
   ],
   "source": [
    "amazon=pd.DataFrame({})\n",
    "amazon['Product_name']=Product_name\n",
    "amazon['Price']=Price\n",
    "amazon"
   ]
  },
  {
   "cell_type": "markdown",
   "metadata": {},
   "source": [
    "Note able to scrap Ratings."
   ]
  },
  {
   "cell_type": "markdown",
   "metadata": {},
   "source": [
    "# Q7\n"
   ]
  },
  {
   "cell_type": "code",
   "execution_count": 226,
   "metadata": {},
   "outputs": [],
   "source": [
    "driver = webdriver.Chrome(r\"C:\\Users\\hp\\Desktop\\Flip Robo\\chromedriver.exe\")"
   ]
  },
  {
   "cell_type": "code",
   "execution_count": 238,
   "metadata": {},
   "outputs": [],
   "source": [
    "url=\"https://www.flipkart.com/apple-iphone-11-black-64-gb-includes-earpods-power-adapter/p/itm0f37c2240b217?pid=MOBFKCTSVZAXUHGR&lid=LSTMOBFKCTSVZAXUHGREPBFGI&marketplace\"\n",
    "driver.get(url)"
   ]
  },
  {
   "cell_type": "code",
   "execution_count": 239,
   "metadata": {},
   "outputs": [],
   "source": [
    "viewall = driver.find_element_by_xpath('/html/body/div[1]/div/div[3]/div[1]/div[2]/div[9]/div/div/div[5]/div/a/div/span')\n",
    "viewall.click()"
   ]
  },
  {
   "cell_type": "code",
   "execution_count": 240,
   "metadata": {},
   "outputs": [],
   "source": [
    "Rating=[]\n",
    "Review_summary=[]\n",
    "Full_review=[]"
   ]
  },
  {
   "cell_type": "code",
   "execution_count": 241,
   "metadata": {},
   "outputs": [],
   "source": [
    "Review_summary_tag = driver.find_elements_by_xpath(\"//p[@class='_2-N8zT']\")\n",
    "Rating_tag = driver.find_elements_by_xpath(\"//div[@class='_3LWZlK _1BLPMq']\")\n",
    "Full_review_tag = driver.find_elements_by_xpath(\"//div[@class='t-ZTKy']\")\n",
    "    \n",
    "\n",
    "for r in Review_summary_tag:\n",
    "    Review_summary.append(r.text)\n",
    "for j in Rating_tag :\n",
    "    Rating.append(j.text)\n",
    "for k in Full_review_tag:\n",
    "    Full_review.append(k.text.replace(\"\\n\",\" \"))"
   ]
  },
  {
   "cell_type": "code",
   "execution_count": 242,
   "metadata": {},
   "outputs": [],
   "source": [
    "import time"
   ]
  },
  {
   "cell_type": "code",
   "execution_count": 244,
   "metadata": {},
   "outputs": [],
   "source": [
    "i=0\n",
    "nextbtn = driver.find_element_by_class_name('_1LKTO3')\n",
    "while(i<10):\n",
    "    try:\n",
    "        nextbtn.click()\n",
    "    except:\n",
    "        pass\n",
    "    \n",
    "    time.sleep(3)\n",
    "    Review_summary_tag = driver.find_elements_by_xpath(\"//p[@class='_2-N8zT']\")\n",
    "    Rating_tag = driver.find_elements_by_xpath(\"//div[@class='_3LWZlK _1BLPMq']\")\n",
    "    Full_review_tag = driver.find_elements_by_xpath(\"//div[@class='t-ZTKy']\")\n",
    "    for r in Review_summary_tag:\n",
    "        try:\n",
    "            Review_summary.append(r.text)\n",
    "        except:\n",
    "            pass\n",
    "    for j in Rating_tag :\n",
    "        try:\n",
    "            Rating.append(j.text)\n",
    "        except:\n",
    "            pass\n",
    "    for k in Full_review_tag:\n",
    "        try:\n",
    "            Full_review.append(k.text.replace(\"\\n\",\" \"))\n",
    "        except:\n",
    "            pass\n",
    "    \n",
    "    i=i+1"
   ]
  },
  {
   "cell_type": "code",
   "execution_count": 245,
   "metadata": {},
   "outputs": [
    {
     "data": {
      "text/html": [
       "<div>\n",
       "<style scoped>\n",
       "    .dataframe tbody tr th:only-of-type {\n",
       "        vertical-align: middle;\n",
       "    }\n",
       "\n",
       "    .dataframe tbody tr th {\n",
       "        vertical-align: top;\n",
       "    }\n",
       "\n",
       "    .dataframe thead th {\n",
       "        text-align: right;\n",
       "    }\n",
       "</style>\n",
       "<table border=\"1\" class=\"dataframe\">\n",
       "  <thead>\n",
       "    <tr style=\"text-align: right;\">\n",
       "      <th></th>\n",
       "      <th>Rating</th>\n",
       "      <th>Review_Summary</th>\n",
       "      <th>Full_Review</th>\n",
       "    </tr>\n",
       "  </thead>\n",
       "  <tbody>\n",
       "    <tr>\n",
       "      <th>0</th>\n",
       "      <td>5</td>\n",
       "      <td>Brilliant</td>\n",
       "      <td>The Best Phone for the Money  The iPhone 11 of...</td>\n",
       "    </tr>\n",
       "    <tr>\n",
       "      <th>1</th>\n",
       "      <td>5</td>\n",
       "      <td>Simply awesome</td>\n",
       "      <td>Really satisfied with the Product I received.....</td>\n",
       "    </tr>\n",
       "    <tr>\n",
       "      <th>2</th>\n",
       "      <td>5</td>\n",
       "      <td>Best in the market!</td>\n",
       "      <td>Great iPhone very snappy experience as apple k...</td>\n",
       "    </tr>\n",
       "    <tr>\n",
       "      <th>3</th>\n",
       "      <td>5</td>\n",
       "      <td>Perfect product!</td>\n",
       "      <td>Amazing phone with great cameras and better ba...</td>\n",
       "    </tr>\n",
       "    <tr>\n",
       "      <th>4</th>\n",
       "      <td>5</td>\n",
       "      <td>Fabulous!</td>\n",
       "      <td>This is my first iOS phone. I am very happy wi...</td>\n",
       "    </tr>\n",
       "    <tr>\n",
       "      <th>...</th>\n",
       "      <td>...</td>\n",
       "      <td>...</td>\n",
       "      <td>...</td>\n",
       "    </tr>\n",
       "    <tr>\n",
       "      <th>205</th>\n",
       "      <td>5</td>\n",
       "      <td>Worth every penny</td>\n",
       "      <td>Previously I was using one plus 3t it was a gr...</td>\n",
       "    </tr>\n",
       "    <tr>\n",
       "      <th>206</th>\n",
       "      <td>5</td>\n",
       "      <td>Great product</td>\n",
       "      <td>Amazing Powerful and Durable Gadget.  I’m am v...</td>\n",
       "    </tr>\n",
       "    <tr>\n",
       "      <th>207</th>\n",
       "      <td>4</td>\n",
       "      <td>Good choice</td>\n",
       "      <td>So far it’s been an AMAZING experience coming ...</td>\n",
       "    </tr>\n",
       "    <tr>\n",
       "      <th>208</th>\n",
       "      <td>5</td>\n",
       "      <td>Worth every penny</td>\n",
       "      <td>i11 is worthy to buy, too much happy with the ...</td>\n",
       "    </tr>\n",
       "    <tr>\n",
       "      <th>209</th>\n",
       "      <td>5</td>\n",
       "      <td>Highly recommended</td>\n",
       "      <td>iphone 11 is a very good phone to buy only if ...</td>\n",
       "    </tr>\n",
       "  </tbody>\n",
       "</table>\n",
       "<p>210 rows × 3 columns</p>\n",
       "</div>"
      ],
      "text/plain": [
       "    Rating       Review_Summary  \\\n",
       "0        5            Brilliant   \n",
       "1        5       Simply awesome   \n",
       "2        5  Best in the market!   \n",
       "3        5     Perfect product!   \n",
       "4        5            Fabulous!   \n",
       "..     ...                  ...   \n",
       "205      5    Worth every penny   \n",
       "206      5        Great product   \n",
       "207      4          Good choice   \n",
       "208      5    Worth every penny   \n",
       "209      5   Highly recommended   \n",
       "\n",
       "                                           Full_Review  \n",
       "0    The Best Phone for the Money  The iPhone 11 of...  \n",
       "1    Really satisfied with the Product I received.....  \n",
       "2    Great iPhone very snappy experience as apple k...  \n",
       "3    Amazing phone with great cameras and better ba...  \n",
       "4    This is my first iOS phone. I am very happy wi...  \n",
       "..                                                 ...  \n",
       "205  Previously I was using one plus 3t it was a gr...  \n",
       "206  Amazing Powerful and Durable Gadget.  I’m am v...  \n",
       "207  So far it’s been an AMAZING experience coming ...  \n",
       "208  i11 is worthy to buy, too much happy with the ...  \n",
       "209  iphone 11 is a very good phone to buy only if ...  \n",
       "\n",
       "[210 rows x 3 columns]"
      ]
     },
     "execution_count": 245,
     "metadata": {},
     "output_type": "execute_result"
    }
   ],
   "source": [
    "iphone=pd.DataFrame({})\n",
    "iphone[\"Rating\"]=Rating\n",
    "iphone[\"Review_Summary\"]=Review_summary\n",
    "iphone[\"Full_Review\"]=Full_review\n",
    "iphone"
   ]
  },
  {
   "cell_type": "code",
   "execution_count": null,
   "metadata": {},
   "outputs": [],
   "source": []
  }
 ],
 "metadata": {
  "kernelspec": {
   "display_name": "Python 3",
   "language": "python",
   "name": "python3"
  },
  "language_info": {
   "codemirror_mode": {
    "name": "ipython",
    "version": 3
   },
   "file_extension": ".py",
   "mimetype": "text/x-python",
   "name": "python",
   "nbconvert_exporter": "python",
   "pygments_lexer": "ipython3",
   "version": "3.8.5"
  }
 },
 "nbformat": 4,
 "nbformat_minor": 4
}
